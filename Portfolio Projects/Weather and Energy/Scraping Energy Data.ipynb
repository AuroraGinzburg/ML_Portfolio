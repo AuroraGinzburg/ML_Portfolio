{
 "cells": [
  {
   "cell_type": "markdown",
   "id": "55238cd2-765a-417b-9f4f-6af11ec6bd5c",
   "metadata": {},
   "source": [
    "The `selenium.webdriver` module provdes all the WebDriver implementations, I am using the Chrome implementation.\n",
    "The `Keys` class provides all the keys in the keyboard."
   ]
  },
  {
   "cell_type": "code",
   "execution_count": 1,
   "id": "fc536f2f-4757-4319-b97a-55746fbea597",
   "metadata": {},
   "outputs": [],
   "source": [
    "from selenium import webdriver\n",
    "from selenium.webdriver.common.keys import Keys"
   ]
  },
  {
   "cell_type": "markdown",
   "id": "48adc1b2-7fd3-4400-a56e-4e32de13192c",
   "metadata": {},
   "source": [
    "Start Chromedriver"
   ]
  },
  {
   "cell_type": "code",
   "execution_count": null,
   "id": "3a399cfb-6fa4-42e7-8206-01135982ad79",
   "metadata": {},
   "outputs": [],
   "source": [
    "#Create an instance of the Chrome WebDriver\n",
    "driver = webdriver.Chrome('C:\\\\Users\\\\18053\\\\Desktop\\\\chromedriver')\n",
    "\n",
    "#Driver.get to navigate to a given page\n",
    "driver.get(\"http://www.caiso.com/TodaysOutlook/Pages/default.aspx\")"
   ]
  },
  {
   "cell_type": "code",
   "execution_count": null,
   "id": "f1635b39-d619-49df-8b38-a44bb64aa93d",
   "metadata": {},
   "outputs": [],
   "source": [
    "import pandas as pd\n",
    "import time\n",
    "import datetime\n",
    "import pprint\n",
    "from selenium.webdriver.common.by import By\n",
    "from selenium.webdriver.support.ui import WebDriverWait\n",
    "from selenium.webdriver.support import expected_conditions as EC"
   ]
  },
  {
   "cell_type": "markdown",
   "id": "8a42d2c3-01dd-4cb5-adef-2b082ebf155b",
   "metadata": {},
   "source": [
    "Set up date range to scrape from- earliest data on website is April 10 2018"
   ]
  },
  {
   "cell_type": "code",
   "execution_count": 3,
   "id": "f4b4c2d9-6f08-4876-80ee-07b40cfec7a9",
   "metadata": {},
   "outputs": [],
   "source": [
    "start_dt = datetime.datetime(2018,4,10)\n",
    "\n",
    "end_dt = datetime.datetime(2022,5,5)\n",
    "#technically today's data is incomplete but since I will be using the range function which is exclusive for the end value, ending today is fine\n"
   ]
  },
  {
   "cell_type": "markdown",
   "id": "9198870d-3a48-411d-9341-d4adfb9501a1",
   "metadata": {},
   "source": [
    "Create a list of the dates in the format of MM/DD/YYYY"
   ]
  },
  {
   "cell_type": "code",
   "execution_count": 4,
   "id": "8e226577-0918-4f1a-8bc6-310cf50aa01d",
   "metadata": {},
   "outputs": [],
   "source": [
    "dates = []\n",
    "for dt in pd.date_range(start_dt, end_dt):\n",
    "    dates.append(dt.strftime(\"%m/%d/%Y\"))"
   ]
  },
  {
   "cell_type": "markdown",
   "id": "89e92eb3-2627-482b-88c5-a1f5a42c6e11",
   "metadata": {},
   "source": [
    "Print the dates to make sure the for loop worked correctly. Printing them using `PrettyPrinter`"
   ]
  },
  {
   "cell_type": "code",
   "execution_count": 6,
   "id": "aa5d6a82-ad64-4355-9c37-1fc1178f1a2c",
   "metadata": {},
   "outputs": [],
   "source": [
    "#pp = pprint.PrettyPrinter(indent=4,compact=True)\n",
    "#pp.pprint(dates)"
   ]
  },
  {
   "cell_type": "markdown",
   "id": "fc4f8547-e523-4f05-ba3b-06b4091c2a17",
   "metadata": {},
   "source": [
    "Define a function to select a given date on the website"
   ]
  },
  {
   "cell_type": "code",
   "execution_count": 7,
   "id": "da21e457-711e-4c47-8e31-863a748ccd97",
   "metadata": {},
   "outputs": [],
   "source": [
    "def select_date(date,calendar_class):\n",
    "    \"\"\"\n",
    "    input date in 'MM/DD/YYYY' form, and calendar_class as 'demand-date' or 'net-demand-date'\n",
    "    \n",
    "    \"\"\"\n",
    "    \n",
    "    inputElement = driver.find_element(by=By.CLASS_NAME, value=calendar_class) \n",
    "    inputElement.clear()\n",
    "    inputElement.send_keys(date)\n",
    "    inputElement.send_keys(Keys.ENTER)"
   ]
  },
  {
   "cell_type": "code",
   "execution_count": 8,
   "id": "4500f90c-c181-4ee8-9845-f2c50fc2e249",
   "metadata": {},
   "outputs": [],
   "source": [
    "def download_file(button_id, hidden_button_id = ('','')):\n",
    "    \"\"\"Expecting the following:\n",
    "    button_id: downloadDemandCSV, downloadNetDemandCSV\n",
    "    Hidden_button_id: (dropdownMenu1,0), (dropdownMenu1,2)\n",
    "    button_id: actual download button, hidden button is the one hiding it.  Hidden index is optional index for hiding button.\"\"\"\n",
    "    \n",
    "    if hidden_button_id[0] !='':\n",
    "        if hidden_button_id[1]!='':\n",
    "            inputElement = driver.find_elements(by=By.ID, value=hidden_button_id[0])[hidden_button_id[1]]\n",
    "            inputElement.send_keys(Keys.ENTER)\n",
    "        else:\n",
    "            inputElement = driver.find_elements(by=By.ID, value=hidden_button_id[0])\n",
    "            inputElement.send_keys(Keys.ENTER)\n",
    "    wait = WebDriverWait(driver, 20)\n",
    "    downloadButton= wait.until(EC.element_to_be_clickable((By.ID,button_id)))\n",
    "    downloadButton.click()"
   ]
  },
  {
   "cell_type": "code",
   "execution_count": 9,
   "id": "1a27f3ad-5ccb-4e8e-a86c-50c61839c76a",
   "metadata": {},
   "outputs": [],
   "source": [
    "#hidden_button_id = ('dropdownMenu1',0)\n",
    "#inputElement = driver.find_elements(by=By.ID, value=hidden_button_id[0])\n",
    "#inputElement.send_keys(Keys.ENTER)\n",
    "#print(len(inputElement))"
   ]
  },
  {
   "cell_type": "code",
   "execution_count": 10,
   "id": "a62a8f95-21cc-4554-843a-6b924f0ea253",
   "metadata": {},
   "outputs": [],
   "source": [
    "def daterange(date1, date2):\n",
    "    for n in range(int ((date2 - date1).days)+1):\n",
    "        yield date1 + datetime.timedelta(n)"
   ]
  },
  {
   "cell_type": "code",
   "execution_count": null,
   "id": "ffc770fc-b849-414c-945e-e87e127d9122",
   "metadata": {},
   "outputs": [],
   "source": [
    "for dt in dates:\n",
    "    # select_date(dt,'form-control form-control-sm date demand-date')\n",
    "    select_date(dt,'demand-date')\n",
    "    print(dt)\n",
    "    download_file('downloadDemandCSV',('dropdownMenu1',0))\n",
    "    #select_date(dt,'net-demand-date')\n",
    "    #download_file('downloadNetDemandCSV',('dropdownMenu1',2))"
   ]
  },
  {
   "cell_type": "code",
   "execution_count": 12,
   "id": "301719fd-f2f3-4f22-b39a-43027c75735a",
   "metadata": {},
   "outputs": [],
   "source": [
    "driver.close()"
   ]
  }
 ],
 "metadata": {
  "kernelspec": {
   "display_name": "Python 3 (ipykernel)",
   "language": "python",
   "name": "python3"
  },
  "language_info": {
   "codemirror_mode": {
    "name": "ipython",
    "version": 3
   },
   "file_extension": ".py",
   "mimetype": "text/x-python",
   "name": "python",
   "nbconvert_exporter": "python",
   "pygments_lexer": "ipython3",
   "version": "3.9.12"
  }
 },
 "nbformat": 4,
 "nbformat_minor": 5
}
