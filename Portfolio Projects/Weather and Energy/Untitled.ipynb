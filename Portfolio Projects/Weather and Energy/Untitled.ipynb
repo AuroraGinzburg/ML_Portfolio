{
 "cells": [
  {
   "cell_type": "code",
   "execution_count": null,
   "id": "3ddb07d1-09f4-482a-b5ef-906fd1dda08b",
   "metadata": {},
   "outputs": [],
   "source": [
    "import matplotlib.pyplot as plt\n",
    "import geopandas\n",
    "ca = geopandas.read_file('CA_State_TIGER2016.shp')"
   ]
  },
  {
   "cell_type": "code",
   "execution_count": null,
   "id": "1f94cfd5-19b0-4cd4-bbe3-2da05a755e7f",
   "metadata": {},
   "outputs": [],
   "source": [
    "type(ca)"
   ]
  },
  {
   "cell_type": "code",
   "execution_count": null,
   "id": "2df05964-602e-43f5-8e74-f05d6d76fc81",
   "metadata": {},
   "outputs": [],
   "source": [
    "ca.head()"
   ]
  },
  {
   "cell_type": "code",
   "execution_count": null,
   "id": "905e413c-401e-47c8-a8f1-c756abffaba7",
   "metadata": {},
   "outputs": [],
   "source": [
    "ca.crs"
   ]
  },
  {
   "cell_type": "code",
   "execution_count": null,
   "id": "8cad3b41-fdc5-4f1a-a908-c83306dccd88",
   "metadata": {},
   "outputs": [],
   "source": [
    "ca = ca.to_crs(\"EPSG:4326\")"
   ]
  },
  {
   "cell_type": "code",
   "execution_count": null,
   "id": "9197aea7-2f50-4d43-a2d2-a7c70b85c799",
   "metadata": {},
   "outputs": [],
   "source": [
    "ca.plot()"
   ]
  }
 ],
 "metadata": {
  "kernelspec": {
   "display_name": "Python 3 (ipykernel)",
   "language": "python",
   "name": "python3"
  },
  "language_info": {
   "codemirror_mode": {
    "name": "ipython",
    "version": 3
   },
   "file_extension": ".py",
   "mimetype": "text/x-python",
   "name": "python",
   "nbconvert_exporter": "python",
   "pygments_lexer": "ipython3",
   "version": "3.9.12"
  }
 },
 "nbformat": 4,
 "nbformat_minor": 5
}
