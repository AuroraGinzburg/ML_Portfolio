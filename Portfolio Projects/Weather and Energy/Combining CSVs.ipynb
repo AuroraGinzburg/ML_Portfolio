{
 "cells": [
  {
   "cell_type": "code",
   "execution_count": 1,
   "id": "f7a02f1f-9877-4e65-b284-01d3ebf7fb4e",
   "metadata": {},
   "outputs": [],
   "source": [
    "import pandas as pd\n",
    "import glob\n",
    "import os"
   ]
  },
  {
   "cell_type": "code",
   "execution_count": 2,
   "id": "2d309cc0-06b9-41be-9147-cdc38c50bc6f",
   "metadata": {},
   "outputs": [
    {
     "data": {
      "text/plain": [
       "'C:\\\\Users\\\\18053\\\\Desktop\\\\Portfolio Projects\\\\Weather and Energy'"
      ]
     },
     "execution_count": 2,
     "metadata": {},
     "output_type": "execute_result"
    }
   ],
   "source": [
    "pwd"
   ]
  },
  {
   "cell_type": "code",
   "execution_count": 6,
   "id": "37a17269-e88f-454b-a20d-d8a246feeecf",
   "metadata": {},
   "outputs": [],
   "source": [
    "files = os.path.join('C:\\\\Users\\\\18053\\\\Desktop\\\\Portfolio Projects\\\\Weather and Energy\\\\Energy Demand Data', \"CAISO-demand-********.csv\")"
   ]
  },
  {
   "cell_type": "code",
   "execution_count": 7,
   "id": "e68640d1-5a6a-474c-8365-e88df819ebf1",
   "metadata": {},
   "outputs": [],
   "source": [
    "files=glob.glob(files)"
   ]
  },
  {
   "cell_type": "code",
   "execution_count": 17,
   "id": "bddea918-5591-4ed3-86e4-6c85ad4a69c8",
   "metadata": {},
   "outputs": [],
   "source": [
    "df=pd.concat(map(pd.read_csv, files))"
   ]
  },
  {
   "cell_type": "code",
   "execution_count": 18,
   "id": "63193533-7d60-4914-8187-a095e6d28f86",
   "metadata": {},
   "outputs": [
    {
     "data": {
      "text/html": [
       "<div>\n",
       "<style scoped>\n",
       "    .dataframe tbody tr th:only-of-type {\n",
       "        vertical-align: middle;\n",
       "    }\n",
       "\n",
       "    .dataframe tbody tr th {\n",
       "        vertical-align: top;\n",
       "    }\n",
       "\n",
       "    .dataframe thead th {\n",
       "        text-align: right;\n",
       "    }\n",
       "</style>\n",
       "<table border=\"1\" class=\"dataframe\">\n",
       "  <thead>\n",
       "    <tr style=\"text-align: right;\">\n",
       "      <th></th>\n",
       "      <th>Demand 08/17/2021</th>\n",
       "      <th>00:00</th>\n",
       "      <th>00:05</th>\n",
       "      <th>00:10</th>\n",
       "      <th>00:15</th>\n",
       "      <th>00:20</th>\n",
       "      <th>00:25</th>\n",
       "      <th>00:30</th>\n",
       "      <th>00:35</th>\n",
       "      <th>00:40</th>\n",
       "      <th>...</th>\n",
       "      <th>Demand 04/24/2022</th>\n",
       "      <th>Demand 04/25/2022</th>\n",
       "      <th>Demand 04/26/2022</th>\n",
       "      <th>Demand 04/27/2022</th>\n",
       "      <th>Demand 04/28/2022</th>\n",
       "      <th>Demand 04/29/2022</th>\n",
       "      <th>Demand 04/30/2022</th>\n",
       "      <th>Demand 05/01/2022</th>\n",
       "      <th>Demand 05/02/2022</th>\n",
       "      <th>Demand 05/03/2022</th>\n",
       "    </tr>\n",
       "  </thead>\n",
       "  <tbody>\n",
       "    <tr>\n",
       "      <th>0</th>\n",
       "      <td>Day-ahead forecast</td>\n",
       "      <td>31485</td>\n",
       "      <td>28424</td>\n",
       "      <td>28424</td>\n",
       "      <td>28424</td>\n",
       "      <td>28424</td>\n",
       "      <td>28424</td>\n",
       "      <td>28424</td>\n",
       "      <td>28424</td>\n",
       "      <td>28424</td>\n",
       "      <td>...</td>\n",
       "      <td>NaN</td>\n",
       "      <td>NaN</td>\n",
       "      <td>NaN</td>\n",
       "      <td>NaN</td>\n",
       "      <td>NaN</td>\n",
       "      <td>NaN</td>\n",
       "      <td>NaN</td>\n",
       "      <td>NaN</td>\n",
       "      <td>NaN</td>\n",
       "      <td>NaN</td>\n",
       "    </tr>\n",
       "    <tr>\n",
       "      <th>1</th>\n",
       "      <td>Hour-ahead forecast</td>\n",
       "      <td>29552</td>\n",
       "      <td>29086</td>\n",
       "      <td>29086</td>\n",
       "      <td>29086</td>\n",
       "      <td>28634</td>\n",
       "      <td>28634</td>\n",
       "      <td>28634</td>\n",
       "      <td>28315</td>\n",
       "      <td>28315</td>\n",
       "      <td>...</td>\n",
       "      <td>NaN</td>\n",
       "      <td>NaN</td>\n",
       "      <td>NaN</td>\n",
       "      <td>NaN</td>\n",
       "      <td>NaN</td>\n",
       "      <td>NaN</td>\n",
       "      <td>NaN</td>\n",
       "      <td>NaN</td>\n",
       "      <td>NaN</td>\n",
       "      <td>NaN</td>\n",
       "    </tr>\n",
       "    <tr>\n",
       "      <th>2</th>\n",
       "      <td>Demand</td>\n",
       "      <td>29496</td>\n",
       "      <td>29400</td>\n",
       "      <td>29302</td>\n",
       "      <td>29187</td>\n",
       "      <td>29111</td>\n",
       "      <td>29001</td>\n",
       "      <td>28869</td>\n",
       "      <td>28729</td>\n",
       "      <td>28605</td>\n",
       "      <td>...</td>\n",
       "      <td>NaN</td>\n",
       "      <td>NaN</td>\n",
       "      <td>NaN</td>\n",
       "      <td>NaN</td>\n",
       "      <td>NaN</td>\n",
       "      <td>NaN</td>\n",
       "      <td>NaN</td>\n",
       "      <td>NaN</td>\n",
       "      <td>NaN</td>\n",
       "      <td>NaN</td>\n",
       "    </tr>\n",
       "    <tr>\n",
       "      <th>0</th>\n",
       "      <td>Day-ahead forecast</td>\n",
       "      <td>31485</td>\n",
       "      <td>28424</td>\n",
       "      <td>28424</td>\n",
       "      <td>28424</td>\n",
       "      <td>28424</td>\n",
       "      <td>28424</td>\n",
       "      <td>28424</td>\n",
       "      <td>28424</td>\n",
       "      <td>28424</td>\n",
       "      <td>...</td>\n",
       "      <td>NaN</td>\n",
       "      <td>NaN</td>\n",
       "      <td>NaN</td>\n",
       "      <td>NaN</td>\n",
       "      <td>NaN</td>\n",
       "      <td>NaN</td>\n",
       "      <td>NaN</td>\n",
       "      <td>NaN</td>\n",
       "      <td>NaN</td>\n",
       "      <td>NaN</td>\n",
       "    </tr>\n",
       "    <tr>\n",
       "      <th>1</th>\n",
       "      <td>Hour-ahead forecast</td>\n",
       "      <td>29552</td>\n",
       "      <td>29086</td>\n",
       "      <td>29086</td>\n",
       "      <td>29086</td>\n",
       "      <td>28634</td>\n",
       "      <td>28634</td>\n",
       "      <td>28634</td>\n",
       "      <td>28315</td>\n",
       "      <td>28315</td>\n",
       "      <td>...</td>\n",
       "      <td>NaN</td>\n",
       "      <td>NaN</td>\n",
       "      <td>NaN</td>\n",
       "      <td>NaN</td>\n",
       "      <td>NaN</td>\n",
       "      <td>NaN</td>\n",
       "      <td>NaN</td>\n",
       "      <td>NaN</td>\n",
       "      <td>NaN</td>\n",
       "      <td>NaN</td>\n",
       "    </tr>\n",
       "  </tbody>\n",
       "</table>\n",
       "<p>5 rows × 549 columns</p>\n",
       "</div>"
      ],
      "text/plain": [
       "     Demand 08/17/2021  00:00  00:05  00:10  00:15  00:20  00:25  00:30  \\\n",
       "0   Day-ahead forecast  31485  28424  28424  28424  28424  28424  28424   \n",
       "1  Hour-ahead forecast  29552  29086  29086  29086  28634  28634  28634   \n",
       "2               Demand  29496  29400  29302  29187  29111  29001  28869   \n",
       "0   Day-ahead forecast  31485  28424  28424  28424  28424  28424  28424   \n",
       "1  Hour-ahead forecast  29552  29086  29086  29086  28634  28634  28634   \n",
       "\n",
       "   00:35  00:40  ...  Demand 04/24/2022  Demand 04/25/2022  Demand 04/26/2022  \\\n",
       "0  28424  28424  ...                NaN                NaN                NaN   \n",
       "1  28315  28315  ...                NaN                NaN                NaN   \n",
       "2  28729  28605  ...                NaN                NaN                NaN   \n",
       "0  28424  28424  ...                NaN                NaN                NaN   \n",
       "1  28315  28315  ...                NaN                NaN                NaN   \n",
       "\n",
       "   Demand 04/27/2022  Demand 04/28/2022  Demand 04/29/2022  Demand 04/30/2022  \\\n",
       "0                NaN                NaN                NaN                NaN   \n",
       "1                NaN                NaN                NaN                NaN   \n",
       "2                NaN                NaN                NaN                NaN   \n",
       "0                NaN                NaN                NaN                NaN   \n",
       "1                NaN                NaN                NaN                NaN   \n",
       "\n",
       "   Demand 05/01/2022  Demand 05/02/2022  Demand 05/03/2022  \n",
       "0                NaN                NaN                NaN  \n",
       "1                NaN                NaN                NaN  \n",
       "2                NaN                NaN                NaN  \n",
       "0                NaN                NaN                NaN  \n",
       "1                NaN                NaN                NaN  \n",
       "\n",
       "[5 rows x 549 columns]"
      ]
     },
     "execution_count": 18,
     "metadata": {},
     "output_type": "execute_result"
    }
   ],
   "source": [
    "df.head()"
   ]
  },
  {
   "cell_type": "code",
   "execution_count": 19,
   "id": "ce387569-944f-4630-88bd-a1ee0ff2b50c",
   "metadata": {},
   "outputs": [
    {
     "data": {
      "text/plain": [
       "(858, 549)"
      ]
     },
     "execution_count": 19,
     "metadata": {},
     "output_type": "execute_result"
    }
   ],
   "source": [
    "df.shape"
   ]
  },
  {
   "cell_type": "code",
   "execution_count": null,
   "id": "7f464357-ba7b-4359-b6d0-1e469684bf2a",
   "metadata": {},
   "outputs": [],
   "source": []
  }
 ],
 "metadata": {
  "kernelspec": {
   "display_name": "Python 3 (ipykernel)",
   "language": "python",
   "name": "python3"
  },
  "language_info": {
   "codemirror_mode": {
    "name": "ipython",
    "version": 3
   },
   "file_extension": ".py",
   "mimetype": "text/x-python",
   "name": "python",
   "nbconvert_exporter": "python",
   "pygments_lexer": "ipython3",
   "version": "3.9.12"
  }
 },
 "nbformat": 4,
 "nbformat_minor": 5
}
