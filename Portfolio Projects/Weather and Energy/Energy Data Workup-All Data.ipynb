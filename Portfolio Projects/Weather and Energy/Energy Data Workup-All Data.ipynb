{
 "cells": [
  {
   "cell_type": "code",
   "execution_count": 1,
   "id": "5ecbdecd",
   "metadata": {},
   "outputs": [],
   "source": [
    "import pandas as pd\n",
    "import numpy as np\n",
    "import matplotlib.pyplot as plt\n",
    "%matplotlib inline"
   ]
  },
  {
   "cell_type": "code",
   "execution_count": 2,
   "id": "433d16fd",
   "metadata": {},
   "outputs": [],
   "source": [
    "#df = pd.read_csv('C:\\\\Users\\\\18053\\\\Desktop\\\\Portfolio Projects\\\\Weather and Energy\\\\Energy Demand Data\\\\CAISO-demand-20210825.csv')"
   ]
  },
  {
   "cell_type": "code",
   "execution_count": 3,
   "id": "fc664066",
   "metadata": {},
   "outputs": [],
   "source": [
    "#df.head()"
   ]
  },
  {
   "cell_type": "code",
   "execution_count": 4,
   "id": "1e99491d",
   "metadata": {},
   "outputs": [],
   "source": [
    "#daily_energy_demand =df.iloc[2,1:].sum()"
   ]
  },
  {
   "cell_type": "code",
   "execution_count": 5,
   "id": "f04d6cfc",
   "metadata": {},
   "outputs": [],
   "source": [
    "#daily_energy_demand "
   ]
  },
  {
   "cell_type": "code",
   "execution_count": 6,
   "id": "97f5a710",
   "metadata": {},
   "outputs": [],
   "source": [
    "#date = df.columns[0][-10:]"
   ]
  },
  {
   "cell_type": "code",
   "execution_count": 7,
   "id": "ee1b2190",
   "metadata": {},
   "outputs": [],
   "source": [
    "#date"
   ]
  },
  {
   "cell_type": "code",
   "execution_count": 8,
   "id": "3af17a9e",
   "metadata": {},
   "outputs": [],
   "source": [
    "#masterdf= pd.DataFrame(columns = ['Date', 'Daily Energy Demand'])"
   ]
  },
  {
   "cell_type": "code",
   "execution_count": 9,
   "id": "ae2e84a3",
   "metadata": {},
   "outputs": [],
   "source": [
    "#masterdf"
   ]
  },
  {
   "cell_type": "code",
   "execution_count": 10,
   "id": "8e644bf0",
   "metadata": {},
   "outputs": [],
   "source": [
    "#import glob"
   ]
  },
  {
   "cell_type": "markdown",
   "id": "29f5863d",
   "metadata": {},
   "source": [
    "set search path and glob for files\n",
    "\n",
    "look for csv files in the input directory"
   ]
  },
  {
   "cell_type": "code",
   "execution_count": 11,
   "id": "5e8103aa",
   "metadata": {},
   "outputs": [],
   "source": [
    "#path = 'C:\\\\Users\\\\18053\\\\Desktop\\\\Github\\\\Portfolio Projects\\\\Weather and Energy\\\\Energy Demand Data\\\\All demand data'\n",
    "#files = glob.glob(path + '/*.csv')\n"
   ]
  },
  {
   "cell_type": "code",
   "execution_count": 12,
   "id": "b4ac7cdc",
   "metadata": {},
   "outputs": [],
   "source": [
    "#for f in files:\n",
    "   \n",
    "    #temp_df = pd.read_csv(f)\n",
    "    #daily_energy_demand =temp_df.iloc[2,1:].sum()\n",
    "    #date = temp_df.columns[0][-10:]\n",
    "    #masterdf.loc[len(masterdf.index)] = [date,daily_energy_demand] \n",
    "\n"
   ]
  },
  {
   "cell_type": "code",
   "execution_count": 13,
   "id": "4e3f9088",
   "metadata": {
    "scrolled": true
   },
   "outputs": [],
   "source": [
    "#masterdf"
   ]
  },
  {
   "cell_type": "code",
   "execution_count": 14,
   "id": "67d63b4f-ca0b-4157-bbdc-c622aeb95b86",
   "metadata": {},
   "outputs": [],
   "source": [
    "### NOTE! i ALREADY ADDED DAY BY THIS POINT, IT SHOULD NOT HAVE BEEN IMPORTED WITH DAY. THAT WAS AN ENGINEERED FEATURE."
   ]
  },
  {
   "cell_type": "code",
   "execution_count": 15,
   "id": "bad32414",
   "metadata": {},
   "outputs": [],
   "source": [
    "masterdf=pd.read_csv('AllEnergyDemand-MasterDF.csv', index_col =0)"
   ]
  },
  {
   "cell_type": "code",
   "execution_count": 16,
   "id": "377e5a5d",
   "metadata": {},
   "outputs": [
    {
     "data": {
      "text/html": [
       "<div>\n",
       "<style scoped>\n",
       "    .dataframe tbody tr th:only-of-type {\n",
       "        vertical-align: middle;\n",
       "    }\n",
       "\n",
       "    .dataframe tbody tr th {\n",
       "        vertical-align: top;\n",
       "    }\n",
       "\n",
       "    .dataframe thead th {\n",
       "        text-align: right;\n",
       "    }\n",
       "</style>\n",
       "<table border=\"1\" class=\"dataframe\">\n",
       "  <thead>\n",
       "    <tr style=\"text-align: right;\">\n",
       "      <th></th>\n",
       "      <th>Date</th>\n",
       "      <th>Daily Energy Demand</th>\n",
       "      <th>Date_DateObj</th>\n",
       "      <th>Day</th>\n",
       "    </tr>\n",
       "  </thead>\n",
       "  <tbody>\n",
       "    <tr>\n",
       "      <th>0</th>\n",
       "      <td>04/10/2018</td>\n",
       "      <td>7183786.0</td>\n",
       "      <td>2018-04-10</td>\n",
       "      <td>Tuesday</td>\n",
       "    </tr>\n",
       "    <tr>\n",
       "      <th>1</th>\n",
       "      <td>04/11/2018</td>\n",
       "      <td>1961585.0</td>\n",
       "      <td>2018-04-11</td>\n",
       "      <td>Wednesday</td>\n",
       "    </tr>\n",
       "    <tr>\n",
       "      <th>2</th>\n",
       "      <td>04/12/2018</td>\n",
       "      <td>6670701.0</td>\n",
       "      <td>2018-04-12</td>\n",
       "      <td>Thursday</td>\n",
       "    </tr>\n",
       "    <tr>\n",
       "      <th>3</th>\n",
       "      <td>04/13/2018</td>\n",
       "      <td>6643068.0</td>\n",
       "      <td>2018-04-13</td>\n",
       "      <td>Friday</td>\n",
       "    </tr>\n",
       "    <tr>\n",
       "      <th>4</th>\n",
       "      <td>04/14/2018</td>\n",
       "      <td>6183992.0</td>\n",
       "      <td>2018-04-14</td>\n",
       "      <td>Saturday</td>\n",
       "    </tr>\n",
       "  </tbody>\n",
       "</table>\n",
       "</div>"
      ],
      "text/plain": [
       "         Date  Daily Energy Demand Date_DateObj        Day\n",
       "0  04/10/2018            7183786.0   2018-04-10    Tuesday\n",
       "1  04/11/2018            1961585.0   2018-04-11  Wednesday\n",
       "2  04/12/2018            6670701.0   2018-04-12   Thursday\n",
       "3  04/13/2018            6643068.0   2018-04-13     Friday\n",
       "4  04/14/2018            6183992.0   2018-04-14   Saturday"
      ]
     },
     "execution_count": 16,
     "metadata": {},
     "output_type": "execute_result"
    }
   ],
   "source": [
    "masterdf.head()"
   ]
  },
  {
   "cell_type": "code",
   "execution_count": 17,
   "id": "1122516d-2844-41fb-899c-0b4600b6bca4",
   "metadata": {},
   "outputs": [
    {
     "data": {
      "text/plain": [
       "['Date', 'Daily Energy Demand', 'Date_DateObj', 'Day']"
      ]
     },
     "execution_count": 17,
     "metadata": {},
     "output_type": "execute_result"
    }
   ],
   "source": [
    "list(masterdf.columns.values)"
   ]
  },
  {
   "cell_type": "markdown",
   "id": "97266769-502e-48ed-af83-36b6d544f237",
   "metadata": {},
   "source": [
    "Reordering columns to keep all date columsn next to each other"
   ]
  },
  {
   "cell_type": "code",
   "execution_count": 18,
   "id": "56dfb6e4-bccf-4237-945c-7a0d5d6c54c6",
   "metadata": {},
   "outputs": [],
   "source": [
    "masterdf= masterdf[['Date', 'Date_DateObj', 'Day', 'Daily Energy Demand']]"
   ]
  },
  {
   "cell_type": "code",
   "execution_count": 19,
   "id": "57017200-5af1-4e51-8809-0112c8f0115d",
   "metadata": {},
   "outputs": [
    {
     "data": {
      "text/html": [
       "<div>\n",
       "<style scoped>\n",
       "    .dataframe tbody tr th:only-of-type {\n",
       "        vertical-align: middle;\n",
       "    }\n",
       "\n",
       "    .dataframe tbody tr th {\n",
       "        vertical-align: top;\n",
       "    }\n",
       "\n",
       "    .dataframe thead th {\n",
       "        text-align: right;\n",
       "    }\n",
       "</style>\n",
       "<table border=\"1\" class=\"dataframe\">\n",
       "  <thead>\n",
       "    <tr style=\"text-align: right;\">\n",
       "      <th></th>\n",
       "      <th>Date</th>\n",
       "      <th>Date_DateObj</th>\n",
       "      <th>Day</th>\n",
       "      <th>Daily Energy Demand</th>\n",
       "    </tr>\n",
       "  </thead>\n",
       "  <tbody>\n",
       "    <tr>\n",
       "      <th>0</th>\n",
       "      <td>04/10/2018</td>\n",
       "      <td>2018-04-10</td>\n",
       "      <td>Tuesday</td>\n",
       "      <td>7183786.0</td>\n",
       "    </tr>\n",
       "    <tr>\n",
       "      <th>1</th>\n",
       "      <td>04/11/2018</td>\n",
       "      <td>2018-04-11</td>\n",
       "      <td>Wednesday</td>\n",
       "      <td>1961585.0</td>\n",
       "    </tr>\n",
       "    <tr>\n",
       "      <th>2</th>\n",
       "      <td>04/12/2018</td>\n",
       "      <td>2018-04-12</td>\n",
       "      <td>Thursday</td>\n",
       "      <td>6670701.0</td>\n",
       "    </tr>\n",
       "  </tbody>\n",
       "</table>\n",
       "</div>"
      ],
      "text/plain": [
       "         Date Date_DateObj        Day  Daily Energy Demand\n",
       "0  04/10/2018   2018-04-10    Tuesday            7183786.0\n",
       "1  04/11/2018   2018-04-11  Wednesday            1961585.0\n",
       "2  04/12/2018   2018-04-12   Thursday            6670701.0"
      ]
     },
     "execution_count": 19,
     "metadata": {},
     "output_type": "execute_result"
    }
   ],
   "source": [
    "masterdf.head(3)"
   ]
  },
  {
   "cell_type": "markdown",
   "id": "72a233e0",
   "metadata": {},
   "source": [
    "## 2.0 Exploratory Data Analysis"
   ]
  },
  {
   "cell_type": "markdown",
   "id": "db4496dd-105f-4aa2-906d-0e1c29f85e86",
   "metadata": {},
   "source": [
    "### 2.1 Raw Data Visualization"
   ]
  },
  {
   "cell_type": "code",
   "execution_count": 20,
   "id": "5aa1bac1",
   "metadata": {},
   "outputs": [],
   "source": [
    "import seaborn as sns"
   ]
  },
  {
   "cell_type": "code",
   "execution_count": 21,
   "id": "cb2145a6",
   "metadata": {},
   "outputs": [],
   "source": [
    "from datetime import datetime"
   ]
  },
  {
   "cell_type": "code",
   "execution_count": 22,
   "id": "40bbe78c",
   "metadata": {},
   "outputs": [
    {
     "data": {
      "text/plain": [
       "<AxesSubplot:title={'center':\"California's Daily Energy Demand from April 2018- Present\"}, xlabel='Date', ylabel='Daily Energy Demand'>"
      ]
     },
     "execution_count": 22,
     "metadata": {},
     "output_type": "execute_result"
    },
    {
     "data": {
      "image/png": "[encoded data removed]",
      "text/plain": [
       "<Figure size 1080x432 with 1 Axes>"
      ]
     },
     "metadata": {
      "needs_background": "light"
     },
     "output_type": "display_data"
    }
   ],
   "source": [
    "plt.figure(figsize=(15,6))\n",
    "plt.title(\"California's Daily Energy Demand from April 2018- Present\", fontsize=18)\n",
    "plt.xticks(np.arange(0, len(masterdf), 150))\n",
    "sns.lineplot( x ='Date', y= 'Daily Energy Demand', data = masterdf) "
   ]
  },
  {
   "cell_type": "markdown",
   "id": "d3a2d800-12f8-48e8-a65d-486dcae09697",
   "metadata": {},
   "source": [
    "Looks like there are a few outlying data points, notably at the start and end of the date range. This is not surprising because wen scraping the data,the website indicated that some days may have technical errors. I will use zscore to exclude outliers."
   ]
  },
  {
   "cell_type": "markdown",
   "id": "b4b53b56-515f-472d-b1f4-903e9c8e7219",
   "metadata": {},
   "source": [
    "### 2.2 Data Cleaning"
   ]
  },
  {
   "cell_type": "code",
   "execution_count": 23,
   "id": "35b77315",
   "metadata": {},
   "outputs": [],
   "source": [
    "from scipy.stats import zscore\n",
    "from scipy import stats"
   ]
  },
  {
   "cell_type": "code",
   "execution_count": 24,
   "id": "f772f7ae",
   "metadata": {},
   "outputs": [
    {
     "data": {
      "text/plain": [
       "1487"
      ]
     },
     "execution_count": 24,
     "metadata": {},
     "output_type": "execute_result"
    }
   ],
   "source": [
    "z_scores = stats.zscore(masterdf['Daily Energy Demand'])\n",
    "abs_z_scores = np.abs(z_scores)\n",
    "abs_z_scores.count()"
   ]
  },
  {
   "cell_type": "code",
   "execution_count": 25,
   "id": "b2cbdd12",
   "metadata": {},
   "outputs": [
    {
     "data": {
      "text/plain": [
       "7"
      ]
     },
     "execution_count": 25,
     "metadata": {},
     "output_type": "execute_result"
    }
   ],
   "source": [
    "outliers = abs_z_scores[abs_z_scores > 3]\n",
    "outliers.count()"
   ]
  },
  {
   "cell_type": "markdown",
   "id": "cd248868-4ecd-45da-bf33-005575a46594",
   "metadata": {},
   "source": [
    "Within the 1487 energy values, 7 of them were determined to have an absolute z score of > 3."
   ]
  },
  {
   "cell_type": "code",
   "execution_count": 26,
   "id": "a9480881-db71-4277-899b-c1893f82490b",
   "metadata": {},
   "outputs": [
    {
     "data": {
      "text/html": [
       "<div>\n",
       "<style scoped>\n",
       "    .dataframe tbody tr th:only-of-type {\n",
       "        vertical-align: middle;\n",
       "    }\n",
       "\n",
       "    .dataframe tbody tr th {\n",
       "        vertical-align: top;\n",
       "    }\n",
       "\n",
       "    .dataframe thead th {\n",
       "        text-align: right;\n",
       "    }\n",
       "</style>\n",
       "<table border=\"1\" class=\"dataframe\">\n",
       "  <thead>\n",
       "    <tr style=\"text-align: right;\">\n",
       "      <th></th>\n",
       "      <th>Date</th>\n",
       "      <th>Date_DateObj</th>\n",
       "      <th>Day</th>\n",
       "      <th>Daily Energy Demand</th>\n",
       "    </tr>\n",
       "  </thead>\n",
       "  <tbody>\n",
       "    <tr>\n",
       "      <th>0</th>\n",
       "      <td>04/10/2018</td>\n",
       "      <td>2018-04-10</td>\n",
       "      <td>Tuesday</td>\n",
       "      <td>7183786.0</td>\n",
       "    </tr>\n",
       "    <tr>\n",
       "      <th>1</th>\n",
       "      <td>04/11/2018</td>\n",
       "      <td>2018-04-11</td>\n",
       "      <td>Wednesday</td>\n",
       "      <td>1961585.0</td>\n",
       "    </tr>\n",
       "    <tr>\n",
       "      <th>2</th>\n",
       "      <td>04/12/2018</td>\n",
       "      <td>2018-04-12</td>\n",
       "      <td>Thursday</td>\n",
       "      <td>6670701.0</td>\n",
       "    </tr>\n",
       "  </tbody>\n",
       "</table>\n",
       "</div>"
      ],
      "text/plain": [
       "         Date Date_DateObj        Day  Daily Energy Demand\n",
       "0  04/10/2018   2018-04-10    Tuesday            7183786.0\n",
       "1  04/11/2018   2018-04-11  Wednesday            1961585.0\n",
       "2  04/12/2018   2018-04-12   Thursday            6670701.0"
      ]
     },
     "execution_count": 26,
     "metadata": {},
     "output_type": "execute_result"
    }
   ],
   "source": [
    "masterdf.head(3)"
   ]
  },
  {
   "cell_type": "code",
   "execution_count": 27,
   "id": "7d8aa486-2128-4b7c-91bb-9c5dc170180a",
   "metadata": {},
   "outputs": [],
   "source": [
    "outliers_index = outliers.index.values"
   ]
  },
  {
   "cell_type": "code",
   "execution_count": 28,
   "id": "e7dbf58f-30c0-400b-85b9-640433e7a6fe",
   "metadata": {},
   "outputs": [
    {
     "data": {
      "text/plain": [
       "array([   1,  105,  106,  860,  861,  862, 1486], dtype=int64)"
      ]
     },
     "execution_count": 28,
     "metadata": {},
     "output_type": "execute_result"
    }
   ],
   "source": [
    "outliers_index"
   ]
  },
  {
   "cell_type": "markdown",
   "id": "e16ed66d-734f-42c2-be57-06c4538534f4",
   "metadata": {},
   "source": [
    "The outliers have index values of 1,  105,  106,  860,  861,  862, 1486.\n",
    "\n",
    "Creating a column of index values that can be easily called upon on a function."
   ]
  },
  {
   "cell_type": "code",
   "execution_count": 29,
   "id": "fa5df433",
   "metadata": {},
   "outputs": [],
   "source": [
    "masterdf['index'] = masterdf.index.values"
   ]
  },
  {
   "cell_type": "code",
   "execution_count": 30,
   "id": "1668fe55-16b8-405d-bede-a131f5b128cc",
   "metadata": {},
   "outputs": [
    {
     "data": {
      "text/plain": [
       "1487"
      ]
     },
     "execution_count": 30,
     "metadata": {},
     "output_type": "execute_result"
    }
   ],
   "source": [
    "len(masterdf)"
   ]
  },
  {
   "cell_type": "code",
   "execution_count": 31,
   "id": "c4ce7dfc-e2df-4baa-b24f-c3d933d98f96",
   "metadata": {},
   "outputs": [],
   "source": [
    "#function for filling in the outlier values with the average value of the energy demand for the days before and after the outlying data point date\n",
    "def outlier_fill(energy, index):\n",
    "        if int(index) in outliers_index:\n",
    "            #check to make sure the outlier doesn't fall on the first or date day of the series\n",
    "            if int(index) != 0 and int(index) != 1486:\n",
    "                energy =  (masterdf.iloc[int(index)+1]['Daily Energy Demand'] + masterdf.iloc[int(index)-1]['Daily Energy Demand'])/2\n",
    "                return energy\n",
    "            else: \n",
    "                #if the outlying value is the first or last value in the series, it will be replaced with the a duplicate value from the day after or before, respectively\n",
    "                if int(index) != 1486:\n",
    "                    energy= masterdf.iloc[int(index)+1]['Daily Energy Demand']\n",
    "                    return energy\n",
    "                    \n",
    "                else:\n",
    "                    energy = masterdf.iloc[int(index)-1]['Daily Energy Demand']\n",
    "                    return energy\n",
    "        else:\n",
    "            return energy"
   ]
  },
  {
   "cell_type": "code",
   "execution_count": 32,
   "id": "9432c60d-36f6-4aa2-912f-7c4c11420639",
   "metadata": {},
   "outputs": [],
   "source": [
    "masterdf['Daily Energy Demand'] = masterdf.apply(lambda x: outlier_fill(x['Daily Energy Demand'], x['index']), axis =1)"
   ]
  },
  {
   "cell_type": "code",
   "execution_count": 33,
   "id": "e34ab106-6ebe-41cf-8a2e-0529b5434e66",
   "metadata": {},
   "outputs": [
    {
     "data": {
      "text/html": [
       "<div>\n",
       "<style scoped>\n",
       "    .dataframe tbody tr th:only-of-type {\n",
       "        vertical-align: middle;\n",
       "    }\n",
       "\n",
       "    .dataframe tbody tr th {\n",
       "        vertical-align: top;\n",
       "    }\n",
       "\n",
       "    .dataframe thead th {\n",
       "        text-align: right;\n",
       "    }\n",
       "</style>\n",
       "<table border=\"1\" class=\"dataframe\">\n",
       "  <thead>\n",
       "    <tr style=\"text-align: right;\">\n",
       "      <th></th>\n",
       "      <th>Date</th>\n",
       "      <th>Date_DateObj</th>\n",
       "      <th>Day</th>\n",
       "      <th>Daily Energy Demand</th>\n",
       "      <th>index</th>\n",
       "    </tr>\n",
       "  </thead>\n",
       "  <tbody>\n",
       "    <tr>\n",
       "      <th>0</th>\n",
       "      <td>04/10/2018</td>\n",
       "      <td>2018-04-10</td>\n",
       "      <td>Tuesday</td>\n",
       "      <td>7183786.0</td>\n",
       "      <td>0</td>\n",
       "    </tr>\n",
       "    <tr>\n",
       "      <th>1</th>\n",
       "      <td>04/11/2018</td>\n",
       "      <td>2018-04-11</td>\n",
       "      <td>Wednesday</td>\n",
       "      <td>6927243.5</td>\n",
       "      <td>1</td>\n",
       "    </tr>\n",
       "    <tr>\n",
       "      <th>2</th>\n",
       "      <td>04/12/2018</td>\n",
       "      <td>2018-04-12</td>\n",
       "      <td>Thursday</td>\n",
       "      <td>6670701.0</td>\n",
       "      <td>2</td>\n",
       "    </tr>\n",
       "    <tr>\n",
       "      <th>3</th>\n",
       "      <td>04/13/2018</td>\n",
       "      <td>2018-04-13</td>\n",
       "      <td>Friday</td>\n",
       "      <td>6643068.0</td>\n",
       "      <td>3</td>\n",
       "    </tr>\n",
       "    <tr>\n",
       "      <th>4</th>\n",
       "      <td>04/14/2018</td>\n",
       "      <td>2018-04-14</td>\n",
       "      <td>Saturday</td>\n",
       "      <td>6183992.0</td>\n",
       "      <td>4</td>\n",
       "    </tr>\n",
       "    <tr>\n",
       "      <th>5</th>\n",
       "      <td>04/15/2018</td>\n",
       "      <td>2018-04-15</td>\n",
       "      <td>Sunday</td>\n",
       "      <td>5926078.0</td>\n",
       "      <td>5</td>\n",
       "    </tr>\n",
       "    <tr>\n",
       "      <th>6</th>\n",
       "      <td>04/16/2018</td>\n",
       "      <td>2018-04-16</td>\n",
       "      <td>Monday</td>\n",
       "      <td>6619344.0</td>\n",
       "      <td>6</td>\n",
       "    </tr>\n",
       "    <tr>\n",
       "      <th>7</th>\n",
       "      <td>04/17/2018</td>\n",
       "      <td>2018-04-17</td>\n",
       "      <td>Tuesday</td>\n",
       "      <td>6567013.0</td>\n",
       "      <td>7</td>\n",
       "    </tr>\n",
       "    <tr>\n",
       "      <th>8</th>\n",
       "      <td>04/18/2018</td>\n",
       "      <td>2018-04-18</td>\n",
       "      <td>Wednesday</td>\n",
       "      <td>6739403.0</td>\n",
       "      <td>8</td>\n",
       "    </tr>\n",
       "    <tr>\n",
       "      <th>9</th>\n",
       "      <td>04/19/2018</td>\n",
       "      <td>2018-04-19</td>\n",
       "      <td>Thursday</td>\n",
       "      <td>6649368.0</td>\n",
       "      <td>9</td>\n",
       "    </tr>\n",
       "  </tbody>\n",
       "</table>\n",
       "</div>"
      ],
      "text/plain": [
       "         Date Date_DateObj        Day  Daily Energy Demand  index\n",
       "0  04/10/2018   2018-04-10    Tuesday            7183786.0      0\n",
       "1  04/11/2018   2018-04-11  Wednesday            6927243.5      1\n",
       "2  04/12/2018   2018-04-12   Thursday            6670701.0      2\n",
       "3  04/13/2018   2018-04-13     Friday            6643068.0      3\n",
       "4  04/14/2018   2018-04-14   Saturday            6183992.0      4\n",
       "5  04/15/2018   2018-04-15     Sunday            5926078.0      5\n",
       "6  04/16/2018   2018-04-16     Monday            6619344.0      6\n",
       "7  04/17/2018   2018-04-17    Tuesday            6567013.0      7\n",
       "8  04/18/2018   2018-04-18  Wednesday            6739403.0      8\n",
       "9  04/19/2018   2018-04-19   Thursday            6649368.0      9"
      ]
     },
     "execution_count": 33,
     "metadata": {},
     "output_type": "execute_result"
    }
   ],
   "source": [
    "masterdf.head(10)"
   ]
  },
  {
   "cell_type": "markdown",
   "id": "2ae3348d-42c4-4156-9702-27db1d550d92",
   "metadata": {},
   "source": [
    "No longer need the column of index values, dropping it"
   ]
  },
  {
   "cell_type": "code",
   "execution_count": 34,
   "id": "28cda17e-4998-4b28-9938-44a851e38fe2",
   "metadata": {},
   "outputs": [],
   "source": [
    "masterdf = masterdf.drop('index', axis=1)"
   ]
  },
  {
   "cell_type": "markdown",
   "id": "f34ba98c-9c04-49c6-b579-95e80f48adcb",
   "metadata": {},
   "source": [
    "Let's see how the line plot from earlier looks now that the outlying data points have been removed"
   ]
  },
  {
   "cell_type": "code",
   "execution_count": 35,
   "id": "4d8317d8-32b3-4dfc-a7ba-466e982a2b7d",
   "metadata": {},
   "outputs": [
    {
     "data": {
      "text/plain": [
       "<AxesSubplot:title={'center':\"California's Daily Energy Demand from April 2018- Present\"}, xlabel='Date', ylabel='Daily Energy Demand'>"
      ]
     },
     "execution_count": 35,
     "metadata": {},
     "output_type": "execute_result"
    },
    {
     "data": {
      "image/png": "[encoded data removed]",
      "text/plain": [
       "<Figure size 1080x432 with 1 Axes>"
      ]
     },
     "metadata": {
      "needs_background": "light"
     },
     "output_type": "display_data"
    }
   ],
   "source": [
    "plt.figure(figsize=(15,6))\n",
    "plt.title(\"California's Daily Energy Demand from April 2018- Present\", fontsize=18)\n",
    "plt.xticks(np.arange(0, len(masterdf), 150))\n",
    "sns.lineplot( x ='Date', y= 'Daily Energy Demand', data = masterdf) "
   ]
  },
  {
   "cell_type": "markdown",
   "id": "efdbd5a0-e5ff-459f-92ed-46c10a034c9d",
   "metadata": {},
   "source": [
    "Much better use of white space!"
   ]
  },
  {
   "cell_type": "markdown",
   "id": "20ce0d76-b6a8-40f7-b7d9-3cb6170e4af1",
   "metadata": {},
   "source": [
    "### 2.3 Visualizing Changes in Energy Demand Over Time"
   ]
  },
  {
   "cell_type": "markdown",
   "id": "2f5b908c-1d2b-4981-9a07-44adcaf74564",
   "metadata": {},
   "source": [
    "Looking at the entire time period in the line plot above, there appears to be four peaks in the data around the summer each year, as well as daily variations. Let's look at these trends in more detail."
   ]
  },
  {
   "cell_type": "code",
   "execution_count": 36,
   "id": "8687bbf1",
   "metadata": {},
   "outputs": [
    {
     "data": {
      "text/plain": [
       "<AxesSubplot:title={'center':'Daily Energy Demand Over a Two Week Period in Sept 2018'}, xlabel='Date', ylabel='Daily Energy Demand'>"
      ]
     },
     "execution_count": 36,
     "metadata": {},
     "output_type": "execute_result"
    },
    {
     "data": {
      "image/png": "[encoded data removed]",
      "text/plain": [
       "<Figure size 864x432 with 1 Axes>"
      ]
     },
     "metadata": {
      "needs_background": "light"
     },
     "output_type": "display_data"
    }
   ],
   "source": [
    "plt.figure(figsize=(12,6))\n",
    "plt.title(\"Daily Energy Demand Over a Two Week Period in Sept 2018\", fontsize=18)\n",
    "plt.xticks(np.arange(0, 14, 2))\n",
    "sns.lineplot( x ='Date', y= 'Daily Energy Demand', data = masterdf.iloc[150:164,:]) "
   ]
  },
  {
   "cell_type": "markdown",
   "id": "a61ff095",
   "metadata": {},
   "source": [
    "Looking at a random 2 week period, it seems like the days of the week are going to significantly impact the energy demand. Let's create a feature for the day of the week."
   ]
  },
  {
   "cell_type": "markdown",
   "id": "6e6fee12-0933-4142-9496-d9473d21ed21",
   "metadata": {},
   "source": [
    "#### 2.3.1 Feature Engineering- Day"
   ]
  },
  {
   "cell_type": "code",
   "execution_count": 37,
   "id": "bd0d676a-9452-4bfb-bccb-aa77e36501cf",
   "metadata": {},
   "outputs": [
    {
     "data": {
      "text/plain": [
       "0       2018-04-10\n",
       "1       2018-04-11\n",
       "2       2018-04-12\n",
       "3       2018-04-13\n",
       "4       2018-04-14\n",
       "           ...    \n",
       "1482    2022-05-01\n",
       "1483    2022-05-02\n",
       "1484    2022-05-03\n",
       "1485    2022-05-04\n",
       "1486    2022-05-05\n",
       "Name: Date_DateObj, Length: 1487, dtype: object"
      ]
     },
     "execution_count": 37,
     "metadata": {},
     "output_type": "execute_result"
    }
   ],
   "source": [
    "masterdf['Date_DateObj']"
   ]
  },
  {
   "cell_type": "markdown",
   "id": "f99d5cea-dc4e-4574-b074-aeba0fd3d61d",
   "metadata": {},
   "source": [
    "Want masterdf['Date_DateObj'] to be dtype: datetime64 so I can call a day_name() function on it"
   ]
  },
  {
   "cell_type": "code",
   "execution_count": 38,
   "id": "80f3ba74-63a9-44b2-b960-7c758ad65d65",
   "metadata": {
    "tags": []
   },
   "outputs": [
    {
     "data": {
      "text/plain": [
       "0      2018-04-10\n",
       "1      2018-04-11\n",
       "2      2018-04-12\n",
       "3      2018-04-13\n",
       "4      2018-04-14\n",
       "          ...    \n",
       "1482   2022-05-01\n",
       "1483   2022-05-02\n",
       "1484   2022-05-03\n",
       "1485   2022-05-04\n",
       "1486   2022-05-05\n",
       "Name: Date_DateObj, Length: 1487, dtype: datetime64[ns]"
      ]
     },
     "execution_count": 38,
     "metadata": {},
     "output_type": "execute_result"
    }
   ],
   "source": [
    "masterdf['Date_DateObj'] = pd.to_datetime((masterdf['Date']))\n",
    "masterdf['Date_DateObj']"
   ]
  },
  {
   "cell_type": "code",
   "execution_count": 39,
   "id": "2917d164",
   "metadata": {},
   "outputs": [],
   "source": [
    "masterdf['Day']=masterdf['Date_DateObj'].dt.day_name()"
   ]
  },
  {
   "cell_type": "code",
   "execution_count": 40,
   "id": "9fd50cca",
   "metadata": {},
   "outputs": [
    {
     "data": {
      "text/html": [
       "<div>\n",
       "<style scoped>\n",
       "    .dataframe tbody tr th:only-of-type {\n",
       "        vertical-align: middle;\n",
       "    }\n",
       "\n",
       "    .dataframe tbody tr th {\n",
       "        vertical-align: top;\n",
       "    }\n",
       "\n",
       "    .dataframe thead th {\n",
       "        text-align: right;\n",
       "    }\n",
       "</style>\n",
       "<table border=\"1\" class=\"dataframe\">\n",
       "  <thead>\n",
       "    <tr style=\"text-align: right;\">\n",
       "      <th></th>\n",
       "      <th>Date</th>\n",
       "      <th>Date_DateObj</th>\n",
       "      <th>Day</th>\n",
       "      <th>Daily Energy Demand</th>\n",
       "    </tr>\n",
       "  </thead>\n",
       "  <tbody>\n",
       "    <tr>\n",
       "      <th>0</th>\n",
       "      <td>04/10/2018</td>\n",
       "      <td>2018-04-10</td>\n",
       "      <td>Tuesday</td>\n",
       "      <td>7183786.0</td>\n",
       "    </tr>\n",
       "    <tr>\n",
       "      <th>1</th>\n",
       "      <td>04/11/2018</td>\n",
       "      <td>2018-04-11</td>\n",
       "      <td>Wednesday</td>\n",
       "      <td>6927243.5</td>\n",
       "    </tr>\n",
       "    <tr>\n",
       "      <th>2</th>\n",
       "      <td>04/12/2018</td>\n",
       "      <td>2018-04-12</td>\n",
       "      <td>Thursday</td>\n",
       "      <td>6670701.0</td>\n",
       "    </tr>\n",
       "    <tr>\n",
       "      <th>3</th>\n",
       "      <td>04/13/2018</td>\n",
       "      <td>2018-04-13</td>\n",
       "      <td>Friday</td>\n",
       "      <td>6643068.0</td>\n",
       "    </tr>\n",
       "    <tr>\n",
       "      <th>4</th>\n",
       "      <td>04/14/2018</td>\n",
       "      <td>2018-04-14</td>\n",
       "      <td>Saturday</td>\n",
       "      <td>6183992.0</td>\n",
       "    </tr>\n",
       "    <tr>\n",
       "      <th>5</th>\n",
       "      <td>04/15/2018</td>\n",
       "      <td>2018-04-15</td>\n",
       "      <td>Sunday</td>\n",
       "      <td>5926078.0</td>\n",
       "    </tr>\n",
       "    <tr>\n",
       "      <th>6</th>\n",
       "      <td>04/16/2018</td>\n",
       "      <td>2018-04-16</td>\n",
       "      <td>Monday</td>\n",
       "      <td>6619344.0</td>\n",
       "    </tr>\n",
       "    <tr>\n",
       "      <th>7</th>\n",
       "      <td>04/17/2018</td>\n",
       "      <td>2018-04-17</td>\n",
       "      <td>Tuesday</td>\n",
       "      <td>6567013.0</td>\n",
       "    </tr>\n",
       "    <tr>\n",
       "      <th>8</th>\n",
       "      <td>04/18/2018</td>\n",
       "      <td>2018-04-18</td>\n",
       "      <td>Wednesday</td>\n",
       "      <td>6739403.0</td>\n",
       "    </tr>\n",
       "    <tr>\n",
       "      <th>9</th>\n",
       "      <td>04/19/2018</td>\n",
       "      <td>2018-04-19</td>\n",
       "      <td>Thursday</td>\n",
       "      <td>6649368.0</td>\n",
       "    </tr>\n",
       "    <tr>\n",
       "      <th>10</th>\n",
       "      <td>04/20/2018</td>\n",
       "      <td>2018-04-20</td>\n",
       "      <td>Friday</td>\n",
       "      <td>6555433.0</td>\n",
       "    </tr>\n",
       "    <tr>\n",
       "      <th>11</th>\n",
       "      <td>04/21/2018</td>\n",
       "      <td>2018-04-21</td>\n",
       "      <td>Saturday</td>\n",
       "      <td>6189051.0</td>\n",
       "    </tr>\n",
       "    <tr>\n",
       "      <th>12</th>\n",
       "      <td>04/22/2018</td>\n",
       "      <td>2018-04-22</td>\n",
       "      <td>Sunday</td>\n",
       "      <td>6132821.0</td>\n",
       "    </tr>\n",
       "    <tr>\n",
       "      <th>13</th>\n",
       "      <td>04/23/2018</td>\n",
       "      <td>2018-04-23</td>\n",
       "      <td>Monday</td>\n",
       "      <td>7037529.0</td>\n",
       "    </tr>\n",
       "    <tr>\n",
       "      <th>14</th>\n",
       "      <td>04/24/2018</td>\n",
       "      <td>2018-04-24</td>\n",
       "      <td>Tuesday</td>\n",
       "      <td>7023228.0</td>\n",
       "    </tr>\n",
       "  </tbody>\n",
       "</table>\n",
       "</div>"
      ],
      "text/plain": [
       "          Date Date_DateObj        Day  Daily Energy Demand\n",
       "0   04/10/2018   2018-04-10    Tuesday            7183786.0\n",
       "1   04/11/2018   2018-04-11  Wednesday            6927243.5\n",
       "2   04/12/2018   2018-04-12   Thursday            6670701.0\n",
       "3   04/13/2018   2018-04-13     Friday            6643068.0\n",
       "4   04/14/2018   2018-04-14   Saturday            6183992.0\n",
       "5   04/15/2018   2018-04-15     Sunday            5926078.0\n",
       "6   04/16/2018   2018-04-16     Monday            6619344.0\n",
       "7   04/17/2018   2018-04-17    Tuesday            6567013.0\n",
       "8   04/18/2018   2018-04-18  Wednesday            6739403.0\n",
       "9   04/19/2018   2018-04-19   Thursday            6649368.0\n",
       "10  04/20/2018   2018-04-20     Friday            6555433.0\n",
       "11  04/21/2018   2018-04-21   Saturday            6189051.0\n",
       "12  04/22/2018   2018-04-22     Sunday            6132821.0\n",
       "13  04/23/2018   2018-04-23     Monday            7037529.0\n",
       "14  04/24/2018   2018-04-24    Tuesday            7023228.0"
      ]
     },
     "execution_count": 40,
     "metadata": {},
     "output_type": "execute_result"
    }
   ],
   "source": [
    "masterdf.head(15)"
   ]
  },
  {
   "cell_type": "markdown",
   "id": "42ee6fb0-237a-4c61-8b39-1952455f405a",
   "metadata": {},
   "source": [
    "I will specify the order of the week to set the x-axis order."
   ]
  },
  {
   "cell_type": "code",
   "execution_count": 41,
   "id": "68d72bde",
   "metadata": {},
   "outputs": [],
   "source": [
    "dayorder= ['Monday', 'Tuesday', 'Wednesday', 'Thursday', 'Friday', 'Saturday', 'Sunday']"
   ]
  },
  {
   "cell_type": "code",
   "execution_count": 42,
   "id": "8cf669da",
   "metadata": {},
   "outputs": [
    {
     "data": {
      "text/plain": [
       "<AxesSubplot:title={'center':'Weekly Average Energy Demand 2018-2022'}, xlabel='Day', ylabel='Daily Energy Demand'>"
      ]
     },
     "execution_count": 42,
     "metadata": {},
     "output_type": "execute_result"
    },
    {
     "data": {
      "image/png": "[encoded data removed]",
      "text/plain": [
       "<Figure size 720x432 with 1 Axes>"
      ]
     },
     "metadata": {
      "needs_background": "light"
     },
     "output_type": "display_data"
    }
   ],
   "source": [
    "plt.figure(figsize=(10,6))\n",
    "plt.title(\"Weekly Average Energy Demand 2018-2022\", fontsize=18)\n",
    "plt.rc('axes', labelsize=14)\n",
    "plt.rc('xtick', labelsize=10)\n",
    "plt.rc('ytick', labelsize=10)\n",
    "sns.boxplot(data = masterdf, x= 'Day', y='Daily Energy Demand', order= dayorder)"
   ]
  },
  {
   "cell_type": "markdown",
   "id": "98ca4e27-4ec8-4037-a6c2-19add6a2b7d1",
   "metadata": {},
   "source": [
    " Looks like the day of the week will be an important feature when forecasting energy demand. Energy demand is fairly consistent Tuesdays-Thursdays, with a slight decrease on Fridays and Mondays, and then a more substantial decrease on Saturdays and Sundays. Perhaps holiday weekends play a role in affecting Monday and Friday demand."
   ]
  },
  {
   "cell_type": "code",
   "execution_count": 43,
   "id": "5e4add65",
   "metadata": {},
   "outputs": [
    {
     "data": {
      "text/html": [
       "<div>\n",
       "<style scoped>\n",
       "    .dataframe tbody tr th:only-of-type {\n",
       "        vertical-align: middle;\n",
       "    }\n",
       "\n",
       "    .dataframe tbody tr th {\n",
       "        vertical-align: top;\n",
       "    }\n",
       "\n",
       "    .dataframe thead th {\n",
       "        text-align: right;\n",
       "    }\n",
       "</style>\n",
       "<table border=\"1\" class=\"dataframe\">\n",
       "  <thead>\n",
       "    <tr style=\"text-align: right;\">\n",
       "      <th></th>\n",
       "      <th>count</th>\n",
       "      <th>mean</th>\n",
       "      <th>std</th>\n",
       "      <th>min</th>\n",
       "      <th>25%</th>\n",
       "      <th>50%</th>\n",
       "      <th>75%</th>\n",
       "      <th>max</th>\n",
       "    </tr>\n",
       "    <tr>\n",
       "      <th>Day</th>\n",
       "      <th></th>\n",
       "      <th></th>\n",
       "      <th></th>\n",
       "      <th></th>\n",
       "      <th></th>\n",
       "      <th></th>\n",
       "      <th></th>\n",
       "      <th></th>\n",
       "    </tr>\n",
       "  </thead>\n",
       "  <tbody>\n",
       "    <tr>\n",
       "      <th>Friday</th>\n",
       "      <td>212.0</td>\n",
       "      <td>7.329996e+06</td>\n",
       "      <td>1.012470e+06</td>\n",
       "      <td>5761548.0</td>\n",
       "      <td>6654858.50</td>\n",
       "      <td>6957308.5</td>\n",
       "      <td>7838852.75</td>\n",
       "      <td>10191567.0</td>\n",
       "    </tr>\n",
       "    <tr>\n",
       "      <th>Monday</th>\n",
       "      <td>212.0</td>\n",
       "      <td>7.291811e+06</td>\n",
       "      <td>9.735526e+05</td>\n",
       "      <td>5588912.0</td>\n",
       "      <td>6641524.50</td>\n",
       "      <td>6918368.0</td>\n",
       "      <td>7884397.25</td>\n",
       "      <td>10279193.5</td>\n",
       "    </tr>\n",
       "    <tr>\n",
       "      <th>Saturday</th>\n",
       "      <td>212.0</td>\n",
       "      <td>6.833514e+06</td>\n",
       "      <td>9.975255e+05</td>\n",
       "      <td>5324575.0</td>\n",
       "      <td>6166557.00</td>\n",
       "      <td>6450973.0</td>\n",
       "      <td>7263619.75</td>\n",
       "      <td>10157171.0</td>\n",
       "    </tr>\n",
       "    <tr>\n",
       "      <th>Sunday</th>\n",
       "      <td>212.0</td>\n",
       "      <td>6.583806e+06</td>\n",
       "      <td>9.695501e+05</td>\n",
       "      <td>5242117.0</td>\n",
       "      <td>5911875.25</td>\n",
       "      <td>6228817.0</td>\n",
       "      <td>7131665.25</td>\n",
       "      <td>10171423.0</td>\n",
       "    </tr>\n",
       "    <tr>\n",
       "      <th>Thursday</th>\n",
       "      <td>213.0</td>\n",
       "      <td>7.399925e+06</td>\n",
       "      <td>9.778606e+05</td>\n",
       "      <td>5803203.0</td>\n",
       "      <td>6731143.00</td>\n",
       "      <td>7015855.0</td>\n",
       "      <td>8051625.00</td>\n",
       "      <td>10200932.0</td>\n",
       "    </tr>\n",
       "    <tr>\n",
       "      <th>Tuesday</th>\n",
       "      <td>213.0</td>\n",
       "      <td>7.391888e+06</td>\n",
       "      <td>9.840393e+05</td>\n",
       "      <td>5764182.0</td>\n",
       "      <td>6686602.00</td>\n",
       "      <td>7023700.0</td>\n",
       "      <td>7993980.00</td>\n",
       "      <td>10513638.5</td>\n",
       "    </tr>\n",
       "    <tr>\n",
       "      <th>Wednesday</th>\n",
       "      <td>213.0</td>\n",
       "      <td>7.414909e+06</td>\n",
       "      <td>9.837481e+05</td>\n",
       "      <td>5820272.0</td>\n",
       "      <td>6721777.00</td>\n",
       "      <td>7027449.0</td>\n",
       "      <td>8029561.00</td>\n",
       "      <td>10355162.5</td>\n",
       "    </tr>\n",
       "  </tbody>\n",
       "</table>\n",
       "</div>"
      ],
      "text/plain": [
       "           count          mean           std        min         25%  \\\n",
       "Day                                                                   \n",
       "Friday     212.0  7.329996e+06  1.012470e+06  5761548.0  6654858.50   \n",
       "Monday     212.0  7.291811e+06  9.735526e+05  5588912.0  6641524.50   \n",
       "Saturday   212.0  6.833514e+06  9.975255e+05  5324575.0  6166557.00   \n",
       "Sunday     212.0  6.583806e+06  9.695501e+05  5242117.0  5911875.25   \n",
       "Thursday   213.0  7.399925e+06  9.778606e+05  5803203.0  6731143.00   \n",
       "Tuesday    213.0  7.391888e+06  9.840393e+05  5764182.0  6686602.00   \n",
       "Wednesday  213.0  7.414909e+06  9.837481e+05  5820272.0  6721777.00   \n",
       "\n",
       "                 50%         75%         max  \n",
       "Day                                           \n",
       "Friday     6957308.5  7838852.75  10191567.0  \n",
       "Monday     6918368.0  7884397.25  10279193.5  \n",
       "Saturday   6450973.0  7263619.75  10157171.0  \n",
       "Sunday     6228817.0  7131665.25  10171423.0  \n",
       "Thursday   7015855.0  8051625.00  10200932.0  \n",
       "Tuesday    7023700.0  7993980.00  10513638.5  \n",
       "Wednesday  7027449.0  8029561.00  10355162.5  "
      ]
     },
     "execution_count": 43,
     "metadata": {},
     "output_type": "execute_result"
    }
   ],
   "source": [
    "masterdf.groupby('Day')['Daily Energy Demand'].describe()"
   ]
  },
  {
   "cell_type": "markdown",
   "id": "5c259a69-8bb9-4c43-b3e5-1e2c1c930f82",
   "metadata": {},
   "source": [
    "The statistics above are used to calculate the values in the boxplot. Note that the std is highest for Fridays, further suggesting holiday weekends may cause fluctuation in demand."
   ]
  },
  {
   "cell_type": "markdown",
   "id": "094734bf-867f-47a6-a0bf-ad4e62210589",
   "metadata": {},
   "source": [
    "#### 2.3.2 Feature Engineering- Month"
   ]
  },
  {
   "cell_type": "markdown",
   "id": "2054d04a-9458-47f5-95f3-4eeb89e3ec6f",
   "metadata": {},
   "source": [
    "Creating a feature for month using the month_name function"
   ]
  },
  {
   "cell_type": "code",
   "execution_count": 44,
   "id": "ce0089e8",
   "metadata": {},
   "outputs": [],
   "source": [
    "masterdf['Month'] = masterdf['Date_DateObj'].dt.month_name()"
   ]
  },
  {
   "cell_type": "markdown",
   "id": "5bbdf14b-3801-49f1-806c-6b85cd801caa",
   "metadata": {},
   "source": [
    "Specifying the month order for plotting"
   ]
  },
  {
   "cell_type": "code",
   "execution_count": 45,
   "id": "0acc4a8c",
   "metadata": {},
   "outputs": [],
   "source": [
    "monthorder= ['January', 'February', 'March', 'April', 'May', 'June', 'July', 'August', 'September', 'October', 'November', 'December']"
   ]
  },
  {
   "cell_type": "code",
   "execution_count": 46,
   "id": "a32f0d8b",
   "metadata": {},
   "outputs": [
    {
     "data": {
      "text/plain": [
       "<AxesSubplot:title={'center':\"California's Monthly Average Energy Demand 2018-2022\"}, xlabel='Month', ylabel='Daily Energy Demand'>"
      ]
     },
     "execution_count": 46,
     "metadata": {},
     "output_type": "execute_result"
    },
    {
     "data": {
      "image/png": "[encoded data removed]",
      "text/plain": [
       "<Figure size 1080x720 with 1 Axes>"
      ]
     },
     "metadata": {
      "needs_background": "light"
     },
     "output_type": "display_data"
    }
   ],
   "source": [
    "plt.figure(figsize=(15,10))\n",
    "plt.title(\"California's Monthly Average Energy Demand 2018-2022\", fontsize=18)\n",
    "plt.rc('axes', labelsize=14)\n",
    "plt.rc('xtick', labelsize=10)\n",
    "plt.rc('ytick', labelsize=10)\n",
    "sns.boxplot(data = masterdf, x= 'Month', y='Daily Energy Demand', order= monthorder)"
   ]
  },
  {
   "cell_type": "markdown",
   "id": "0c6f9e89-9d84-46c5-a79d-177d8cbf339b",
   "metadata": {},
   "source": [
    "Unsurprisingly, summer has the most energy demand, likely due to the use of air conditioning. Some outlying data points in May, September and October may be caused by unusually hot days. The effect of holiday breaks, such as those in December, is not clear at this point but may be counteracted by colder temperatures that have people turning on their heating systems more."
   ]
  },
  {
   "cell_type": "code",
   "execution_count": 47,
   "id": "1f58f7c0",
   "metadata": {},
   "outputs": [
    {
     "data": {
      "text/html": [
       "<div>\n",
       "<style scoped>\n",
       "    .dataframe tbody tr th:only-of-type {\n",
       "        vertical-align: middle;\n",
       "    }\n",
       "\n",
       "    .dataframe tbody tr th {\n",
       "        vertical-align: top;\n",
       "    }\n",
       "\n",
       "    .dataframe thead th {\n",
       "        text-align: right;\n",
       "    }\n",
       "</style>\n",
       "<table border=\"1\" class=\"dataframe\">\n",
       "  <thead>\n",
       "    <tr style=\"text-align: right;\">\n",
       "      <th></th>\n",
       "      <th>count</th>\n",
       "      <th>mean</th>\n",
       "      <th>std</th>\n",
       "      <th>min</th>\n",
       "      <th>25%</th>\n",
       "      <th>50%</th>\n",
       "      <th>75%</th>\n",
       "      <th>max</th>\n",
       "    </tr>\n",
       "    <tr>\n",
       "      <th>Month</th>\n",
       "      <th></th>\n",
       "      <th></th>\n",
       "      <th></th>\n",
       "      <th></th>\n",
       "      <th></th>\n",
       "      <th></th>\n",
       "      <th></th>\n",
       "      <th></th>\n",
       "    </tr>\n",
       "  </thead>\n",
       "  <tbody>\n",
       "    <tr>\n",
       "      <th>April</th>\n",
       "      <td>141.0</td>\n",
       "      <td>6.347513e+06</td>\n",
       "      <td>473008.087230</td>\n",
       "      <td>5242117.0</td>\n",
       "      <td>5937591.00</td>\n",
       "      <td>6409634.0</td>\n",
       "      <td>6643068.00</td>\n",
       "      <td>7638350.0</td>\n",
       "    </tr>\n",
       "    <tr>\n",
       "      <th>August</th>\n",
       "      <td>124.0</td>\n",
       "      <td>8.843042e+06</td>\n",
       "      <td>757050.465129</td>\n",
       "      <td>6905232.0</td>\n",
       "      <td>8320416.75</td>\n",
       "      <td>8879101.5</td>\n",
       "      <td>9289813.25</td>\n",
       "      <td>10513638.5</td>\n",
       "    </tr>\n",
       "    <tr>\n",
       "      <th>December</th>\n",
       "      <td>124.0</td>\n",
       "      <td>6.868592e+06</td>\n",
       "      <td>358262.903958</td>\n",
       "      <td>5893254.0</td>\n",
       "      <td>6537343.75</td>\n",
       "      <td>6960129.5</td>\n",
       "      <td>7117728.25</td>\n",
       "      <td>7618952.0</td>\n",
       "    </tr>\n",
       "    <tr>\n",
       "      <th>February</th>\n",
       "      <td>113.0</td>\n",
       "      <td>6.504537e+06</td>\n",
       "      <td>389272.330884</td>\n",
       "      <td>5642251.0</td>\n",
       "      <td>6271296.00</td>\n",
       "      <td>6532427.0</td>\n",
       "      <td>6809994.00</td>\n",
       "      <td>7221650.0</td>\n",
       "    </tr>\n",
       "    <tr>\n",
       "      <th>January</th>\n",
       "      <td>124.0</td>\n",
       "      <td>6.619063e+06</td>\n",
       "      <td>338727.128118</td>\n",
       "      <td>5810743.0</td>\n",
       "      <td>6353226.25</td>\n",
       "      <td>6720612.0</td>\n",
       "      <td>6875809.25</td>\n",
       "      <td>7174229.0</td>\n",
       "    </tr>\n",
       "    <tr>\n",
       "      <th>July</th>\n",
       "      <td>124.0</td>\n",
       "      <td>8.665619e+06</td>\n",
       "      <td>801693.007885</td>\n",
       "      <td>6790239.0</td>\n",
       "      <td>8181121.25</td>\n",
       "      <td>8659204.0</td>\n",
       "      <td>9224283.75</td>\n",
       "      <td>10325573.5</td>\n",
       "    </tr>\n",
       "    <tr>\n",
       "      <th>June</th>\n",
       "      <td>120.0</td>\n",
       "      <td>7.635755e+06</td>\n",
       "      <td>732388.115654</td>\n",
       "      <td>5756188.0</td>\n",
       "      <td>7106883.25</td>\n",
       "      <td>7662919.0</td>\n",
       "      <td>8073755.25</td>\n",
       "      <td>9508169.0</td>\n",
       "    </tr>\n",
       "    <tr>\n",
       "      <th>March</th>\n",
       "      <td>124.0</td>\n",
       "      <td>6.331962e+06</td>\n",
       "      <td>381818.228675</td>\n",
       "      <td>5350644.0</td>\n",
       "      <td>6012158.00</td>\n",
       "      <td>6414205.5</td>\n",
       "      <td>6614136.75</td>\n",
       "      <td>6940731.0</td>\n",
       "    </tr>\n",
       "    <tr>\n",
       "      <th>May</th>\n",
       "      <td>129.0</td>\n",
       "      <td>6.664921e+06</td>\n",
       "      <td>531614.866897</td>\n",
       "      <td>5588912.0</td>\n",
       "      <td>6277977.00</td>\n",
       "      <td>6721941.0</td>\n",
       "      <td>6999848.00</td>\n",
       "      <td>8501267.0</td>\n",
       "    </tr>\n",
       "    <tr>\n",
       "      <th>November</th>\n",
       "      <td>120.0</td>\n",
       "      <td>6.645302e+06</td>\n",
       "      <td>357637.605680</td>\n",
       "      <td>5834873.0</td>\n",
       "      <td>6286239.50</td>\n",
       "      <td>6753946.5</td>\n",
       "      <td>6914536.50</td>\n",
       "      <td>7314240.0</td>\n",
       "    </tr>\n",
       "    <tr>\n",
       "      <th>October</th>\n",
       "      <td>124.0</td>\n",
       "      <td>7.021411e+06</td>\n",
       "      <td>618564.293614</td>\n",
       "      <td>5721919.0</td>\n",
       "      <td>6587534.00</td>\n",
       "      <td>6959322.5</td>\n",
       "      <td>7362312.50</td>\n",
       "      <td>9272495.0</td>\n",
       "    </tr>\n",
       "    <tr>\n",
       "      <th>September</th>\n",
       "      <td>120.0</td>\n",
       "      <td>8.095429e+06</td>\n",
       "      <td>746876.461438</td>\n",
       "      <td>6138885.0</td>\n",
       "      <td>7671033.50</td>\n",
       "      <td>8034100.0</td>\n",
       "      <td>8476995.00</td>\n",
       "      <td>10171423.0</td>\n",
       "    </tr>\n",
       "  </tbody>\n",
       "</table>\n",
       "</div>"
      ],
      "text/plain": [
       "           count          mean            std        min         25%  \\\n",
       "Month                                                                  \n",
       "April      141.0  6.347513e+06  473008.087230  5242117.0  5937591.00   \n",
       "August     124.0  8.843042e+06  757050.465129  6905232.0  8320416.75   \n",
       "December   124.0  6.868592e+06  358262.903958  5893254.0  6537343.75   \n",
       "February   113.0  6.504537e+06  389272.330884  5642251.0  6271296.00   \n",
       "January    124.0  6.619063e+06  338727.128118  5810743.0  6353226.25   \n",
       "July       124.0  8.665619e+06  801693.007885  6790239.0  8181121.25   \n",
       "June       120.0  7.635755e+06  732388.115654  5756188.0  7106883.25   \n",
       "March      124.0  6.331962e+06  381818.228675  5350644.0  6012158.00   \n",
       "May        129.0  6.664921e+06  531614.866897  5588912.0  6277977.00   \n",
       "November   120.0  6.645302e+06  357637.605680  5834873.0  6286239.50   \n",
       "October    124.0  7.021411e+06  618564.293614  5721919.0  6587534.00   \n",
       "September  120.0  8.095429e+06  746876.461438  6138885.0  7671033.50   \n",
       "\n",
       "                 50%         75%         max  \n",
       "Month                                         \n",
       "April      6409634.0  6643068.00   7638350.0  \n",
       "August     8879101.5  9289813.25  10513638.5  \n",
       "December   6960129.5  7117728.25   7618952.0  \n",
       "February   6532427.0  6809994.00   7221650.0  \n",
       "January    6720612.0  6875809.25   7174229.0  \n",
       "July       8659204.0  9224283.75  10325573.5  \n",
       "June       7662919.0  8073755.25   9508169.0  \n",
       "March      6414205.5  6614136.75   6940731.0  \n",
       "May        6721941.0  6999848.00   8501267.0  \n",
       "November   6753946.5  6914536.50   7314240.0  \n",
       "October    6959322.5  7362312.50   9272495.0  \n",
       "September  8034100.0  8476995.00  10171423.0  "
      ]
     },
     "execution_count": 47,
     "metadata": {},
     "output_type": "execute_result"
    }
   ],
   "source": [
    "masterdf.groupby('Month')['Daily Energy Demand'].describe()"
   ]
  },
  {
   "cell_type": "markdown",
   "id": "2c8b4573-1bb0-40ce-bb38-c43c53b49c29",
   "metadata": {},
   "source": [
    "#### 2.3.3 Feature Engineering- Year"
   ]
  },
  {
   "cell_type": "markdown",
   "id": "0bdd4a67-9971-4ff5-b614-47c51956597a",
   "metadata": {},
   "source": [
    "Creating a year feature.\n",
    "\n",
    "We know that the first and final years in the data set are incomplete, so having the ability to seperate by year is important. Additionally, it will be interesting to see how demand has changed over the years."
   ]
  },
  {
   "cell_type": "code",
   "execution_count": 48,
   "id": "c8b29d4c",
   "metadata": {},
   "outputs": [],
   "source": [
    "masterdf['Year']= masterdf['Date_DateObj'].dt.year"
   ]
  },
  {
   "cell_type": "code",
   "execution_count": 49,
   "id": "f421fded",
   "metadata": {},
   "outputs": [
    {
     "data": {
      "text/html": [
       "<div>\n",
       "<style scoped>\n",
       "    .dataframe tbody tr th:only-of-type {\n",
       "        vertical-align: middle;\n",
       "    }\n",
       "\n",
       "    .dataframe tbody tr th {\n",
       "        vertical-align: top;\n",
       "    }\n",
       "\n",
       "    .dataframe thead th {\n",
       "        text-align: right;\n",
       "    }\n",
       "</style>\n",
       "<table border=\"1\" class=\"dataframe\">\n",
       "  <thead>\n",
       "    <tr style=\"text-align: right;\">\n",
       "      <th></th>\n",
       "      <th>Date</th>\n",
       "      <th>Date_DateObj</th>\n",
       "      <th>Day</th>\n",
       "      <th>Daily Energy Demand</th>\n",
       "      <th>Month</th>\n",
       "      <th>Year</th>\n",
       "    </tr>\n",
       "  </thead>\n",
       "  <tbody>\n",
       "    <tr>\n",
       "      <th>0</th>\n",
       "      <td>04/10/2018</td>\n",
       "      <td>2018-04-10</td>\n",
       "      <td>Tuesday</td>\n",
       "      <td>7183786.0</td>\n",
       "      <td>April</td>\n",
       "      <td>2018</td>\n",
       "    </tr>\n",
       "    <tr>\n",
       "      <th>1</th>\n",
       "      <td>04/11/2018</td>\n",
       "      <td>2018-04-11</td>\n",
       "      <td>Wednesday</td>\n",
       "      <td>6927243.5</td>\n",
       "      <td>April</td>\n",
       "      <td>2018</td>\n",
       "    </tr>\n",
       "  </tbody>\n",
       "</table>\n",
       "</div>"
      ],
      "text/plain": [
       "         Date Date_DateObj        Day  Daily Energy Demand  Month  Year\n",
       "0  04/10/2018   2018-04-10    Tuesday            7183786.0  April  2018\n",
       "1  04/11/2018   2018-04-11  Wednesday            6927243.5  April  2018"
      ]
     },
     "execution_count": 49,
     "metadata": {},
     "output_type": "execute_result"
    }
   ],
   "source": [
    "masterdf.head(2)"
   ]
  },
  {
   "cell_type": "markdown",
   "id": "a1be13c2",
   "metadata": {},
   "source": [
    "Since both 2018 and 2022 are incomplete, let's first look at a boxplot of the complete years "
   ]
  },
  {
   "cell_type": "code",
   "execution_count": 50,
   "id": "26e73ca3",
   "metadata": {
    "scrolled": true
   },
   "outputs": [
    {
     "data": {
      "text/plain": [
       "<AxesSubplot:title={'center':\"California's Yearly Energy Demand\"}, xlabel='Year', ylabel='Daily Energy Demand'>"
      ]
     },
     "execution_count": 50,
     "metadata": {},
     "output_type": "execute_result"
    },
    {
     "data": {
      "image/png": "[encoded data removed]",
      "text/plain": [
       "<Figure size 576x360 with 1 Axes>"
      ]
     },
     "metadata": {
      "needs_background": "light"
     },
     "output_type": "display_data"
    }
   ],
   "source": [
    "plt.figure(figsize=(8,5))\n",
    "plt.title(\"California's Yearly Energy Demand\", fontsize = 18)\n",
    "plt.rc('axes', labelsize=14)\n",
    "plt.rc('xtick', labelsize=10)\n",
    "plt.rc('ytick', labelsize=10)\n",
    "full_years = masterdf[(masterdf['Year']== 2019) | (masterdf['Year']== 2020)| (masterdf['Year']== 2021)]          \n",
    "sns.boxplot(data = full_years, x= 'Year', y='Daily Energy Demand')"
   ]
  },
  {
   "cell_type": "markdown",
   "id": "a39a3d83-502b-4ed4-9ac6-c45b2a78ac1d",
   "metadata": {},
   "source": [
    "Both 2020 and 2021 had higher energy demand than 2019. It is notable that despite disruptions caused by COVID-19 in 2020, the energy demand for 2021 is about equal to the demand in 2020."
   ]
  },
  {
   "cell_type": "code",
   "execution_count": 51,
   "id": "839c3866",
   "metadata": {},
   "outputs": [
    {
     "data": {
      "text/plain": [
       "<AxesSubplot:title={'center':'Note:2018 is missing data from Jan-March'}, xlabel='Month', ylabel='Daily Energy Demand'>"
      ]
     },
     "execution_count": 51,
     "metadata": {},
     "output_type": "execute_result"
    },
    {
     "data": {
      "image/png": "[encoded data removed]",
      "text/plain": [
       "<Figure size 1080x720 with 1 Axes>"
      ]
     },
     "metadata": {
      "needs_background": "light"
     },
     "output_type": "display_data"
    }
   ],
   "source": [
    "plt.figure(figsize=(15,10))\n",
    "plt.suptitle(\"California's Energy Demand From 2018-2021\", fontsize = 18)\n",
    "plt.title(\"Note:2018 is missing data from Jan-March\", fontsize = 13)\n",
    "lineplotdata=masterdf[(masterdf['Year'] != 2022)]\n",
    "sns.lineplot(data=lineplotdata, x='Month', y='Daily Energy Demand', hue='Year')"
   ]
  },
  {
   "cell_type": "markdown",
   "id": "5d829eb0-b592-4e84-a96c-72db4b5e9e30",
   "metadata": {},
   "source": [
    "Looking at the energy demand each month, it appears that there is a decent amount of fluctuation from year to year. \n",
    "\n",
    "A more straight-forward way to see this fluctuation is by plotting one month at a time. \n",
    "\n",
    "Take July for example:"
   ]
  },
  {
   "cell_type": "code",
   "execution_count": 52,
   "id": "2bad86bb",
   "metadata": {},
   "outputs": [
    {
     "data": {
      "text/plain": [
       "<AxesSubplot:title={'center':'CA Energy Demand in July'}, xlabel='Year', ylabel='Daily Energy Demand'>"
      ]
     },
     "execution_count": 52,
     "metadata": {},
     "output_type": "execute_result"
    },
    {
     "data": {
      "image/png": "[encoded data removed]",
      "text/plain": [
       "<Figure size 576x360 with 1 Axes>"
      ]
     },
     "metadata": {
      "needs_background": "light"
     },
     "output_type": "display_data"
    }
   ],
   "source": [
    "plt.figure(figsize=(8,5))\n",
    "plt.title(\"CA Energy Demand in July\", fontsize = 18)\n",
    "july_e = masterdf[(masterdf['Month']== 'July')]   \n",
    "plt.rc('axes', labelsize=14)\n",
    "plt.rc('xtick', labelsize=10)\n",
    "plt.rc('ytick', labelsize=10)\n",
    "sns.boxplot(data = july_e, x= 'Year', y='Daily Energy Demand')"
   ]
  },
  {
   "cell_type": "markdown",
   "id": "704a7e4b",
   "metadata": {},
   "source": [
    "The monthly trends for July highlight the fluctuation between years, especially given the inverse trend observed in this graph as opposed to the Yearly Energy Demand Graph that showed 2020 and 2021 as about equal and 2019 as having less energy demand.\n",
    "\n",
    "This highlights the importance of considering weather data in the forecasting of energy demand."
   ]
  },
  {
   "cell_type": "code",
   "execution_count": 53,
   "id": "669ee979",
   "metadata": {},
   "outputs": [
    {
     "data": {
      "text/html": [
       "<div>\n",
       "<style scoped>\n",
       "    .dataframe tbody tr th:only-of-type {\n",
       "        vertical-align: middle;\n",
       "    }\n",
       "\n",
       "    .dataframe tbody tr th {\n",
       "        vertical-align: top;\n",
       "    }\n",
       "\n",
       "    .dataframe thead th {\n",
       "        text-align: right;\n",
       "    }\n",
       "</style>\n",
       "<table border=\"1\" class=\"dataframe\">\n",
       "  <thead>\n",
       "    <tr style=\"text-align: right;\">\n",
       "      <th></th>\n",
       "      <th>Date</th>\n",
       "      <th>Date_DateObj</th>\n",
       "      <th>Day</th>\n",
       "      <th>Daily Energy Demand</th>\n",
       "      <th>Month</th>\n",
       "      <th>Year</th>\n",
       "    </tr>\n",
       "  </thead>\n",
       "  <tbody>\n",
       "    <tr>\n",
       "      <th>0</th>\n",
       "      <td>04/10/2018</td>\n",
       "      <td>2018-04-10</td>\n",
       "      <td>Tuesday</td>\n",
       "      <td>7183786.0</td>\n",
       "      <td>April</td>\n",
       "      <td>2018</td>\n",
       "    </tr>\n",
       "    <tr>\n",
       "      <th>1</th>\n",
       "      <td>04/11/2018</td>\n",
       "      <td>2018-04-11</td>\n",
       "      <td>Wednesday</td>\n",
       "      <td>6927243.5</td>\n",
       "      <td>April</td>\n",
       "      <td>2018</td>\n",
       "    </tr>\n",
       "    <tr>\n",
       "      <th>2</th>\n",
       "      <td>04/12/2018</td>\n",
       "      <td>2018-04-12</td>\n",
       "      <td>Thursday</td>\n",
       "      <td>6670701.0</td>\n",
       "      <td>April</td>\n",
       "      <td>2018</td>\n",
       "    </tr>\n",
       "    <tr>\n",
       "      <th>3</th>\n",
       "      <td>04/13/2018</td>\n",
       "      <td>2018-04-13</td>\n",
       "      <td>Friday</td>\n",
       "      <td>6643068.0</td>\n",
       "      <td>April</td>\n",
       "      <td>2018</td>\n",
       "    </tr>\n",
       "    <tr>\n",
       "      <th>4</th>\n",
       "      <td>04/14/2018</td>\n",
       "      <td>2018-04-14</td>\n",
       "      <td>Saturday</td>\n",
       "      <td>6183992.0</td>\n",
       "      <td>April</td>\n",
       "      <td>2018</td>\n",
       "    </tr>\n",
       "    <tr>\n",
       "      <th>...</th>\n",
       "      <td>...</td>\n",
       "      <td>...</td>\n",
       "      <td>...</td>\n",
       "      <td>...</td>\n",
       "      <td>...</td>\n",
       "      <td>...</td>\n",
       "    </tr>\n",
       "    <tr>\n",
       "      <th>1482</th>\n",
       "      <td>05/01/2022</td>\n",
       "      <td>2022-05-01</td>\n",
       "      <td>Sunday</td>\n",
       "      <td>5602391.0</td>\n",
       "      <td>May</td>\n",
       "      <td>2022</td>\n",
       "    </tr>\n",
       "    <tr>\n",
       "      <th>1483</th>\n",
       "      <td>05/02/2022</td>\n",
       "      <td>2022-05-02</td>\n",
       "      <td>Monday</td>\n",
       "      <td>6418406.0</td>\n",
       "      <td>May</td>\n",
       "      <td>2022</td>\n",
       "    </tr>\n",
       "    <tr>\n",
       "      <th>1484</th>\n",
       "      <td>05/03/2022</td>\n",
       "      <td>2022-05-03</td>\n",
       "      <td>Tuesday</td>\n",
       "      <td>6544626.0</td>\n",
       "      <td>May</td>\n",
       "      <td>2022</td>\n",
       "    </tr>\n",
       "    <tr>\n",
       "      <th>1485</th>\n",
       "      <td>05/04/2022</td>\n",
       "      <td>2022-05-04</td>\n",
       "      <td>Wednesday</td>\n",
       "      <td>6777355.0</td>\n",
       "      <td>May</td>\n",
       "      <td>2022</td>\n",
       "    </tr>\n",
       "    <tr>\n",
       "      <th>1486</th>\n",
       "      <td>05/05/2022</td>\n",
       "      <td>2022-05-05</td>\n",
       "      <td>Thursday</td>\n",
       "      <td>6777355.0</td>\n",
       "      <td>May</td>\n",
       "      <td>2022</td>\n",
       "    </tr>\n",
       "  </tbody>\n",
       "</table>\n",
       "<p>1487 rows × 6 columns</p>\n",
       "</div>"
      ],
      "text/plain": [
       "            Date Date_DateObj        Day  Daily Energy Demand  Month  Year\n",
       "0     04/10/2018   2018-04-10    Tuesday            7183786.0  April  2018\n",
       "1     04/11/2018   2018-04-11  Wednesday            6927243.5  April  2018\n",
       "2     04/12/2018   2018-04-12   Thursday            6670701.0  April  2018\n",
       "3     04/13/2018   2018-04-13     Friday            6643068.0  April  2018\n",
       "4     04/14/2018   2018-04-14   Saturday            6183992.0  April  2018\n",
       "...          ...          ...        ...                  ...    ...   ...\n",
       "1482  05/01/2022   2022-05-01     Sunday            5602391.0    May  2022\n",
       "1483  05/02/2022   2022-05-02     Monday            6418406.0    May  2022\n",
       "1484  05/03/2022   2022-05-03    Tuesday            6544626.0    May  2022\n",
       "1485  05/04/2022   2022-05-04  Wednesday            6777355.0    May  2022\n",
       "1486  05/05/2022   2022-05-05   Thursday            6777355.0    May  2022\n",
       "\n",
       "[1487 rows x 6 columns]"
      ]
     },
     "execution_count": 53,
     "metadata": {},
     "output_type": "execute_result"
    }
   ],
   "source": [
    "masterdf"
   ]
  },
  {
   "cell_type": "markdown",
   "id": "bc4588b2-c4e2-4093-94a6-73ba760620b5",
   "metadata": {},
   "source": [
    "## Incorporating Weather Data"
   ]
  },
  {
   "cell_type": "code",
   "execution_count": 54,
   "id": "c633d54d-2334-412e-9e16-35105545cbc0",
   "metadata": {},
   "outputs": [
    {
     "data": {
      "text/plain": [
       "['Date', 'Date_DateObj', 'Day', 'Daily Energy Demand', 'Month', 'Year']"
      ]
     },
     "execution_count": 54,
     "metadata": {},
     "output_type": "execute_result"
    }
   ],
   "source": [
    "list(masterdf.columns.values)"
   ]
  },
  {
   "cell_type": "markdown",
   "id": "b69edf25-7bd2-4ca2-bffa-d0e24da36ac9",
   "metadata": {},
   "source": [
    "Reordering columns to keep all date-related columns next to each other"
   ]
  },
  {
   "cell_type": "code",
   "execution_count": 55,
   "id": "a1ba10ad-f827-4665-b091-be781e6fdfc6",
   "metadata": {},
   "outputs": [],
   "source": [
    "masterdf= masterdf[['Date', 'Date_DateObj', 'Day', 'Month', 'Year', 'Daily Energy Demand']]"
   ]
  },
  {
   "cell_type": "code",
   "execution_count": 56,
   "id": "c0e7e585-5030-4e30-8cff-434dcfa7f2e8",
   "metadata": {},
   "outputs": [
    {
     "data": {
      "text/html": [
       "<div>\n",
       "<style scoped>\n",
       "    .dataframe tbody tr th:only-of-type {\n",
       "        vertical-align: middle;\n",
       "    }\n",
       "\n",
       "    .dataframe tbody tr th {\n",
       "        vertical-align: top;\n",
       "    }\n",
       "\n",
       "    .dataframe thead th {\n",
       "        text-align: right;\n",
       "    }\n",
       "</style>\n",
       "<table border=\"1\" class=\"dataframe\">\n",
       "  <thead>\n",
       "    <tr style=\"text-align: right;\">\n",
       "      <th></th>\n",
       "      <th>Date</th>\n",
       "      <th>Date_DateObj</th>\n",
       "      <th>Day</th>\n",
       "      <th>Month</th>\n",
       "      <th>Year</th>\n",
       "      <th>Daily Energy Demand</th>\n",
       "    </tr>\n",
       "  </thead>\n",
       "  <tbody>\n",
       "    <tr>\n",
       "      <th>0</th>\n",
       "      <td>04/10/2018</td>\n",
       "      <td>2018-04-10</td>\n",
       "      <td>Tuesday</td>\n",
       "      <td>April</td>\n",
       "      <td>2018</td>\n",
       "      <td>7183786.0</td>\n",
       "    </tr>\n",
       "    <tr>\n",
       "      <th>1</th>\n",
       "      <td>04/11/2018</td>\n",
       "      <td>2018-04-11</td>\n",
       "      <td>Wednesday</td>\n",
       "      <td>April</td>\n",
       "      <td>2018</td>\n",
       "      <td>6927243.5</td>\n",
       "    </tr>\n",
       "    <tr>\n",
       "      <th>2</th>\n",
       "      <td>04/12/2018</td>\n",
       "      <td>2018-04-12</td>\n",
       "      <td>Thursday</td>\n",
       "      <td>April</td>\n",
       "      <td>2018</td>\n",
       "      <td>6670701.0</td>\n",
       "    </tr>\n",
       "  </tbody>\n",
       "</table>\n",
       "</div>"
      ],
      "text/plain": [
       "         Date Date_DateObj        Day  Month  Year  Daily Energy Demand\n",
       "0  04/10/2018   2018-04-10    Tuesday  April  2018            7183786.0\n",
       "1  04/11/2018   2018-04-11  Wednesday  April  2018            6927243.5\n",
       "2  04/12/2018   2018-04-12   Thursday  April  2018            6670701.0"
      ]
     },
     "execution_count": 56,
     "metadata": {},
     "output_type": "execute_result"
    }
   ],
   "source": [
    "masterdf.head(3)"
   ]
  },
  {
   "cell_type": "code",
   "execution_count": 57,
   "id": "a78d2dd7-8fb5-454d-b106-939bf77a801c",
   "metadata": {},
   "outputs": [],
   "source": [
    "maxtempdf=pd.read_csv('MaxTempData.csv', index_col=0)"
   ]
  },
  {
   "cell_type": "code",
   "execution_count": 58,
   "id": "abc2ea92-6511-4a26-99e4-8cc40fa9ef85",
   "metadata": {},
   "outputs": [
    {
     "data": {
      "text/html": [
       "<div>\n",
       "<style scoped>\n",
       "    .dataframe tbody tr th:only-of-type {\n",
       "        vertical-align: middle;\n",
       "    }\n",
       "\n",
       "    .dataframe tbody tr th {\n",
       "        vertical-align: top;\n",
       "    }\n",
       "\n",
       "    .dataframe thead th {\n",
       "        text-align: right;\n",
       "    }\n",
       "</style>\n",
       "<table border=\"1\" class=\"dataframe\">\n",
       "  <thead>\n",
       "    <tr style=\"text-align: right;\">\n",
       "      <th></th>\n",
       "      <th>Date</th>\n",
       "      <th>Max Temp</th>\n",
       "      <th>Station ID</th>\n",
       "      <th>Station Location</th>\n",
       "    </tr>\n",
       "  </thead>\n",
       "  <tbody>\n",
       "    <tr>\n",
       "      <th>0</th>\n",
       "      <td>2018-01-01</td>\n",
       "      <td>67.0</td>\n",
       "      <td>GHCND:USW00023174</td>\n",
       "      <td>Los Angeles International Airport</td>\n",
       "    </tr>\n",
       "    <tr>\n",
       "      <th>1</th>\n",
       "      <td>2018-01-02</td>\n",
       "      <td>76.0</td>\n",
       "      <td>GHCND:USW00023174</td>\n",
       "      <td>Los Angeles International Airport</td>\n",
       "    </tr>\n",
       "    <tr>\n",
       "      <th>2</th>\n",
       "      <td>2018-01-03</td>\n",
       "      <td>76.0</td>\n",
       "      <td>GHCND:USW00023174</td>\n",
       "      <td>Los Angeles International Airport</td>\n",
       "    </tr>\n",
       "    <tr>\n",
       "      <th>3</th>\n",
       "      <td>2018-01-04</td>\n",
       "      <td>74.0</td>\n",
       "      <td>GHCND:USW00023174</td>\n",
       "      <td>Los Angeles International Airport</td>\n",
       "    </tr>\n",
       "    <tr>\n",
       "      <th>4</th>\n",
       "      <td>2018-01-05</td>\n",
       "      <td>69.0</td>\n",
       "      <td>GHCND:USW00023174</td>\n",
       "      <td>Los Angeles International Airport</td>\n",
       "    </tr>\n",
       "    <tr>\n",
       "      <th>...</th>\n",
       "      <td>...</td>\n",
       "      <td>...</td>\n",
       "      <td>...</td>\n",
       "      <td>...</td>\n",
       "    </tr>\n",
       "    <tr>\n",
       "      <th>10766</th>\n",
       "      <td>2022-05-08</td>\n",
       "      <td>68.0</td>\n",
       "      <td>GHCND:USW00003102</td>\n",
       "      <td>Ontario Airport</td>\n",
       "    </tr>\n",
       "    <tr>\n",
       "      <th>10767</th>\n",
       "      <td>2022-05-09</td>\n",
       "      <td>69.0</td>\n",
       "      <td>GHCND:USW00003102</td>\n",
       "      <td>Ontario Airport</td>\n",
       "    </tr>\n",
       "    <tr>\n",
       "      <th>10768</th>\n",
       "      <td>2022-05-10</td>\n",
       "      <td>72.0</td>\n",
       "      <td>GHCND:USW00003102</td>\n",
       "      <td>Ontario Airport</td>\n",
       "    </tr>\n",
       "    <tr>\n",
       "      <th>10769</th>\n",
       "      <td>2022-05-11</td>\n",
       "      <td>71.0</td>\n",
       "      <td>GHCND:USW00003102</td>\n",
       "      <td>Ontario Airport</td>\n",
       "    </tr>\n",
       "    <tr>\n",
       "      <th>10770</th>\n",
       "      <td>2022-05-12</td>\n",
       "      <td>84.0</td>\n",
       "      <td>GHCND:USW00003102</td>\n",
       "      <td>Ontario Airport</td>\n",
       "    </tr>\n",
       "  </tbody>\n",
       "</table>\n",
       "<p>10771 rows × 4 columns</p>\n",
       "</div>"
      ],
      "text/plain": [
       "             Date  Max Temp         Station ID  \\\n",
       "0      2018-01-01      67.0  GHCND:USW00023174   \n",
       "1      2018-01-02      76.0  GHCND:USW00023174   \n",
       "2      2018-01-03      76.0  GHCND:USW00023174   \n",
       "3      2018-01-04      74.0  GHCND:USW00023174   \n",
       "4      2018-01-05      69.0  GHCND:USW00023174   \n",
       "...           ...       ...                ...   \n",
       "10766  2022-05-08      68.0  GHCND:USW00003102   \n",
       "10767  2022-05-09      69.0  GHCND:USW00003102   \n",
       "10768  2022-05-10      72.0  GHCND:USW00003102   \n",
       "10769  2022-05-11      71.0  GHCND:USW00003102   \n",
       "10770  2022-05-12      84.0  GHCND:USW00003102   \n",
       "\n",
       "                        Station Location  \n",
       "0      Los Angeles International Airport  \n",
       "1      Los Angeles International Airport  \n",
       "2      Los Angeles International Airport  \n",
       "3      Los Angeles International Airport  \n",
       "4      Los Angeles International Airport  \n",
       "...                                  ...  \n",
       "10766                    Ontario Airport  \n",
       "10767                    Ontario Airport  \n",
       "10768                    Ontario Airport  \n",
       "10769                    Ontario Airport  \n",
       "10770                    Ontario Airport  \n",
       "\n",
       "[10771 rows x 4 columns]"
      ]
     },
     "execution_count": 58,
     "metadata": {},
     "output_type": "execute_result"
    }
   ],
   "source": [
    "maxtempdf"
   ]
  },
  {
   "cell_type": "code",
   "execution_count": 59,
   "id": "271e282e-6708-495c-b83f-e0948884932e",
   "metadata": {},
   "outputs": [
    {
     "data": {
      "text/plain": [
       "0        2018-01-01\n",
       "1        2018-01-02\n",
       "2        2018-01-03\n",
       "3        2018-01-04\n",
       "4        2018-01-05\n",
       "            ...    \n",
       "10766    2022-05-08\n",
       "10767    2022-05-09\n",
       "10768    2022-05-10\n",
       "10769    2022-05-11\n",
       "10770    2022-05-12\n",
       "Name: Date, Length: 10771, dtype: object"
      ]
     },
     "execution_count": 59,
     "metadata": {},
     "output_type": "execute_result"
    }
   ],
   "source": [
    "maxtempdf['Date']"
   ]
  },
  {
   "cell_type": "code",
   "execution_count": 60,
   "id": "c13780b9-861d-4c61-b315-6eb7158ee237",
   "metadata": {},
   "outputs": [],
   "source": [
    "maxtempdf['Date'] = pd.to_datetime((maxtempdf['Date']))"
   ]
  },
  {
   "cell_type": "code",
   "execution_count": 61,
   "id": "f03632b0-00fd-4b6d-9308-c34d2b2bffb4",
   "metadata": {},
   "outputs": [
    {
     "data": {
      "text/plain": [
       "0       2018-01-01\n",
       "1       2018-01-02\n",
       "2       2018-01-03\n",
       "3       2018-01-04\n",
       "4       2018-01-05\n",
       "           ...    \n",
       "10766   2022-05-08\n",
       "10767   2022-05-09\n",
       "10768   2022-05-10\n",
       "10769   2022-05-11\n",
       "10770   2022-05-12\n",
       "Name: Date, Length: 10771, dtype: datetime64[ns]"
      ]
     },
     "execution_count": 61,
     "metadata": {},
     "output_type": "execute_result"
    }
   ],
   "source": [
    "maxtempdf['Date']"
   ]
  },
  {
   "cell_type": "markdown",
   "id": "c8152354-d9b8-44a3-836f-639254512a85",
   "metadata": {},
   "source": [
    "Need to set the datetime feature as the index so we can use the `.join()` method with the energy data frame"
   ]
  },
  {
   "cell_type": "code",
   "execution_count": 62,
   "id": "9f57927a-5d11-4262-b62f-4459d2c50348",
   "metadata": {},
   "outputs": [],
   "source": [
    "maxtempdf = maxtempdf.set_index('Date')"
   ]
  },
  {
   "cell_type": "code",
   "execution_count": 63,
   "id": "a5eb0b66-a32f-4b12-a7f2-fa2aa4e10c77",
   "metadata": {},
   "outputs": [
    {
     "data": {
      "text/html": [
       "<div>\n",
       "<style scoped>\n",
       "    .dataframe tbody tr th:only-of-type {\n",
       "        vertical-align: middle;\n",
       "    }\n",
       "\n",
       "    .dataframe tbody tr th {\n",
       "        vertical-align: top;\n",
       "    }\n",
       "\n",
       "    .dataframe thead th {\n",
       "        text-align: right;\n",
       "    }\n",
       "</style>\n",
       "<table border=\"1\" class=\"dataframe\">\n",
       "  <thead>\n",
       "    <tr style=\"text-align: right;\">\n",
       "      <th></th>\n",
       "      <th>Date</th>\n",
       "      <th>Date_DateObj</th>\n",
       "      <th>Day</th>\n",
       "      <th>Month</th>\n",
       "      <th>Year</th>\n",
       "      <th>Daily Energy Demand</th>\n",
       "    </tr>\n",
       "  </thead>\n",
       "  <tbody>\n",
       "    <tr>\n",
       "      <th>0</th>\n",
       "      <td>04/10/2018</td>\n",
       "      <td>2018-04-10</td>\n",
       "      <td>Tuesday</td>\n",
       "      <td>April</td>\n",
       "      <td>2018</td>\n",
       "      <td>7183786.0</td>\n",
       "    </tr>\n",
       "    <tr>\n",
       "      <th>1</th>\n",
       "      <td>04/11/2018</td>\n",
       "      <td>2018-04-11</td>\n",
       "      <td>Wednesday</td>\n",
       "      <td>April</td>\n",
       "      <td>2018</td>\n",
       "      <td>6927243.5</td>\n",
       "    </tr>\n",
       "    <tr>\n",
       "      <th>2</th>\n",
       "      <td>04/12/2018</td>\n",
       "      <td>2018-04-12</td>\n",
       "      <td>Thursday</td>\n",
       "      <td>April</td>\n",
       "      <td>2018</td>\n",
       "      <td>6670701.0</td>\n",
       "    </tr>\n",
       "    <tr>\n",
       "      <th>3</th>\n",
       "      <td>04/13/2018</td>\n",
       "      <td>2018-04-13</td>\n",
       "      <td>Friday</td>\n",
       "      <td>April</td>\n",
       "      <td>2018</td>\n",
       "      <td>6643068.0</td>\n",
       "    </tr>\n",
       "    <tr>\n",
       "      <th>4</th>\n",
       "      <td>04/14/2018</td>\n",
       "      <td>2018-04-14</td>\n",
       "      <td>Saturday</td>\n",
       "      <td>April</td>\n",
       "      <td>2018</td>\n",
       "      <td>6183992.0</td>\n",
       "    </tr>\n",
       "  </tbody>\n",
       "</table>\n",
       "</div>"
      ],
      "text/plain": [
       "         Date Date_DateObj        Day  Month  Year  Daily Energy Demand\n",
       "0  04/10/2018   2018-04-10    Tuesday  April  2018            7183786.0\n",
       "1  04/11/2018   2018-04-11  Wednesday  April  2018            6927243.5\n",
       "2  04/12/2018   2018-04-12   Thursday  April  2018            6670701.0\n",
       "3  04/13/2018   2018-04-13     Friday  April  2018            6643068.0\n",
       "4  04/14/2018   2018-04-14   Saturday  April  2018            6183992.0"
      ]
     },
     "execution_count": 63,
     "metadata": {},
     "output_type": "execute_result"
    }
   ],
   "source": [
    "masterdf.head()"
   ]
  },
  {
   "cell_type": "code",
   "execution_count": 64,
   "id": "04847879-e388-4dbd-8632-bbe8b1eff6c7",
   "metadata": {},
   "outputs": [],
   "source": [
    "masterdf = masterdf.set_index('Date_DateObj')"
   ]
  },
  {
   "cell_type": "code",
   "execution_count": 65,
   "id": "a57d239e-49b3-4ca3-a13c-baccac1e228b",
   "metadata": {},
   "outputs": [],
   "source": [
    "masterdf2= masterdf.join(maxtempdf)"
   ]
  },
  {
   "cell_type": "markdown",
   "id": "53f3092a-3486-4503-a1f7-2bf49ca0951f",
   "metadata": {},
   "source": [
    "Important to note that this is a left join by default, which is what we want because we have a larger date range in the temp data than in the energy data."
   ]
  },
  {
   "cell_type": "code",
   "execution_count": 66,
   "id": "e141aa44-0cc8-4624-82da-658688b929a6",
   "metadata": {},
   "outputs": [
    {
     "data": {
      "text/html": [
       "<div>\n",
       "<style scoped>\n",
       "    .dataframe tbody tr th:only-of-type {\n",
       "        vertical-align: middle;\n",
       "    }\n",
       "\n",
       "    .dataframe tbody tr th {\n",
       "        vertical-align: top;\n",
       "    }\n",
       "\n",
       "    .dataframe thead th {\n",
       "        text-align: right;\n",
       "    }\n",
       "</style>\n",
       "<table border=\"1\" class=\"dataframe\">\n",
       "  <thead>\n",
       "    <tr style=\"text-align: right;\">\n",
       "      <th></th>\n",
       "      <th>Date</th>\n",
       "      <th>Day</th>\n",
       "      <th>Month</th>\n",
       "      <th>Year</th>\n",
       "      <th>Daily Energy Demand</th>\n",
       "      <th>Max Temp</th>\n",
       "      <th>Station ID</th>\n",
       "      <th>Station Location</th>\n",
       "    </tr>\n",
       "  </thead>\n",
       "  <tbody>\n",
       "    <tr>\n",
       "      <th>2018-04-10</th>\n",
       "      <td>04/10/2018</td>\n",
       "      <td>Tuesday</td>\n",
       "      <td>April</td>\n",
       "      <td>2018</td>\n",
       "      <td>7183786.0</td>\n",
       "      <td>79.0</td>\n",
       "      <td>GHCND:USW00023174</td>\n",
       "      <td>Los Angeles International Airport</td>\n",
       "    </tr>\n",
       "    <tr>\n",
       "      <th>2018-04-10</th>\n",
       "      <td>04/10/2018</td>\n",
       "      <td>Tuesday</td>\n",
       "      <td>April</td>\n",
       "      <td>2018</td>\n",
       "      <td>7183786.0</td>\n",
       "      <td>85.0</td>\n",
       "      <td>GHCND:USW00023188</td>\n",
       "      <td>San Diego Airport</td>\n",
       "    </tr>\n",
       "    <tr>\n",
       "      <th>2018-04-10</th>\n",
       "      <td>04/10/2018</td>\n",
       "      <td>Tuesday</td>\n",
       "      <td>April</td>\n",
       "      <td>2018</td>\n",
       "      <td>7183786.0</td>\n",
       "      <td>63.0</td>\n",
       "      <td>GHCND:USW00023272</td>\n",
       "      <td>San Francisco Downtown</td>\n",
       "    </tr>\n",
       "    <tr>\n",
       "      <th>2018-04-10</th>\n",
       "      <td>04/10/2018</td>\n",
       "      <td>Tuesday</td>\n",
       "      <td>April</td>\n",
       "      <td>2018</td>\n",
       "      <td>7183786.0</td>\n",
       "      <td>86.0</td>\n",
       "      <td>GHCND:USW00093193</td>\n",
       "      <td>FRESNO YOSEMITE INTERNATIONAL</td>\n",
       "    </tr>\n",
       "    <tr>\n",
       "      <th>2018-04-10</th>\n",
       "      <td>04/10/2018</td>\n",
       "      <td>Tuesday</td>\n",
       "      <td>April</td>\n",
       "      <td>2018</td>\n",
       "      <td>7183786.0</td>\n",
       "      <td>69.0</td>\n",
       "      <td>GHCND:USW00023293</td>\n",
       "      <td>San Jose</td>\n",
       "    </tr>\n",
       "    <tr>\n",
       "      <th>...</th>\n",
       "      <td>...</td>\n",
       "      <td>...</td>\n",
       "      <td>...</td>\n",
       "      <td>...</td>\n",
       "      <td>...</td>\n",
       "      <td>...</td>\n",
       "      <td>...</td>\n",
       "      <td>...</td>\n",
       "    </tr>\n",
       "    <tr>\n",
       "      <th>2022-05-05</th>\n",
       "      <td>05/05/2022</td>\n",
       "      <td>Thursday</td>\n",
       "      <td>May</td>\n",
       "      <td>2022</td>\n",
       "      <td>6777355.0</td>\n",
       "      <td>59.0</td>\n",
       "      <td>GHCND:USW00023272</td>\n",
       "      <td>San Francisco Downtown</td>\n",
       "    </tr>\n",
       "    <tr>\n",
       "      <th>2022-05-05</th>\n",
       "      <td>05/05/2022</td>\n",
       "      <td>Thursday</td>\n",
       "      <td>May</td>\n",
       "      <td>2022</td>\n",
       "      <td>6777355.0</td>\n",
       "      <td>91.0</td>\n",
       "      <td>GHCND:USW00093193</td>\n",
       "      <td>FRESNO YOSEMITE INTERNATIONAL</td>\n",
       "    </tr>\n",
       "    <tr>\n",
       "      <th>2022-05-05</th>\n",
       "      <td>05/05/2022</td>\n",
       "      <td>Thursday</td>\n",
       "      <td>May</td>\n",
       "      <td>2022</td>\n",
       "      <td>6777355.0</td>\n",
       "      <td>77.0</td>\n",
       "      <td>GHCND:USW00093225</td>\n",
       "      <td>SACRAMENTO METROPOLITAN AIRPORT</td>\n",
       "    </tr>\n",
       "    <tr>\n",
       "      <th>2022-05-05</th>\n",
       "      <td>05/05/2022</td>\n",
       "      <td>Thursday</td>\n",
       "      <td>May</td>\n",
       "      <td>2022</td>\n",
       "      <td>6777355.0</td>\n",
       "      <td>74.0</td>\n",
       "      <td>GHCND:USW00023293</td>\n",
       "      <td>San Jose</td>\n",
       "    </tr>\n",
       "    <tr>\n",
       "      <th>2022-05-05</th>\n",
       "      <td>05/05/2022</td>\n",
       "      <td>Thursday</td>\n",
       "      <td>May</td>\n",
       "      <td>2022</td>\n",
       "      <td>6777355.0</td>\n",
       "      <td>87.0</td>\n",
       "      <td>GHCND:USW00003102</td>\n",
       "      <td>Ontario Airport</td>\n",
       "    </tr>\n",
       "  </tbody>\n",
       "</table>\n",
       "<p>10133 rows × 8 columns</p>\n",
       "</div>"
      ],
      "text/plain": [
       "                  Date       Day  Month  Year  Daily Energy Demand  Max Temp  \\\n",
       "2018-04-10  04/10/2018   Tuesday  April  2018            7183786.0      79.0   \n",
       "2018-04-10  04/10/2018   Tuesday  April  2018            7183786.0      85.0   \n",
       "2018-04-10  04/10/2018   Tuesday  April  2018            7183786.0      63.0   \n",
       "2018-04-10  04/10/2018   Tuesday  April  2018            7183786.0      86.0   \n",
       "2018-04-10  04/10/2018   Tuesday  April  2018            7183786.0      69.0   \n",
       "...                ...       ...    ...   ...                  ...       ...   \n",
       "2022-05-05  05/05/2022  Thursday    May  2022            6777355.0      59.0   \n",
       "2022-05-05  05/05/2022  Thursday    May  2022            6777355.0      91.0   \n",
       "2022-05-05  05/05/2022  Thursday    May  2022            6777355.0      77.0   \n",
       "2022-05-05  05/05/2022  Thursday    May  2022            6777355.0      74.0   \n",
       "2022-05-05  05/05/2022  Thursday    May  2022            6777355.0      87.0   \n",
       "\n",
       "                   Station ID                   Station Location  \n",
       "2018-04-10  GHCND:USW00023174  Los Angeles International Airport  \n",
       "2018-04-10  GHCND:USW00023188                  San Diego Airport  \n",
       "2018-04-10  GHCND:USW00023272             San Francisco Downtown  \n",
       "2018-04-10  GHCND:USW00093193      FRESNO YOSEMITE INTERNATIONAL  \n",
       "2018-04-10  GHCND:USW00023293                           San Jose  \n",
       "...                       ...                                ...  \n",
       "2022-05-05  GHCND:USW00023272             San Francisco Downtown  \n",
       "2022-05-05  GHCND:USW00093193      FRESNO YOSEMITE INTERNATIONAL  \n",
       "2022-05-05  GHCND:USW00093225    SACRAMENTO METROPOLITAN AIRPORT  \n",
       "2022-05-05  GHCND:USW00023293                           San Jose  \n",
       "2022-05-05  GHCND:USW00003102                    Ontario Airport  \n",
       "\n",
       "[10133 rows x 8 columns]"
      ]
     },
     "execution_count": 66,
     "metadata": {},
     "output_type": "execute_result"
    }
   ],
   "source": [
    "masterdf2"
   ]
  },
  {
   "cell_type": "markdown",
   "id": "cf0068ea-ed2c-4ca6-987b-b84a912844f4",
   "metadata": {},
   "source": [
    "Great! Now all the dates are the same as what we examined for the energy demand data in the initial visuations, but we now have max temperature readings for those dates.\n",
    "Now I need to add in the minimum temperature values, but since that dataframe will have a few key columns, it will make more sense to use the `.merge()` method."
   ]
  },
  {
   "cell_type": "code",
   "execution_count": 67,
   "id": "ed3387fe-beb8-4e18-b6c9-3807e8d85585",
   "metadata": {},
   "outputs": [],
   "source": [
    "mintempdf=pd.read_csv('MinTempData.csv', index_col=0)"
   ]
  },
  {
   "cell_type": "code",
   "execution_count": 68,
   "id": "4f263545-f328-4ade-9012-cc5babbfd869",
   "metadata": {},
   "outputs": [],
   "source": [
    "mintempdf['Date'] = pd.to_datetime((mintempdf['Date']))\n",
    "mintempdf = mintempdf.set_index('Date')"
   ]
  },
  {
   "cell_type": "code",
   "execution_count": 69,
   "id": "c8042dcf-9221-4bf4-acba-41606c3ad990",
   "metadata": {},
   "outputs": [
    {
     "data": {
      "text/html": [
       "<div>\n",
       "<style scoped>\n",
       "    .dataframe tbody tr th:only-of-type {\n",
       "        vertical-align: middle;\n",
       "    }\n",
       "\n",
       "    .dataframe tbody tr th {\n",
       "        vertical-align: top;\n",
       "    }\n",
       "\n",
       "    .dataframe thead th {\n",
       "        text-align: right;\n",
       "    }\n",
       "</style>\n",
       "<table border=\"1\" class=\"dataframe\">\n",
       "  <thead>\n",
       "    <tr style=\"text-align: right;\">\n",
       "      <th></th>\n",
       "      <th>Min Temp</th>\n",
       "      <th>Station ID</th>\n",
       "      <th>Station Location</th>\n",
       "    </tr>\n",
       "    <tr>\n",
       "      <th>Date</th>\n",
       "      <th></th>\n",
       "      <th></th>\n",
       "      <th></th>\n",
       "    </tr>\n",
       "  </thead>\n",
       "  <tbody>\n",
       "    <tr>\n",
       "      <th>2018-01-01</th>\n",
       "      <td>48.0</td>\n",
       "      <td>GHCND:USW00023174</td>\n",
       "      <td>Los Angeles International Airport</td>\n",
       "    </tr>\n",
       "    <tr>\n",
       "      <th>2018-01-02</th>\n",
       "      <td>54.0</td>\n",
       "      <td>GHCND:USW00023174</td>\n",
       "      <td>Los Angeles International Airport</td>\n",
       "    </tr>\n",
       "    <tr>\n",
       "      <th>2018-01-03</th>\n",
       "      <td>54.0</td>\n",
       "      <td>GHCND:USW00023174</td>\n",
       "      <td>Los Angeles International Airport</td>\n",
       "    </tr>\n",
       "    <tr>\n",
       "      <th>2018-01-04</th>\n",
       "      <td>55.0</td>\n",
       "      <td>GHCND:USW00023174</td>\n",
       "      <td>Los Angeles International Airport</td>\n",
       "    </tr>\n",
       "    <tr>\n",
       "      <th>2018-01-05</th>\n",
       "      <td>56.0</td>\n",
       "      <td>GHCND:USW00023174</td>\n",
       "      <td>Los Angeles International Airport</td>\n",
       "    </tr>\n",
       "  </tbody>\n",
       "</table>\n",
       "</div>"
      ],
      "text/plain": [
       "            Min Temp         Station ID                   Station Location\n",
       "Date                                                                      \n",
       "2018-01-01      48.0  GHCND:USW00023174  Los Angeles International Airport\n",
       "2018-01-02      54.0  GHCND:USW00023174  Los Angeles International Airport\n",
       "2018-01-03      54.0  GHCND:USW00023174  Los Angeles International Airport\n",
       "2018-01-04      55.0  GHCND:USW00023174  Los Angeles International Airport\n",
       "2018-01-05      56.0  GHCND:USW00023174  Los Angeles International Airport"
      ]
     },
     "execution_count": 69,
     "metadata": {},
     "output_type": "execute_result"
    }
   ],
   "source": [
    "mintempdf.head()"
   ]
  },
  {
   "cell_type": "code",
   "execution_count": 70,
   "id": "a2d89285-751c-4548-9f77-37f8bffe62aa",
   "metadata": {},
   "outputs": [
    {
     "data": {
      "text/html": [
       "<div>\n",
       "<style scoped>\n",
       "    .dataframe tbody tr th:only-of-type {\n",
       "        vertical-align: middle;\n",
       "    }\n",
       "\n",
       "    .dataframe tbody tr th {\n",
       "        vertical-align: top;\n",
       "    }\n",
       "\n",
       "    .dataframe thead th {\n",
       "        text-align: right;\n",
       "    }\n",
       "</style>\n",
       "<table border=\"1\" class=\"dataframe\">\n",
       "  <thead>\n",
       "    <tr style=\"text-align: right;\">\n",
       "      <th></th>\n",
       "      <th>Date</th>\n",
       "      <th>Day</th>\n",
       "      <th>Month</th>\n",
       "      <th>Year</th>\n",
       "      <th>Daily Energy Demand</th>\n",
       "      <th>Max Temp</th>\n",
       "      <th>Station ID</th>\n",
       "      <th>Station Location</th>\n",
       "    </tr>\n",
       "  </thead>\n",
       "  <tbody>\n",
       "    <tr>\n",
       "      <th>2018-04-10</th>\n",
       "      <td>04/10/2018</td>\n",
       "      <td>Tuesday</td>\n",
       "      <td>April</td>\n",
       "      <td>2018</td>\n",
       "      <td>7183786.0</td>\n",
       "      <td>79.0</td>\n",
       "      <td>GHCND:USW00023174</td>\n",
       "      <td>Los Angeles International Airport</td>\n",
       "    </tr>\n",
       "    <tr>\n",
       "      <th>2018-04-10</th>\n",
       "      <td>04/10/2018</td>\n",
       "      <td>Tuesday</td>\n",
       "      <td>April</td>\n",
       "      <td>2018</td>\n",
       "      <td>7183786.0</td>\n",
       "      <td>85.0</td>\n",
       "      <td>GHCND:USW00023188</td>\n",
       "      <td>San Diego Airport</td>\n",
       "    </tr>\n",
       "    <tr>\n",
       "      <th>2018-04-10</th>\n",
       "      <td>04/10/2018</td>\n",
       "      <td>Tuesday</td>\n",
       "      <td>April</td>\n",
       "      <td>2018</td>\n",
       "      <td>7183786.0</td>\n",
       "      <td>63.0</td>\n",
       "      <td>GHCND:USW00023272</td>\n",
       "      <td>San Francisco Downtown</td>\n",
       "    </tr>\n",
       "    <tr>\n",
       "      <th>2018-04-10</th>\n",
       "      <td>04/10/2018</td>\n",
       "      <td>Tuesday</td>\n",
       "      <td>April</td>\n",
       "      <td>2018</td>\n",
       "      <td>7183786.0</td>\n",
       "      <td>86.0</td>\n",
       "      <td>GHCND:USW00093193</td>\n",
       "      <td>FRESNO YOSEMITE INTERNATIONAL</td>\n",
       "    </tr>\n",
       "    <tr>\n",
       "      <th>2018-04-10</th>\n",
       "      <td>04/10/2018</td>\n",
       "      <td>Tuesday</td>\n",
       "      <td>April</td>\n",
       "      <td>2018</td>\n",
       "      <td>7183786.0</td>\n",
       "      <td>69.0</td>\n",
       "      <td>GHCND:USW00023293</td>\n",
       "      <td>San Jose</td>\n",
       "    </tr>\n",
       "    <tr>\n",
       "      <th>2018-04-10</th>\n",
       "      <td>04/10/2018</td>\n",
       "      <td>Tuesday</td>\n",
       "      <td>April</td>\n",
       "      <td>2018</td>\n",
       "      <td>7183786.0</td>\n",
       "      <td>94.0</td>\n",
       "      <td>GHCND:USW00003102</td>\n",
       "      <td>Ontario Airport</td>\n",
       "    </tr>\n",
       "  </tbody>\n",
       "</table>\n",
       "</div>"
      ],
      "text/plain": [
       "                  Date      Day  Month  Year  Daily Energy Demand  Max Temp  \\\n",
       "2018-04-10  04/10/2018  Tuesday  April  2018            7183786.0      79.0   \n",
       "2018-04-10  04/10/2018  Tuesday  April  2018            7183786.0      85.0   \n",
       "2018-04-10  04/10/2018  Tuesday  April  2018            7183786.0      63.0   \n",
       "2018-04-10  04/10/2018  Tuesday  April  2018            7183786.0      86.0   \n",
       "2018-04-10  04/10/2018  Tuesday  April  2018            7183786.0      69.0   \n",
       "2018-04-10  04/10/2018  Tuesday  April  2018            7183786.0      94.0   \n",
       "\n",
       "                   Station ID                   Station Location  \n",
       "2018-04-10  GHCND:USW00023174  Los Angeles International Airport  \n",
       "2018-04-10  GHCND:USW00023188                  San Diego Airport  \n",
       "2018-04-10  GHCND:USW00023272             San Francisco Downtown  \n",
       "2018-04-10  GHCND:USW00093193      FRESNO YOSEMITE INTERNATIONAL  \n",
       "2018-04-10  GHCND:USW00023293                           San Jose  \n",
       "2018-04-10  GHCND:USW00003102                    Ontario Airport  "
      ]
     },
     "execution_count": 70,
     "metadata": {},
     "output_type": "execute_result"
    }
   ],
   "source": [
    "masterdf2.loc['04/10/2018']"
   ]
  },
  {
   "cell_type": "markdown",
   "id": "3135758b-758b-4e4c-9c08-8f2db7e098ec",
   "metadata": {},
   "source": [
    "Creating a column of both dataframe index values so it can be used to merge on, in addition to the  key columns of Station Location and Station ID"
   ]
  },
  {
   "cell_type": "code",
   "execution_count": 71,
   "id": "1c83a98f-f4ee-43f5-b1cf-a8d36d2bc749",
   "metadata": {},
   "outputs": [],
   "source": [
    "masterdf2['indexdate'] = masterdf2.index.values\n",
    "mintempdf['indexdate'] = mintempdf.index.values"
   ]
  },
  {
   "cell_type": "code",
   "execution_count": 72,
   "id": "8f4b3169-99fa-4786-b3fa-8e1bd3fe3b98",
   "metadata": {},
   "outputs": [
    {
     "data": {
      "text/html": [
       "<div>\n",
       "<style scoped>\n",
       "    .dataframe tbody tr th:only-of-type {\n",
       "        vertical-align: middle;\n",
       "    }\n",
       "\n",
       "    .dataframe tbody tr th {\n",
       "        vertical-align: top;\n",
       "    }\n",
       "\n",
       "    .dataframe thead th {\n",
       "        text-align: right;\n",
       "    }\n",
       "</style>\n",
       "<table border=\"1\" class=\"dataframe\">\n",
       "  <thead>\n",
       "    <tr style=\"text-align: right;\">\n",
       "      <th></th>\n",
       "      <th>Date</th>\n",
       "      <th>Day</th>\n",
       "      <th>Month</th>\n",
       "      <th>Year</th>\n",
       "      <th>Daily Energy Demand</th>\n",
       "      <th>Max Temp</th>\n",
       "      <th>Station ID</th>\n",
       "      <th>Station Location</th>\n",
       "      <th>indexdate</th>\n",
       "    </tr>\n",
       "  </thead>\n",
       "  <tbody>\n",
       "    <tr>\n",
       "      <th>2018-04-10</th>\n",
       "      <td>04/10/2018</td>\n",
       "      <td>Tuesday</td>\n",
       "      <td>April</td>\n",
       "      <td>2018</td>\n",
       "      <td>7183786.0</td>\n",
       "      <td>79.0</td>\n",
       "      <td>GHCND:USW00023174</td>\n",
       "      <td>Los Angeles International Airport</td>\n",
       "      <td>2018-04-10</td>\n",
       "    </tr>\n",
       "    <tr>\n",
       "      <th>2018-04-10</th>\n",
       "      <td>04/10/2018</td>\n",
       "      <td>Tuesday</td>\n",
       "      <td>April</td>\n",
       "      <td>2018</td>\n",
       "      <td>7183786.0</td>\n",
       "      <td>85.0</td>\n",
       "      <td>GHCND:USW00023188</td>\n",
       "      <td>San Diego Airport</td>\n",
       "      <td>2018-04-10</td>\n",
       "    </tr>\n",
       "    <tr>\n",
       "      <th>2018-04-10</th>\n",
       "      <td>04/10/2018</td>\n",
       "      <td>Tuesday</td>\n",
       "      <td>April</td>\n",
       "      <td>2018</td>\n",
       "      <td>7183786.0</td>\n",
       "      <td>63.0</td>\n",
       "      <td>GHCND:USW00023272</td>\n",
       "      <td>San Francisco Downtown</td>\n",
       "      <td>2018-04-10</td>\n",
       "    </tr>\n",
       "    <tr>\n",
       "      <th>2018-04-10</th>\n",
       "      <td>04/10/2018</td>\n",
       "      <td>Tuesday</td>\n",
       "      <td>April</td>\n",
       "      <td>2018</td>\n",
       "      <td>7183786.0</td>\n",
       "      <td>86.0</td>\n",
       "      <td>GHCND:USW00093193</td>\n",
       "      <td>FRESNO YOSEMITE INTERNATIONAL</td>\n",
       "      <td>2018-04-10</td>\n",
       "    </tr>\n",
       "    <tr>\n",
       "      <th>2018-04-10</th>\n",
       "      <td>04/10/2018</td>\n",
       "      <td>Tuesday</td>\n",
       "      <td>April</td>\n",
       "      <td>2018</td>\n",
       "      <td>7183786.0</td>\n",
       "      <td>69.0</td>\n",
       "      <td>GHCND:USW00023293</td>\n",
       "      <td>San Jose</td>\n",
       "      <td>2018-04-10</td>\n",
       "    </tr>\n",
       "    <tr>\n",
       "      <th>...</th>\n",
       "      <td>...</td>\n",
       "      <td>...</td>\n",
       "      <td>...</td>\n",
       "      <td>...</td>\n",
       "      <td>...</td>\n",
       "      <td>...</td>\n",
       "      <td>...</td>\n",
       "      <td>...</td>\n",
       "      <td>...</td>\n",
       "    </tr>\n",
       "    <tr>\n",
       "      <th>2022-05-05</th>\n",
       "      <td>05/05/2022</td>\n",
       "      <td>Thursday</td>\n",
       "      <td>May</td>\n",
       "      <td>2022</td>\n",
       "      <td>6777355.0</td>\n",
       "      <td>59.0</td>\n",
       "      <td>GHCND:USW00023272</td>\n",
       "      <td>San Francisco Downtown</td>\n",
       "      <td>2022-05-05</td>\n",
       "    </tr>\n",
       "    <tr>\n",
       "      <th>2022-05-05</th>\n",
       "      <td>05/05/2022</td>\n",
       "      <td>Thursday</td>\n",
       "      <td>May</td>\n",
       "      <td>2022</td>\n",
       "      <td>6777355.0</td>\n",
       "      <td>91.0</td>\n",
       "      <td>GHCND:USW00093193</td>\n",
       "      <td>FRESNO YOSEMITE INTERNATIONAL</td>\n",
       "      <td>2022-05-05</td>\n",
       "    </tr>\n",
       "    <tr>\n",
       "      <th>2022-05-05</th>\n",
       "      <td>05/05/2022</td>\n",
       "      <td>Thursday</td>\n",
       "      <td>May</td>\n",
       "      <td>2022</td>\n",
       "      <td>6777355.0</td>\n",
       "      <td>77.0</td>\n",
       "      <td>GHCND:USW00093225</td>\n",
       "      <td>SACRAMENTO METROPOLITAN AIRPORT</td>\n",
       "      <td>2022-05-05</td>\n",
       "    </tr>\n",
       "    <tr>\n",
       "      <th>2022-05-05</th>\n",
       "      <td>05/05/2022</td>\n",
       "      <td>Thursday</td>\n",
       "      <td>May</td>\n",
       "      <td>2022</td>\n",
       "      <td>6777355.0</td>\n",
       "      <td>74.0</td>\n",
       "      <td>GHCND:USW00023293</td>\n",
       "      <td>San Jose</td>\n",
       "      <td>2022-05-05</td>\n",
       "    </tr>\n",
       "    <tr>\n",
       "      <th>2022-05-05</th>\n",
       "      <td>05/05/2022</td>\n",
       "      <td>Thursday</td>\n",
       "      <td>May</td>\n",
       "      <td>2022</td>\n",
       "      <td>6777355.0</td>\n",
       "      <td>87.0</td>\n",
       "      <td>GHCND:USW00003102</td>\n",
       "      <td>Ontario Airport</td>\n",
       "      <td>2022-05-05</td>\n",
       "    </tr>\n",
       "  </tbody>\n",
       "</table>\n",
       "<p>10133 rows × 9 columns</p>\n",
       "</div>"
      ],
      "text/plain": [
       "                  Date       Day  Month  Year  Daily Energy Demand  Max Temp  \\\n",
       "2018-04-10  04/10/2018   Tuesday  April  2018            7183786.0      79.0   \n",
       "2018-04-10  04/10/2018   Tuesday  April  2018            7183786.0      85.0   \n",
       "2018-04-10  04/10/2018   Tuesday  April  2018            7183786.0      63.0   \n",
       "2018-04-10  04/10/2018   Tuesday  April  2018            7183786.0      86.0   \n",
       "2018-04-10  04/10/2018   Tuesday  April  2018            7183786.0      69.0   \n",
       "...                ...       ...    ...   ...                  ...       ...   \n",
       "2022-05-05  05/05/2022  Thursday    May  2022            6777355.0      59.0   \n",
       "2022-05-05  05/05/2022  Thursday    May  2022            6777355.0      91.0   \n",
       "2022-05-05  05/05/2022  Thursday    May  2022            6777355.0      77.0   \n",
       "2022-05-05  05/05/2022  Thursday    May  2022            6777355.0      74.0   \n",
       "2022-05-05  05/05/2022  Thursday    May  2022            6777355.0      87.0   \n",
       "\n",
       "                   Station ID                   Station Location  indexdate  \n",
       "2018-04-10  GHCND:USW00023174  Los Angeles International Airport 2018-04-10  \n",
       "2018-04-10  GHCND:USW00023188                  San Diego Airport 2018-04-10  \n",
       "2018-04-10  GHCND:USW00023272             San Francisco Downtown 2018-04-10  \n",
       "2018-04-10  GHCND:USW00093193      FRESNO YOSEMITE INTERNATIONAL 2018-04-10  \n",
       "2018-04-10  GHCND:USW00023293                           San Jose 2018-04-10  \n",
       "...                       ...                                ...        ...  \n",
       "2022-05-05  GHCND:USW00023272             San Francisco Downtown 2022-05-05  \n",
       "2022-05-05  GHCND:USW00093193      FRESNO YOSEMITE INTERNATIONAL 2022-05-05  \n",
       "2022-05-05  GHCND:USW00093225    SACRAMENTO METROPOLITAN AIRPORT 2022-05-05  \n",
       "2022-05-05  GHCND:USW00023293                           San Jose 2022-05-05  \n",
       "2022-05-05  GHCND:USW00003102                    Ontario Airport 2022-05-05  \n",
       "\n",
       "[10133 rows x 9 columns]"
      ]
     },
     "execution_count": 72,
     "metadata": {},
     "output_type": "execute_result"
    }
   ],
   "source": [
    "masterdf2"
   ]
  },
  {
   "cell_type": "code",
   "execution_count": 73,
   "id": "9fd60d19-42fa-4c20-88db-b83a348d5edb",
   "metadata": {},
   "outputs": [],
   "source": [
    "masterdf3 = pd.merge(masterdf2, mintempdf, how = 'inner', on= ['indexdate', 'Station ID', 'Station Location'])"
   ]
  },
  {
   "cell_type": "code",
   "execution_count": 74,
   "id": "25edaf64-44d0-4b80-ab90-bc42beb63294",
   "metadata": {},
   "outputs": [
    {
     "data": {
      "text/html": [
       "<div>\n",
       "<style scoped>\n",
       "    .dataframe tbody tr th:only-of-type {\n",
       "        vertical-align: middle;\n",
       "    }\n",
       "\n",
       "    .dataframe tbody tr th {\n",
       "        vertical-align: top;\n",
       "    }\n",
       "\n",
       "    .dataframe thead th {\n",
       "        text-align: right;\n",
       "    }\n",
       "</style>\n",
       "<table border=\"1\" class=\"dataframe\">\n",
       "  <thead>\n",
       "    <tr style=\"text-align: right;\">\n",
       "      <th></th>\n",
       "      <th>Date</th>\n",
       "      <th>Day</th>\n",
       "      <th>Month</th>\n",
       "      <th>Year</th>\n",
       "      <th>Daily Energy Demand</th>\n",
       "      <th>Max Temp</th>\n",
       "      <th>Station ID</th>\n",
       "      <th>Station Location</th>\n",
       "      <th>indexdate</th>\n",
       "      <th>Min Temp</th>\n",
       "    </tr>\n",
       "  </thead>\n",
       "  <tbody>\n",
       "    <tr>\n",
       "      <th>0</th>\n",
       "      <td>04/10/2018</td>\n",
       "      <td>Tuesday</td>\n",
       "      <td>April</td>\n",
       "      <td>2018</td>\n",
       "      <td>7183786.0</td>\n",
       "      <td>79.0</td>\n",
       "      <td>GHCND:USW00023174</td>\n",
       "      <td>Los Angeles International Airport</td>\n",
       "      <td>2018-04-10</td>\n",
       "      <td>60.0</td>\n",
       "    </tr>\n",
       "    <tr>\n",
       "      <th>1</th>\n",
       "      <td>04/10/2018</td>\n",
       "      <td>Tuesday</td>\n",
       "      <td>April</td>\n",
       "      <td>2018</td>\n",
       "      <td>7183786.0</td>\n",
       "      <td>85.0</td>\n",
       "      <td>GHCND:USW00023188</td>\n",
       "      <td>San Diego Airport</td>\n",
       "      <td>2018-04-10</td>\n",
       "      <td>60.0</td>\n",
       "    </tr>\n",
       "    <tr>\n",
       "      <th>2</th>\n",
       "      <td>04/10/2018</td>\n",
       "      <td>Tuesday</td>\n",
       "      <td>April</td>\n",
       "      <td>2018</td>\n",
       "      <td>7183786.0</td>\n",
       "      <td>63.0</td>\n",
       "      <td>GHCND:USW00023272</td>\n",
       "      <td>San Francisco Downtown</td>\n",
       "      <td>2018-04-10</td>\n",
       "      <td>52.0</td>\n",
       "    </tr>\n",
       "    <tr>\n",
       "      <th>3</th>\n",
       "      <td>04/10/2018</td>\n",
       "      <td>Tuesday</td>\n",
       "      <td>April</td>\n",
       "      <td>2018</td>\n",
       "      <td>7183786.0</td>\n",
       "      <td>86.0</td>\n",
       "      <td>GHCND:USW00093193</td>\n",
       "      <td>FRESNO YOSEMITE INTERNATIONAL</td>\n",
       "      <td>2018-04-10</td>\n",
       "      <td>59.0</td>\n",
       "    </tr>\n",
       "    <tr>\n",
       "      <th>4</th>\n",
       "      <td>04/10/2018</td>\n",
       "      <td>Tuesday</td>\n",
       "      <td>April</td>\n",
       "      <td>2018</td>\n",
       "      <td>7183786.0</td>\n",
       "      <td>69.0</td>\n",
       "      <td>GHCND:USW00023293</td>\n",
       "      <td>San Jose</td>\n",
       "      <td>2018-04-10</td>\n",
       "      <td>52.0</td>\n",
       "    </tr>\n",
       "    <tr>\n",
       "      <th>...</th>\n",
       "      <td>...</td>\n",
       "      <td>...</td>\n",
       "      <td>...</td>\n",
       "      <td>...</td>\n",
       "      <td>...</td>\n",
       "      <td>...</td>\n",
       "      <td>...</td>\n",
       "      <td>...</td>\n",
       "      <td>...</td>\n",
       "      <td>...</td>\n",
       "    </tr>\n",
       "    <tr>\n",
       "      <th>10126</th>\n",
       "      <td>05/05/2022</td>\n",
       "      <td>Thursday</td>\n",
       "      <td>May</td>\n",
       "      <td>2022</td>\n",
       "      <td>6777355.0</td>\n",
       "      <td>59.0</td>\n",
       "      <td>GHCND:USW00023272</td>\n",
       "      <td>San Francisco Downtown</td>\n",
       "      <td>2022-05-05</td>\n",
       "      <td>49.0</td>\n",
       "    </tr>\n",
       "    <tr>\n",
       "      <th>10127</th>\n",
       "      <td>05/05/2022</td>\n",
       "      <td>Thursday</td>\n",
       "      <td>May</td>\n",
       "      <td>2022</td>\n",
       "      <td>6777355.0</td>\n",
       "      <td>91.0</td>\n",
       "      <td>GHCND:USW00093193</td>\n",
       "      <td>FRESNO YOSEMITE INTERNATIONAL</td>\n",
       "      <td>2022-05-05</td>\n",
       "      <td>62.0</td>\n",
       "    </tr>\n",
       "    <tr>\n",
       "      <th>10128</th>\n",
       "      <td>05/05/2022</td>\n",
       "      <td>Thursday</td>\n",
       "      <td>May</td>\n",
       "      <td>2022</td>\n",
       "      <td>6777355.0</td>\n",
       "      <td>77.0</td>\n",
       "      <td>GHCND:USW00093225</td>\n",
       "      <td>SACRAMENTO METROPOLITAN AIRPORT</td>\n",
       "      <td>2022-05-05</td>\n",
       "      <td>52.0</td>\n",
       "    </tr>\n",
       "    <tr>\n",
       "      <th>10129</th>\n",
       "      <td>05/05/2022</td>\n",
       "      <td>Thursday</td>\n",
       "      <td>May</td>\n",
       "      <td>2022</td>\n",
       "      <td>6777355.0</td>\n",
       "      <td>74.0</td>\n",
       "      <td>GHCND:USW00023293</td>\n",
       "      <td>San Jose</td>\n",
       "      <td>2022-05-05</td>\n",
       "      <td>51.0</td>\n",
       "    </tr>\n",
       "    <tr>\n",
       "      <th>10130</th>\n",
       "      <td>05/05/2022</td>\n",
       "      <td>Thursday</td>\n",
       "      <td>May</td>\n",
       "      <td>2022</td>\n",
       "      <td>6777355.0</td>\n",
       "      <td>87.0</td>\n",
       "      <td>GHCND:USW00003102</td>\n",
       "      <td>Ontario Airport</td>\n",
       "      <td>2022-05-05</td>\n",
       "      <td>57.0</td>\n",
       "    </tr>\n",
       "  </tbody>\n",
       "</table>\n",
       "<p>10131 rows × 10 columns</p>\n",
       "</div>"
      ],
      "text/plain": [
       "             Date       Day  Month  Year  Daily Energy Demand  Max Temp  \\\n",
       "0      04/10/2018   Tuesday  April  2018            7183786.0      79.0   \n",
       "1      04/10/2018   Tuesday  April  2018            7183786.0      85.0   \n",
       "2      04/10/2018   Tuesday  April  2018            7183786.0      63.0   \n",
       "3      04/10/2018   Tuesday  April  2018            7183786.0      86.0   \n",
       "4      04/10/2018   Tuesday  April  2018            7183786.0      69.0   \n",
       "...           ...       ...    ...   ...                  ...       ...   \n",
       "10126  05/05/2022  Thursday    May  2022            6777355.0      59.0   \n",
       "10127  05/05/2022  Thursday    May  2022            6777355.0      91.0   \n",
       "10128  05/05/2022  Thursday    May  2022            6777355.0      77.0   \n",
       "10129  05/05/2022  Thursday    May  2022            6777355.0      74.0   \n",
       "10130  05/05/2022  Thursday    May  2022            6777355.0      87.0   \n",
       "\n",
       "              Station ID                   Station Location  indexdate  \\\n",
       "0      GHCND:USW00023174  Los Angeles International Airport 2018-04-10   \n",
       "1      GHCND:USW00023188                  San Diego Airport 2018-04-10   \n",
       "2      GHCND:USW00023272             San Francisco Downtown 2018-04-10   \n",
       "3      GHCND:USW00093193      FRESNO YOSEMITE INTERNATIONAL 2018-04-10   \n",
       "4      GHCND:USW00023293                           San Jose 2018-04-10   \n",
       "...                  ...                                ...        ...   \n",
       "10126  GHCND:USW00023272             San Francisco Downtown 2022-05-05   \n",
       "10127  GHCND:USW00093193      FRESNO YOSEMITE INTERNATIONAL 2022-05-05   \n",
       "10128  GHCND:USW00093225    SACRAMENTO METROPOLITAN AIRPORT 2022-05-05   \n",
       "10129  GHCND:USW00023293                           San Jose 2022-05-05   \n",
       "10130  GHCND:USW00003102                    Ontario Airport 2022-05-05   \n",
       "\n",
       "       Min Temp  \n",
       "0          60.0  \n",
       "1          60.0  \n",
       "2          52.0  \n",
       "3          59.0  \n",
       "4          52.0  \n",
       "...         ...  \n",
       "10126      49.0  \n",
       "10127      62.0  \n",
       "10128      52.0  \n",
       "10129      51.0  \n",
       "10130      57.0  \n",
       "\n",
       "[10131 rows x 10 columns]"
      ]
     },
     "execution_count": 74,
     "metadata": {},
     "output_type": "execute_result"
    }
   ],
   "source": [
    "masterdf3"
   ]
  },
  {
   "cell_type": "markdown",
   "id": "3f011adb-b3f1-4e8c-8f35-ed727ae23c9e",
   "metadata": {},
   "source": [
    "Great! Looks like we lost two rows, which is why we used an inner join because we knew the minimum temp data was two data points shorter than the max temp data.\n",
    "\n",
    "Now to tidy up the dataframe a bit"
   ]
  },
  {
   "cell_type": "code",
   "execution_count": 75,
   "id": "f4c9955f-81f7-4a63-a130-533cd44d30c9",
   "metadata": {},
   "outputs": [],
   "source": [
    "masterdf3['Date-DateTime'] = masterdf3['indexdate'] "
   ]
  },
  {
   "cell_type": "code",
   "execution_count": 76,
   "id": "d4bc46b0-260f-4a54-b66b-574f703d4672",
   "metadata": {},
   "outputs": [],
   "source": [
    "masterdf3.drop('indexdate', axis=1, inplace=True)"
   ]
  },
  {
   "cell_type": "code",
   "execution_count": 77,
   "id": "e1fe9775-a7ef-40dc-9ec7-a33b434f62b9",
   "metadata": {},
   "outputs": [
    {
     "data": {
      "text/plain": [
       "['Date',\n",
       " 'Day',\n",
       " 'Month',\n",
       " 'Year',\n",
       " 'Daily Energy Demand',\n",
       " 'Max Temp',\n",
       " 'Station ID',\n",
       " 'Station Location',\n",
       " 'Min Temp',\n",
       " 'Date-DateTime']"
      ]
     },
     "execution_count": 77,
     "metadata": {},
     "output_type": "execute_result"
    }
   ],
   "source": [
    "list(masterdf3.columns.values)"
   ]
  },
  {
   "cell_type": "code",
   "execution_count": 78,
   "id": "819815d2-ba51-4b6b-b146-4482fd9bb1c0",
   "metadata": {},
   "outputs": [],
   "source": [
    "masterdf3 = masterdf3[[ 'Date-DateTime', 'Date', 'Day', 'Month', 'Year',\n",
    " 'Daily Energy Demand', 'Max Temp', 'Min Temp', 'Station Location', 'Station ID']]"
   ]
  },
  {
   "cell_type": "code",
   "execution_count": 83,
   "id": "ebec568d-cc8e-438e-8b00-b52255594aca",
   "metadata": {},
   "outputs": [
    {
     "data": {
      "text/plain": [
       "7"
      ]
     },
     "execution_count": 83,
     "metadata": {},
     "output_type": "execute_result"
    }
   ],
   "source": [
    "masterdf3['Station Location'].nunique()"
   ]
  },
  {
   "cell_type": "code",
   "execution_count": 84,
   "id": "2bfddc6b-6f87-4c91-947f-667c91d9c815",
   "metadata": {},
   "outputs": [],
   "source": [
    "cleaned_cities = {'Los Angeles International Airport': 'Los Angeles Coastal', 'San Diego Airport': 'San Diego', 'San Francisco Downtown': 'San Francisco', 'FRESNO YOSEMITE INTERNATIONAL': 'Fresno', \n",
    "                 'San Jose': 'San Jose', 'Ontario Airport': 'Los Angeles Inland', 'SACRAMENTO METROPOLITAN AIRPORT': 'Sacramento'}"
   ]
  },
  {
   "cell_type": "code",
   "execution_count": 85,
   "id": "2f807288-95df-4c14-bc52-aa3866f6e62f",
   "metadata": {},
   "outputs": [],
   "source": [
    "masterdf3['Station Location']= masterdf3['Station Location'].map(cleaned_cities)"
   ]
  },
  {
   "cell_type": "code",
   "execution_count": 86,
   "id": "6adbdd5b-5da9-4dd4-990b-ce2180d02ff3",
   "metadata": {},
   "outputs": [
    {
     "data": {
      "text/plain": [
       "7"
      ]
     },
     "execution_count": 86,
     "metadata": {},
     "output_type": "execute_result"
    }
   ],
   "source": [
    "masterdf3['Station Location'].nunique()"
   ]
  },
  {
   "cell_type": "code",
   "execution_count": 87,
   "id": "1abdb8cb-c02c-4940-9f5c-6269bc24efe0",
   "metadata": {},
   "outputs": [],
   "source": [
    "masterdf3.to_csv('WeatherandEnergyData.csv')"
   ]
  },
  {
   "cell_type": "code",
   "execution_count": 89,
   "id": "58a53275-2493-4649-a833-067a723f5b31",
   "metadata": {},
   "outputs": [
    {
     "data": {
      "text/html": [
       "<div>\n",
       "<style scoped>\n",
       "    .dataframe tbody tr th:only-of-type {\n",
       "        vertical-align: middle;\n",
       "    }\n",
       "\n",
       "    .dataframe tbody tr th {\n",
       "        vertical-align: top;\n",
       "    }\n",
       "\n",
       "    .dataframe thead th {\n",
       "        text-align: right;\n",
       "    }\n",
       "</style>\n",
       "<table border=\"1\" class=\"dataframe\">\n",
       "  <thead>\n",
       "    <tr style=\"text-align: right;\">\n",
       "      <th></th>\n",
       "      <th>Date-DateTime</th>\n",
       "      <th>Date</th>\n",
       "      <th>Day</th>\n",
       "      <th>Month</th>\n",
       "      <th>Year</th>\n",
       "      <th>Daily Energy Demand</th>\n",
       "      <th>Max Temp</th>\n",
       "      <th>Min Temp</th>\n",
       "      <th>Station Location</th>\n",
       "      <th>Station ID</th>\n",
       "    </tr>\n",
       "  </thead>\n",
       "  <tbody>\n",
       "    <tr>\n",
       "      <th>0</th>\n",
       "      <td>2018-04-10</td>\n",
       "      <td>04/10/2018</td>\n",
       "      <td>Tuesday</td>\n",
       "      <td>April</td>\n",
       "      <td>2018</td>\n",
       "      <td>7183786.0</td>\n",
       "      <td>79.0</td>\n",
       "      <td>60.0</td>\n",
       "      <td>Los Angeles Coastal</td>\n",
       "      <td>GHCND:USW00023174</td>\n",
       "    </tr>\n",
       "    <tr>\n",
       "      <th>1</th>\n",
       "      <td>2018-04-10</td>\n",
       "      <td>04/10/2018</td>\n",
       "      <td>Tuesday</td>\n",
       "      <td>April</td>\n",
       "      <td>2018</td>\n",
       "      <td>7183786.0</td>\n",
       "      <td>85.0</td>\n",
       "      <td>60.0</td>\n",
       "      <td>San Diego</td>\n",
       "      <td>GHCND:USW00023188</td>\n",
       "    </tr>\n",
       "    <tr>\n",
       "      <th>2</th>\n",
       "      <td>2018-04-10</td>\n",
       "      <td>04/10/2018</td>\n",
       "      <td>Tuesday</td>\n",
       "      <td>April</td>\n",
       "      <td>2018</td>\n",
       "      <td>7183786.0</td>\n",
       "      <td>63.0</td>\n",
       "      <td>52.0</td>\n",
       "      <td>San Francisco</td>\n",
       "      <td>GHCND:USW00023272</td>\n",
       "    </tr>\n",
       "    <tr>\n",
       "      <th>3</th>\n",
       "      <td>2018-04-10</td>\n",
       "      <td>04/10/2018</td>\n",
       "      <td>Tuesday</td>\n",
       "      <td>April</td>\n",
       "      <td>2018</td>\n",
       "      <td>7183786.0</td>\n",
       "      <td>86.0</td>\n",
       "      <td>59.0</td>\n",
       "      <td>Fresno</td>\n",
       "      <td>GHCND:USW00093193</td>\n",
       "    </tr>\n",
       "    <tr>\n",
       "      <th>4</th>\n",
       "      <td>2018-04-10</td>\n",
       "      <td>04/10/2018</td>\n",
       "      <td>Tuesday</td>\n",
       "      <td>April</td>\n",
       "      <td>2018</td>\n",
       "      <td>7183786.0</td>\n",
       "      <td>69.0</td>\n",
       "      <td>52.0</td>\n",
       "      <td>San Jose</td>\n",
       "      <td>GHCND:USW00023293</td>\n",
       "    </tr>\n",
       "    <tr>\n",
       "      <th>5</th>\n",
       "      <td>2018-04-10</td>\n",
       "      <td>04/10/2018</td>\n",
       "      <td>Tuesday</td>\n",
       "      <td>April</td>\n",
       "      <td>2018</td>\n",
       "      <td>7183786.0</td>\n",
       "      <td>94.0</td>\n",
       "      <td>60.0</td>\n",
       "      <td>Los Angeles Inland</td>\n",
       "      <td>GHCND:USW00003102</td>\n",
       "    </tr>\n",
       "    <tr>\n",
       "      <th>6</th>\n",
       "      <td>2018-04-11</td>\n",
       "      <td>04/11/2018</td>\n",
       "      <td>Wednesday</td>\n",
       "      <td>April</td>\n",
       "      <td>2018</td>\n",
       "      <td>6927243.5</td>\n",
       "      <td>74.0</td>\n",
       "      <td>57.0</td>\n",
       "      <td>Los Angeles Coastal</td>\n",
       "      <td>GHCND:USW00023174</td>\n",
       "    </tr>\n",
       "  </tbody>\n",
       "</table>\n",
       "</div>"
      ],
      "text/plain": [
       "  Date-DateTime        Date        Day  Month  Year  Daily Energy Demand  \\\n",
       "0    2018-04-10  04/10/2018    Tuesday  April  2018            7183786.0   \n",
       "1    2018-04-10  04/10/2018    Tuesday  April  2018            7183786.0   \n",
       "2    2018-04-10  04/10/2018    Tuesday  April  2018            7183786.0   \n",
       "3    2018-04-10  04/10/2018    Tuesday  April  2018            7183786.0   \n",
       "4    2018-04-10  04/10/2018    Tuesday  April  2018            7183786.0   \n",
       "5    2018-04-10  04/10/2018    Tuesday  April  2018            7183786.0   \n",
       "6    2018-04-11  04/11/2018  Wednesday  April  2018            6927243.5   \n",
       "\n",
       "   Max Temp  Min Temp     Station Location         Station ID  \n",
       "0      79.0      60.0  Los Angeles Coastal  GHCND:USW00023174  \n",
       "1      85.0      60.0            San Diego  GHCND:USW00023188  \n",
       "2      63.0      52.0        San Francisco  GHCND:USW00023272  \n",
       "3      86.0      59.0               Fresno  GHCND:USW00093193  \n",
       "4      69.0      52.0             San Jose  GHCND:USW00023293  \n",
       "5      94.0      60.0   Los Angeles Inland  GHCND:USW00003102  \n",
       "6      74.0      57.0  Los Angeles Coastal  GHCND:USW00023174  "
      ]
     },
     "execution_count": 89,
     "metadata": {},
     "output_type": "execute_result"
    }
   ],
   "source": [
    "masterdf3.head(7)"
   ]
  },
  {
   "cell_type": "code",
   "execution_count": null,
   "id": "db8dcb2d-1736-4979-81ec-da3569df62d2",
   "metadata": {},
   "outputs": [],
   "source": []
  }
 ],
 "metadata": {
  "kernelspec": {
   "display_name": "Python 3 (ipykernel)",
   "language": "python",
   "name": "python3"
  },
  "language_info": {
   "codemirror_mode": {
    "name": "ipython",
    "version": 3
   },
   "file_extension": ".py",
   "mimetype": "text/x-python",
   "name": "python",
   "nbconvert_exporter": "python",
   "pygments_lexer": "ipython3",
   "version": "3.9.12"
  }
 },
 "nbformat": 4,
 "nbformat_minor": 5
}
