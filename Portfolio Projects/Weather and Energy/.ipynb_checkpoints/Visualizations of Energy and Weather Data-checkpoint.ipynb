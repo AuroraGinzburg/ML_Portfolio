{
 "cells": [
  {
   "cell_type": "markdown",
   "id": "e4ab1fad-ae20-4d6e-b0bb-94d8c8b9a8d7",
   "metadata": {},
   "source": [
    "# Notebook 3: Exploratory Data Analysis of All Data\n",
    "\n",
    "In the previous two notebooks the energy and weather data were scraped, cleaned and compiled into a single dataframe. \n",
    "This notebook aims to gain an understanding of how the weather features relate to energy demand through the use of visualizations and calculations.\n",
    "\n",
    "The temperature data here were collected from seven weather stations across California that roughly represent the seven most populated areas of the state. For more details on weather station selection see notebook 1."
   ]
  },
  {
   "cell_type": "markdown",
   "id": "6236ab48-a45b-45f4-811a-b2a460ec8830",
   "metadata": {},
   "source": [
    "## 3.1 Initial Weather Data Exploration"
   ]
  },
  {
   "cell_type": "code",
   "execution_count": 463,
   "id": "226d249e-233a-491a-a1c1-7a6f2d4b38c5",
   "metadata": {},
   "outputs": [],
   "source": [
    "#imports\n",
    "import pandas as pd\n",
    "import numpy as np\n",
    "import seaborn as sns\n",
    "import matplotlib.pyplot as plt\n",
    "%matplotlib inline"
   ]
  },
  {
   "cell_type": "code",
   "execution_count": 464,
   "id": "8b3f87d9-e919-4846-bd7f-a26f7e4a94ed",
   "metadata": {},
   "outputs": [],
   "source": [
    "#cleaned and compiled dataframe\n",
    "df = pd.read_csv('WeatherandEnergyData.csv', index_col=0)"
   ]
  },
  {
   "cell_type": "code",
   "execution_count": 465,
   "id": "abe34524-f0d8-45b9-90e1-fa0c339d6dad",
   "metadata": {},
   "outputs": [
    {
     "data": {
      "text/html": [
       "<div>\n",
       "<style scoped>\n",
       "    .dataframe tbody tr th:only-of-type {\n",
       "        vertical-align: middle;\n",
       "    }\n",
       "\n",
       "    .dataframe tbody tr th {\n",
       "        vertical-align: top;\n",
       "    }\n",
       "\n",
       "    .dataframe thead th {\n",
       "        text-align: right;\n",
       "    }\n",
       "</style>\n",
       "<table border=\"1\" class=\"dataframe\">\n",
       "  <thead>\n",
       "    <tr style=\"text-align: right;\">\n",
       "      <th></th>\n",
       "      <th>Date-DateTime</th>\n",
       "      <th>Date</th>\n",
       "      <th>Day</th>\n",
       "      <th>Month</th>\n",
       "      <th>Year</th>\n",
       "      <th>Daily Energy Demand</th>\n",
       "      <th>Max Temp</th>\n",
       "      <th>Min Temp</th>\n",
       "      <th>Station Location</th>\n",
       "      <th>Station ID</th>\n",
       "    </tr>\n",
       "  </thead>\n",
       "  <tbody>\n",
       "    <tr>\n",
       "      <th>0</th>\n",
       "      <td>2018-04-10</td>\n",
       "      <td>04/10/2018</td>\n",
       "      <td>Tuesday</td>\n",
       "      <td>April</td>\n",
       "      <td>2018</td>\n",
       "      <td>7183786.0</td>\n",
       "      <td>79.0</td>\n",
       "      <td>60.0</td>\n",
       "      <td>Los Angeles Coastal</td>\n",
       "      <td>GHCND:USW00023174</td>\n",
       "    </tr>\n",
       "    <tr>\n",
       "      <th>1</th>\n",
       "      <td>2018-04-10</td>\n",
       "      <td>04/10/2018</td>\n",
       "      <td>Tuesday</td>\n",
       "      <td>April</td>\n",
       "      <td>2018</td>\n",
       "      <td>7183786.0</td>\n",
       "      <td>85.0</td>\n",
       "      <td>60.0</td>\n",
       "      <td>San Diego</td>\n",
       "      <td>GHCND:USW00023188</td>\n",
       "    </tr>\n",
       "    <tr>\n",
       "      <th>2</th>\n",
       "      <td>2018-04-10</td>\n",
       "      <td>04/10/2018</td>\n",
       "      <td>Tuesday</td>\n",
       "      <td>April</td>\n",
       "      <td>2018</td>\n",
       "      <td>7183786.0</td>\n",
       "      <td>63.0</td>\n",
       "      <td>52.0</td>\n",
       "      <td>San Francisco</td>\n",
       "      <td>GHCND:USW00023272</td>\n",
       "    </tr>\n",
       "    <tr>\n",
       "      <th>3</th>\n",
       "      <td>2018-04-10</td>\n",
       "      <td>04/10/2018</td>\n",
       "      <td>Tuesday</td>\n",
       "      <td>April</td>\n",
       "      <td>2018</td>\n",
       "      <td>7183786.0</td>\n",
       "      <td>86.0</td>\n",
       "      <td>59.0</td>\n",
       "      <td>Fresno</td>\n",
       "      <td>GHCND:USW00093193</td>\n",
       "    </tr>\n",
       "    <tr>\n",
       "      <th>4</th>\n",
       "      <td>2018-04-10</td>\n",
       "      <td>04/10/2018</td>\n",
       "      <td>Tuesday</td>\n",
       "      <td>April</td>\n",
       "      <td>2018</td>\n",
       "      <td>7183786.0</td>\n",
       "      <td>69.0</td>\n",
       "      <td>52.0</td>\n",
       "      <td>San Jose</td>\n",
       "      <td>GHCND:USW00023293</td>\n",
       "    </tr>\n",
       "    <tr>\n",
       "      <th>5</th>\n",
       "      <td>2018-04-10</td>\n",
       "      <td>04/10/2018</td>\n",
       "      <td>Tuesday</td>\n",
       "      <td>April</td>\n",
       "      <td>2018</td>\n",
       "      <td>7183786.0</td>\n",
       "      <td>94.0</td>\n",
       "      <td>60.0</td>\n",
       "      <td>Los Angeles Inland</td>\n",
       "      <td>GHCND:USW00003102</td>\n",
       "    </tr>\n",
       "    <tr>\n",
       "      <th>6</th>\n",
       "      <td>2018-04-11</td>\n",
       "      <td>04/11/2018</td>\n",
       "      <td>Wednesday</td>\n",
       "      <td>April</td>\n",
       "      <td>2018</td>\n",
       "      <td>6927243.5</td>\n",
       "      <td>74.0</td>\n",
       "      <td>57.0</td>\n",
       "      <td>Los Angeles Coastal</td>\n",
       "      <td>GHCND:USW00023174</td>\n",
       "    </tr>\n",
       "    <tr>\n",
       "      <th>7</th>\n",
       "      <td>2018-04-11</td>\n",
       "      <td>04/11/2018</td>\n",
       "      <td>Wednesday</td>\n",
       "      <td>April</td>\n",
       "      <td>2018</td>\n",
       "      <td>6927243.5</td>\n",
       "      <td>73.0</td>\n",
       "      <td>60.0</td>\n",
       "      <td>San Diego</td>\n",
       "      <td>GHCND:USW00023188</td>\n",
       "    </tr>\n",
       "  </tbody>\n",
       "</table>\n",
       "</div>"
      ],
      "text/plain": [
       "  Date-DateTime        Date        Day  Month  Year  Daily Energy Demand  \\\n",
       "0    2018-04-10  04/10/2018    Tuesday  April  2018            7183786.0   \n",
       "1    2018-04-10  04/10/2018    Tuesday  April  2018            7183786.0   \n",
       "2    2018-04-10  04/10/2018    Tuesday  April  2018            7183786.0   \n",
       "3    2018-04-10  04/10/2018    Tuesday  April  2018            7183786.0   \n",
       "4    2018-04-10  04/10/2018    Tuesday  April  2018            7183786.0   \n",
       "5    2018-04-10  04/10/2018    Tuesday  April  2018            7183786.0   \n",
       "6    2018-04-11  04/11/2018  Wednesday  April  2018            6927243.5   \n",
       "7    2018-04-11  04/11/2018  Wednesday  April  2018            6927243.5   \n",
       "\n",
       "   Max Temp  Min Temp     Station Location         Station ID  \n",
       "0      79.0      60.0  Los Angeles Coastal  GHCND:USW00023174  \n",
       "1      85.0      60.0            San Diego  GHCND:USW00023188  \n",
       "2      63.0      52.0        San Francisco  GHCND:USW00023272  \n",
       "3      86.0      59.0               Fresno  GHCND:USW00093193  \n",
       "4      69.0      52.0             San Jose  GHCND:USW00023293  \n",
       "5      94.0      60.0   Los Angeles Inland  GHCND:USW00003102  \n",
       "6      74.0      57.0  Los Angeles Coastal  GHCND:USW00023174  \n",
       "7      73.0      60.0            San Diego  GHCND:USW00023188  "
      ]
     },
     "execution_count": 465,
     "metadata": {},
     "output_type": "execute_result"
    }
   ],
   "source": [
    "df.head(8)"
   ]
  },
  {
   "cell_type": "code",
   "execution_count": 466,
   "id": "8cbb673c-5414-4755-8cfc-479031c1deff",
   "metadata": {},
   "outputs": [
    {
     "data": {
      "text/html": [
       "<div>\n",
       "<style scoped>\n",
       "    .dataframe tbody tr th:only-of-type {\n",
       "        vertical-align: middle;\n",
       "    }\n",
       "\n",
       "    .dataframe tbody tr th {\n",
       "        vertical-align: top;\n",
       "    }\n",
       "\n",
       "    .dataframe thead th {\n",
       "        text-align: right;\n",
       "    }\n",
       "</style>\n",
       "<table border=\"1\" class=\"dataframe\">\n",
       "  <thead>\n",
       "    <tr style=\"text-align: right;\">\n",
       "      <th></th>\n",
       "      <th>Year</th>\n",
       "      <th>Daily Energy Demand</th>\n",
       "      <th>Max Temp</th>\n",
       "      <th>Min Temp</th>\n",
       "    </tr>\n",
       "  </thead>\n",
       "  <tbody>\n",
       "    <tr>\n",
       "      <th>Year</th>\n",
       "      <td>1.000000</td>\n",
       "      <td>-0.221227</td>\n",
       "      <td>-0.102049</td>\n",
       "      <td>-0.225067</td>\n",
       "    </tr>\n",
       "    <tr>\n",
       "      <th>Daily Energy Demand</th>\n",
       "      <td>-0.221227</td>\n",
       "      <td>1.000000</td>\n",
       "      <td>0.532853</td>\n",
       "      <td>0.634269</td>\n",
       "    </tr>\n",
       "    <tr>\n",
       "      <th>Max Temp</th>\n",
       "      <td>-0.102049</td>\n",
       "      <td>0.532853</td>\n",
       "      <td>1.000000</td>\n",
       "      <td>0.695286</td>\n",
       "    </tr>\n",
       "    <tr>\n",
       "      <th>Min Temp</th>\n",
       "      <td>-0.225067</td>\n",
       "      <td>0.634269</td>\n",
       "      <td>0.695286</td>\n",
       "      <td>1.000000</td>\n",
       "    </tr>\n",
       "  </tbody>\n",
       "</table>\n",
       "</div>"
      ],
      "text/plain": [
       "                         Year  Daily Energy Demand  Max Temp  Min Temp\n",
       "Year                 1.000000            -0.221227 -0.102049 -0.225067\n",
       "Daily Energy Demand -0.221227             1.000000  0.532853  0.634269\n",
       "Max Temp            -0.102049             0.532853  1.000000  0.695286\n",
       "Min Temp            -0.225067             0.634269  0.695286  1.000000"
      ]
     },
     "execution_count": 466,
     "metadata": {},
     "output_type": "execute_result"
    }
   ],
   "source": [
    "#Explore correlation between the continuous feature variables\n",
    "df.corr()"
   ]
  },
  {
   "cell_type": "code",
   "execution_count": 467,
   "id": "647b1e12-702f-46e0-8f31-d54b9d0a7c34",
   "metadata": {},
   "outputs": [
    {
     "data": {
      "text/plain": [
       "Text(0.5, 1.0, 'Fig. 3.1: Heatmap of Year, Energy Demand, and Temperature')"
      ]
     },
     "execution_count": 467,
     "metadata": {},
     "output_type": "execute_result"
    },
    {
     "data": {
      "image/png": "[encoded data removed]",
      "text/plain": [
       "<Figure size 576x576 with 2 Axes>"
      ]
     },
     "metadata": {
      "needs_background": "light"
     },
     "output_type": "display_data"
    }
   ],
   "source": [
    "#Visualize the continuous feature correlation with a heatmap\n",
    "plt.figure(figsize=(8,8))\n",
    "sns.heatmap(df.corr(), cmap='icefire', annot=True)\n",
    "plt.title(\"Fig. 3.1: Heatmap of Year, Energy Demand, and Temperature\", fontsize=18)"
   ]
  },
  {
   "cell_type": "markdown",
   "id": "3ccd1ca7-f448-4be8-8765-ce2b411b309a",
   "metadata": {},
   "source": [
    "The min and max temp are somewhat correlated with daily energy demand. Since the minimum temperature is more correlated with energy demand than the maximum temperature, the minimum temperature will be focused on more heavily going forward. The year is not strongly correlated to any of the other continuous features."
   ]
  },
  {
   "cell_type": "code",
   "execution_count": 468,
   "id": "92fa4e33-1017-4494-b2f0-6c7e9b8c1c42",
   "metadata": {},
   "outputs": [
    {
     "data": {
      "image/png": "[encoded data removed]",
      "text/plain": [
       "<Figure size 576x576 with 1 Axes>"
      ]
     },
     "metadata": {
      "needs_background": "light"
     },
     "output_type": "display_data"
    }
   ],
   "source": [
    "plt.figure(figsize=(8,8))\n",
    "sns.scatterplot(data = df, x= 'Min Temp', y='Daily Energy Demand', alpha=0.35)\n",
    "plt.title(\"Fig. 3.2: CA Daily Energy Demand vs. Minimum Temperature\", fontsize=18, pad=18)\n",
    "plt.rc('axes', labelsize=14)\n",
    "plt.rc('xtick', labelsize=10)\n",
    "plt.rc('ytick', labelsize=10)"
   ]
  },
  {
   "cell_type": "markdown",
   "id": "403ae23a-2a85-4011-8470-fcf4b13c2ae3",
   "metadata": {},
   "source": [
    "Figure 3.2 shows the correlation between the minimum temperature and the daily energy demand. Since the data points tend to fall along the diagonal, there is some correlation between these two variables, particularly at higher temperatures."
   ]
  },
  {
   "cell_type": "code",
   "execution_count": 469,
   "id": "ef6e4215-4896-48ca-82f7-c7a4ffc5fa85",
   "metadata": {},
   "outputs": [],
   "source": [
    "#defining an intuitive order to the months and days for future plotting purposes\n",
    "dayorder= ['Monday', 'Tuesday', 'Wednesday', 'Thursday', 'Friday', 'Saturday', 'Sunday']\n",
    "monthorder= ['January', 'February', 'March', 'April', 'May', 'June', 'July', 'August', 'September', 'October', 'November', 'December']"
   ]
  },
  {
   "cell_type": "code",
   "execution_count": 470,
   "id": "77178227-4592-49b4-b380-de8c6ca3bffa",
   "metadata": {},
   "outputs": [
    {
     "data": {
      "image/png": "[encoded data removed]",
      "text/plain": [
       "<Figure size 1080x720 with 1 Axes>"
      ]
     },
     "metadata": {
      "needs_background": "light"
     },
     "output_type": "display_data"
    }
   ],
   "source": [
    "plt.figure(figsize=(15,10))\n",
    "sns.boxplot(data = df, x= 'Month', y='Min Temp', order=monthorder)\n",
    "plt.title(\"Fig. 3.3: CA Average Minimum Temperature (2018-2022) per Month\", fontsize=18, pad=18)\n",
    "plt.rc('axes', labelsize=14)\n",
    "plt.rc('xtick', labelsize=10)\n",
    "plt.rc('ytick', labelsize=10)"
   ]
  },
  {
   "cell_type": "markdown",
   "id": "6d7643b5-4445-4d2d-80cc-79c1a475dc8d",
   "metadata": {},
   "source": [
    "The overall distribution of minimum temperature values in the dataframe. As expected, the average temperature is highest in the summer months. However, California has a large geographic footprint and its various regions have differing climates and weather patterns. \n",
    "\n",
    "To gain an orientation of these locations, they can be plotted as a function of their latitude and longitude."
   ]
  },
  {
   "cell_type": "markdown",
   "id": "52757f50-3e76-4bc3-a9c2-17937b169897",
   "metadata": {},
   "source": [
    "## 3.2 Geographic Weather Data Exploration"
   ]
  },
  {
   "cell_type": "code",
   "execution_count": 471,
   "id": "7e95aec9-072b-4e41-9ac5-6fa62eceebba",
   "metadata": {},
   "outputs": [
    {
     "data": {
      "text/plain": [
       "array(['GHCND:USW00023174', 'GHCND:USW00023188', 'GHCND:USW00023272',\n",
       "       'GHCND:USW00093193', 'GHCND:USW00023293', 'GHCND:USW00003102',\n",
       "       'GHCND:USW00093225'], dtype=object)"
      ]
     },
     "execution_count": 471,
     "metadata": {},
     "output_type": "execute_result"
    }
   ],
   "source": [
    "df['Station ID'].unique()"
   ]
  },
  {
   "cell_type": "code",
   "execution_count": 472,
   "id": "69651f84-2fd6-41aa-b03d-efd301d9e6ca",
   "metadata": {},
   "outputs": [],
   "source": [
    "#collected latitude and longitude station values using the station ID at https://www.ncdc.noaa.gov/\n",
    "lat = {'Los Angeles Coastal': 33.93816, 'San Diego': 32.7336, 'San Francisco': 37.7705, \n",
    "       'Sacramento': 38.70069, 'San Jose': 37.35938, 'Los Angeles Inland': 34.05314, 'Fresno': 36.77999}\n",
    "\n",
    "long = {'Los Angeles Coastal': -118.3866, 'San Diego': -117.1831, 'San Francisco': -122.4269, \n",
    "       'Sacramento': -121.59479, 'San Jose': -121.92444, 'Los Angeles Inland': -117.57689, 'Fresno':  -119.72016}\n"
   ]
  },
  {
   "cell_type": "code",
   "execution_count": 473,
   "id": "e7ba966a-7f25-4b81-8c0f-9d46b3a92d12",
   "metadata": {},
   "outputs": [],
   "source": [
    "#creating a small dataframe for the latitude/longitude plot\n",
    "geodf= pd.DataFrame(['Los Angeles Coastal', 'San Diego', 'San Francisco', 'Fresno',\n",
    "       'San Jose', 'Los Angeles Inland', 'Sacramento'])\n",
    "geodf.columns = ['Location Name']\n",
    "geodf['Latitude']=geodf['Location Name'].map(lat)\n",
    "geodf['Longitude']=geodf['Location Name'].map(long)"
   ]
  },
  {
   "cell_type": "code",
   "execution_count": 474,
   "id": "ec1fd040-e58d-4b24-8e93-e5dc1ad6ad39",
   "metadata": {},
   "outputs": [
    {
     "data": {
      "text/html": [
       "<div>\n",
       "<style scoped>\n",
       "    .dataframe tbody tr th:only-of-type {\n",
       "        vertical-align: middle;\n",
       "    }\n",
       "\n",
       "    .dataframe tbody tr th {\n",
       "        vertical-align: top;\n",
       "    }\n",
       "\n",
       "    .dataframe thead th {\n",
       "        text-align: right;\n",
       "    }\n",
       "</style>\n",
       "<table border=\"1\" class=\"dataframe\">\n",
       "  <thead>\n",
       "    <tr style=\"text-align: right;\">\n",
       "      <th></th>\n",
       "      <th>Location Name</th>\n",
       "      <th>Latitude</th>\n",
       "      <th>Longitude</th>\n",
       "    </tr>\n",
       "  </thead>\n",
       "  <tbody>\n",
       "    <tr>\n",
       "      <th>0</th>\n",
       "      <td>Los Angeles Coastal</td>\n",
       "      <td>33.93816</td>\n",
       "      <td>-118.38660</td>\n",
       "    </tr>\n",
       "    <tr>\n",
       "      <th>1</th>\n",
       "      <td>San Diego</td>\n",
       "      <td>32.73360</td>\n",
       "      <td>-117.18310</td>\n",
       "    </tr>\n",
       "    <tr>\n",
       "      <th>2</th>\n",
       "      <td>San Francisco</td>\n",
       "      <td>37.77050</td>\n",
       "      <td>-122.42690</td>\n",
       "    </tr>\n",
       "    <tr>\n",
       "      <th>3</th>\n",
       "      <td>Fresno</td>\n",
       "      <td>36.77999</td>\n",
       "      <td>-119.72016</td>\n",
       "    </tr>\n",
       "    <tr>\n",
       "      <th>4</th>\n",
       "      <td>San Jose</td>\n",
       "      <td>37.35938</td>\n",
       "      <td>-121.92444</td>\n",
       "    </tr>\n",
       "    <tr>\n",
       "      <th>5</th>\n",
       "      <td>Los Angeles Inland</td>\n",
       "      <td>34.05314</td>\n",
       "      <td>-117.57689</td>\n",
       "    </tr>\n",
       "    <tr>\n",
       "      <th>6</th>\n",
       "      <td>Sacramento</td>\n",
       "      <td>38.70069</td>\n",
       "      <td>-121.59479</td>\n",
       "    </tr>\n",
       "  </tbody>\n",
       "</table>\n",
       "</div>"
      ],
      "text/plain": [
       "         Location Name  Latitude  Longitude\n",
       "0  Los Angeles Coastal  33.93816 -118.38660\n",
       "1            San Diego  32.73360 -117.18310\n",
       "2        San Francisco  37.77050 -122.42690\n",
       "3               Fresno  36.77999 -119.72016\n",
       "4             San Jose  37.35938 -121.92444\n",
       "5   Los Angeles Inland  34.05314 -117.57689\n",
       "6           Sacramento  38.70069 -121.59479"
      ]
     },
     "execution_count": 474,
     "metadata": {},
     "output_type": "execute_result"
    }
   ],
   "source": [
    "geodf"
   ]
  },
  {
   "cell_type": "code",
   "execution_count": 475,
   "id": "98609db1-2e29-478c-9151-3f6023edef91",
   "metadata": {},
   "outputs": [],
   "source": [
    "import fiona"
   ]
  },
  {
   "cell_type": "code",
   "execution_count": 476,
   "id": "b4cd4f60-c5bc-4382-a37e-67f293416c47",
   "metadata": {},
   "outputs": [],
   "source": [
    "import geopandas"
   ]
  },
  {
   "cell_type": "code",
   "execution_count": 477,
   "id": "b1cd7c11-63ff-47ff-a3c5-f9e7bac7e7ec",
   "metadata": {},
   "outputs": [],
   "source": [
    "ca = geopandas.read_file('CA_State_TIGER2016.shp')"
   ]
  },
  {
   "cell_type": "code",
   "execution_count": 478,
   "id": "0cc28e73-98f4-47e4-b709-503379b3a1ba",
   "metadata": {},
   "outputs": [
    {
     "data": {
      "text/html": [
       "<div>\n",
       "<style scoped>\n",
       "    .dataframe tbody tr th:only-of-type {\n",
       "        vertical-align: middle;\n",
       "    }\n",
       "\n",
       "    .dataframe tbody tr th {\n",
       "        vertical-align: top;\n",
       "    }\n",
       "\n",
       "    .dataframe thead th {\n",
       "        text-align: right;\n",
       "    }\n",
       "</style>\n",
       "<table border=\"1\" class=\"dataframe\">\n",
       "  <thead>\n",
       "    <tr style=\"text-align: right;\">\n",
       "      <th></th>\n",
       "      <th>REGION</th>\n",
       "      <th>DIVISION</th>\n",
       "      <th>STATEFP</th>\n",
       "      <th>STATENS</th>\n",
       "      <th>GEOID</th>\n",
       "      <th>STUSPS</th>\n",
       "      <th>NAME</th>\n",
       "      <th>LSAD</th>\n",
       "      <th>MTFCC</th>\n",
       "      <th>FUNCSTAT</th>\n",
       "      <th>ALAND</th>\n",
       "      <th>AWATER</th>\n",
       "      <th>INTPTLAT</th>\n",
       "      <th>INTPTLON</th>\n",
       "      <th>geometry</th>\n",
       "    </tr>\n",
       "  </thead>\n",
       "  <tbody>\n",
       "    <tr>\n",
       "      <th>0</th>\n",
       "      <td>4</td>\n",
       "      <td>9</td>\n",
       "      <td>06</td>\n",
       "      <td>01779778</td>\n",
       "      <td>06</td>\n",
       "      <td>CA</td>\n",
       "      <td>California</td>\n",
       "      <td>00</td>\n",
       "      <td>G4000</td>\n",
       "      <td>A</td>\n",
       "      <td>403501101370</td>\n",
       "      <td>20466718403</td>\n",
       "      <td>+37.1551773</td>\n",
       "      <td>-119.5434183</td>\n",
       "      <td>MULTIPOLYGON (((-13317677.375 3930590.808, -13...</td>\n",
       "    </tr>\n",
       "  </tbody>\n",
       "</table>\n",
       "</div>"
      ],
      "text/plain": [
       "  REGION DIVISION STATEFP   STATENS GEOID STUSPS        NAME LSAD  MTFCC  \\\n",
       "0      4        9      06  01779778    06     CA  California   00  G4000   \n",
       "\n",
       "  FUNCSTAT         ALAND       AWATER     INTPTLAT      INTPTLON  \\\n",
       "0        A  403501101370  20466718403  +37.1551773  -119.5434183   \n",
       "\n",
       "                                            geometry  \n",
       "0  MULTIPOLYGON (((-13317677.375 3930590.808, -13...  "
      ]
     },
     "execution_count": 478,
     "metadata": {},
     "output_type": "execute_result"
    }
   ],
   "source": [
    "ca.head()"
   ]
  },
  {
   "cell_type": "code",
   "execution_count": 479,
   "id": "f3100a6d-0822-4a0c-979e-93e728549560",
   "metadata": {},
   "outputs": [],
   "source": [
    "#changing the geospatial reference system identifier to “EPSG:4326” WGS84 Latitude/Longitude\n",
    "ca = ca.to_crs(\"EPSG:4326\")"
   ]
  },
  {
   "cell_type": "code",
   "execution_count": 480,
   "id": "b19319f1-e1c5-4e75-8526-e2a074242f6e",
   "metadata": {},
   "outputs": [],
   "source": [
    "locations= geodf['Location Name']\n",
    "longitude= geodf['Longitude']\n",
    "latitude= geodf['Latitude']\n"
   ]
  },
  {
   "cell_type": "code",
   "execution_count": 481,
   "id": "b8e533a5-d3dc-4eb0-ac52-96508bc50968",
   "metadata": {},
   "outputs": [
    {
     "data": {
      "image/png": "[encoded data removed]",
      "text/plain": [
       "<Figure size 720x720 with 1 Axes>"
      ]
     },
     "metadata": {
      "needs_background": "light"
     },
     "output_type": "display_data"
    }
   ],
   "source": [
    "fig = plt.figure(1, figsize=(10,10))\n",
    "ax = fig.add_subplot()\n",
    "ca.boundary.plot(ax=ax, figsize=(10,10), color='gray')\n",
    "\n",
    "sns.scatterplot(x='Longitude',y='Latitude',data=geodf, ax=ax, s=300)\n",
    "plt.title(\"Fig. 3.4: Spatial Orientation of California Weather Stations\", fontsize=18, pad=18)\n",
    "\n",
    "font = {'family' : 'normal',\n",
    "        'size'   : 16}\n",
    "\n",
    "#add location labels to the data points\n",
    "n=0\n",
    "for i, location in enumerate (locations):\n",
    "    n += 1\n",
    "    if n == 1: #change label location for LA Coastal by adjusting longtidude x coordinate for label\n",
    "        t = plt.text(longitude[i]-3.5, latitude[i]+0.2, location, **font)\n",
    "        t.set_bbox(dict(facecolor='white', alpha=0.5, edgecolor='gray'))\n",
    "        \n",
    "    elif n == 5: #change San Jose label location\n",
    "        t = plt.text(longitude[i]+0.2, latitude[i]+0.1, location, **font)\n",
    "        t.set_bbox(dict(facecolor='white', alpha=0.5, edgecolor='gray'))\n",
    "        \n",
    "    else: #all other label locations can be placed with the same +0.2 lat y coordinate\n",
    "        t = plt.text(longitude[i], latitude[i]+0.2, location, **font)\n",
    "        t.set_bbox(dict(facecolor='white', alpha=0.5, edgecolor='gray'))\n",
    "        \n",
    "\n"
   ]
  },
  {
   "cell_type": "code",
   "execution_count": 482,
   "id": "2e0217a8-9568-46ca-86e3-403e2c49bebe",
   "metadata": {},
   "outputs": [
    {
     "data": {
      "text/plain": [
       "Text(0.5, 1.0, 'Fig. 3.5: CA Average Minimum Temperature (2018-2022) per Weather Station')"
      ]
     },
     "execution_count": 482,
     "metadata": {},
     "output_type": "execute_result"
    },
    {
     "data": {
      "image/png": "[encoded data removed]",
      "text/plain": [
       "<Figure size 1440x720 with 7 Axes>"
      ]
     },
     "metadata": {
      "needs_background": "light"
     },
     "output_type": "display_data"
    }
   ],
   "source": [
    "\n",
    "sns.displot(df, x='Min Temp', col='Station Location',col_wrap= 4)\n",
    "plt.title(\"Fig. 3.5: CA Average Minimum Temperature (2018-2022) per Weather Station\", fontsize=18, pad=400)"
   ]
  },
  {
   "cell_type": "code",
   "execution_count": 483,
   "id": "37fa052e-a985-47cc-bed3-cc09788ba97a",
   "metadata": {},
   "outputs": [
    {
     "data": {
      "text/plain": [
       "Text(0.5, 1.0, \"Fig. 3.6: Average Minimum Temperature ('18-'22) per Weather Station\")"
      ]
     },
     "execution_count": 483,
     "metadata": {},
     "output_type": "execute_result"
    },
    {
     "data": {
      "image/png": "[encoded data removed]",
      "text/plain": [
       "<Figure size 720x360 with 1 Axes>"
      ]
     },
     "metadata": {
      "needs_background": "light"
     },
     "output_type": "display_data"
    }
   ],
   "source": [
    "plt.figure(figsize = (10,5))\n",
    "sns.boxplot(data = df, x= 'Station Location', y='Min Temp')\n",
    "plt.title(\"Fig. 3.6: Average Minimum Temperature ('18-'22) per Weather Station\", fontsize=18, pad=18)"
   ]
  },
  {
   "cell_type": "code",
   "execution_count": null,
   "id": "72c9c280-767a-4802-9a58-feb4a77254cc",
   "metadata": {},
   "outputs": [],
   "source": [
    "fig= plt.figure(figsize=(15,10))\n",
    "plt.suptitle(\"Fig. 3.7: Min Temperature Over Time Per Weather Station (Averaged 2018-2022)\", fontsize = 18)\n",
    "\n",
    "sns.lineplot(data=df, x='Month', y='Min Temp', hue='Station Location')\n",
    "plt.legend(fontsize=12)\n",
    "plt.rc('axes', labelsize=14)\n",
    "plt.rc('xtick', labelsize=10)\n",
    "plt.rc('ytick', labelsize=10)"
   ]
  },
  {
   "cell_type": "code",
   "execution_count": null,
   "id": "d243a670-bc15-401f-b92c-5c1db7c1c7ca",
   "metadata": {},
   "outputs": [],
   "source": [
    "df.drop('Year', axis=1).groupby('Station Location').corr()"
   ]
  },
  {
   "cell_type": "code",
   "execution_count": null,
   "id": "45b7393d-49bc-4815-9915-1fbe67993fed",
   "metadata": {},
   "outputs": [],
   "source": [
    "df.drop('Year', axis=1).groupby('Station Location').corr()"
   ]
  },
  {
   "cell_type": "code",
   "execution_count": null,
   "id": "2ae66d20-3cdd-499d-95df-9c35e3c13e1e",
   "metadata": {},
   "outputs": [],
   "source": [
    "plt.figure(figsize=(17,12))\n",
    "plt.title(\"Fig. 3.8: Heatmap of Daily Energy Demand and Temperature per Weather Station\", fontsize=18, pad=10)\n",
    "sns.heatmap(df.drop('Year', axis=1).groupby('Station Location').corr(), cmap='rocket_r', vmax=0.9, vmin=0.25, annot=True)"
   ]
  },
  {
   "cell_type": "markdown",
   "id": "a506fd7c-d650-4c23-a7e7-bff37859861f",
   "metadata": {},
   "source": [
    "Fresno's temps correlate most with the Daily Energy Demand. LA's inland temp's are also fairly well correlated, may be worth seeing the effect of combining the LA inland and coastal regions."
   ]
  },
  {
   "cell_type": "markdown",
   "id": "57e6f2de-02cf-42cb-926a-8b6b683a3570",
   "metadata": {},
   "source": [
    "### 3.2.2 Combining LA's Temperature Data\n",
    "\n",
    "Since Los Angeles is near the coast and has a large degree of variability in its temperature across the county, and simultaneously has the states most populated area, two stations were used to collect data. However, it is possible that by grouping these locations together, the correlation between the temperatures and the energy demand would actually increase. To examine this:"
   ]
  },
  {
   "cell_type": "code",
   "execution_count": null,
   "id": "19a0f1ff-c2ce-4549-a3cf-0427409e562a",
   "metadata": {},
   "outputs": [],
   "source": [
    "la_df = df[(df['Station Location']=='Los Angeles Coastal') | (df['Station Location']=='Los Angeles Inland')]"
   ]
  },
  {
   "cell_type": "code",
   "execution_count": null,
   "id": "8a19ea58-1ba9-43cd-9343-0e242a82a364",
   "metadata": {},
   "outputs": [],
   "source": [
    "la_df.corr()['Daily Energy Demand']"
   ]
  },
  {
   "cell_type": "markdown",
   "id": "a15277fd-a111-43bc-92a4-aaf42e4a1bf9",
   "metadata": {},
   "source": [
    "That actually made things worse in terms of predicting the daily energy demand, likely because LA's coastal max temp is so poorly correlated with the data and the majority of the county's population does not live right along the coast."
   ]
  },
  {
   "cell_type": "markdown",
   "id": "1320915d-32b0-467b-9ab9-e020257e50f3",
   "metadata": {
    "tags": []
   },
   "source": [
    "### 3.2.3 Looking at Fresno's Data in More Detail\n",
    "\n",
    "Fresno's temperature data was more highly correlated with the state's energy demand. Let's analyze this more closely."
   ]
  },
  {
   "cell_type": "code",
   "execution_count": null,
   "id": "9c09868a-27da-45fc-a94f-3a4e7a37ff26",
   "metadata": {},
   "outputs": [],
   "source": [
    "fresno_df = df[df['Station Location']=='Fresno']"
   ]
  },
  {
   "cell_type": "code",
   "execution_count": null,
   "id": "98ba9258-e4c1-42f5-96d3-cefcfa28fdcd",
   "metadata": {},
   "outputs": [],
   "source": [
    "fresno_df.head()"
   ]
  },
  {
   "cell_type": "code",
   "execution_count": null,
   "id": "31439cc2-b35a-4536-9577-08ae8983ca88",
   "metadata": {},
   "outputs": [],
   "source": [
    "fig= plt.figure(figsize=(15,10))\n",
    "plt.title(\"Figure 3.9 Fresno's Min Temps Compared to CA's Daily Energy Demand (2018-2022)\", fontsize = 18)\n",
    "\n",
    "sns.lineplot(data=fresno_df, x='Month', y='Min Temp', color='red')\n",
    "plt.legend(labels=[\"Fresno Temp Min\"], fontsize=12, loc=2)\n",
    "\n",
    "ax2 = plt.twinx()\n",
    "sns.lineplot(data=fresno_df, x='Month', y='Daily Energy Demand', ax=ax2, color='black')\n",
    "plt.legend(labels=[\"CA Energy Demand\"], fontsize=12, loc=1)\n",
    "plt.rc('axes', labelsize=14)\n",
    "plt.rc('xtick', labelsize=10)\n",
    "plt.rc('ytick', labelsize=10)"
   ]
  },
  {
   "cell_type": "markdown",
   "id": "8c0f2eb3-6fb9-4ab9-b5fa-94f47d493ddb",
   "metadata": {},
   "source": [
    "The trends are similar between the two traces. The most notable deviation occurs in the spring when CA's energy demand does not rise as quickly as Fresno's temperatures. Perhaps Fresno heats up before the majority of the state because of it's geographical region (see **geoplot**). Looking back at Fig. 3.7, it does show Fresno heating up more quickly than the other locations. This suggests some seasons more correlate more closely with the energy demand than others and it is a feature worth considering engineering.\n",
    "\n",
    "First, let's make a new graph similar to the above one, but this time examining all of the seasonal data in relation to the energy demand to see if the seasonal deviation is unique to Fresno."
   ]
  },
  {
   "cell_type": "code",
   "execution_count": null,
   "id": "a4602ca4-0111-4755-b2a2-3dd845bdc0ee",
   "metadata": {},
   "outputs": [],
   "source": [
    "fig= plt.figure(figsize=(15,10))\n",
    "plt.title(\"Figure 3.10: CA's Min Temps Compared to CA's Daily Energy Demand (2018-2022)\", fontsize = 18)\n",
    "\n",
    "sns.lineplot(data=df, x='Month', y='Min Temp', hue='Station Location', legend='full')\n",
    "plt.legend(fontsize=12, loc=2)\n",
    "\n",
    "ax2 = plt.twinx()\n",
    "sns.lineplot(data=df, x='Month', y='Daily Energy Demand', ax=ax2, color='black')\n",
    "plt.legend(labels=[\"CA Energy Demand\"], fontsize=12, loc=1)"
   ]
  },
  {
   "cell_type": "markdown",
   "id": "531d66ab-4311-4cec-9877-e9fc4ac3a277",
   "metadata": {},
   "source": [
    "It does seem like the seasons affect how closely the energy demand trends with the temperatures, however, because of the wide distribution of temperature values it is difficult to visually assess how this relationship changes each month for the state as a whole. A quantitative analysis will be insightful."
   ]
  },
  {
   "cell_type": "markdown",
   "id": "e542a597-0497-4a31-a969-a71a969e713f",
   "metadata": {},
   "source": [
    "## 3.3 Seasonal Effect on Energy Demand\n",
    "\n",
    "Engineering a season feature based on the day of the year that a date occurs (1-366)."
   ]
  },
  {
   "cell_type": "code",
   "execution_count": null,
   "id": "c19c0f83-69e7-40f5-b5f8-945845504801",
   "metadata": {},
   "outputs": [],
   "source": [
    "from datetime import date, datetime"
   ]
  },
  {
   "cell_type": "code",
   "execution_count": null,
   "id": "2504f9ff-3804-40a2-a2b3-ff798460592a",
   "metadata": {},
   "outputs": [],
   "source": [
    "df['Date-DateTime'] = pd.to_datetime((df['Date-DateTime']))"
   ]
  },
  {
   "cell_type": "code",
   "execution_count": null,
   "id": "22d09d85-12c4-41d8-88b9-3c6beef7de5e",
   "metadata": {},
   "outputs": [],
   "source": [
    "from datetime import date, datetime\n",
    "\n",
    "def get_season(x):\n",
    "\n",
    "   # extract day of the year from the date    \n",
    "    doy =  x.day_of_year\n",
    "\n",
    "    # \"day of year\" ranges for the northern hemisphere\n",
    "    spring = range(80, 172)\n",
    "    summer = range(172, 264)\n",
    "    fall = range(264, 355)\n",
    "    # winter = everything else\n",
    "\n",
    "    if doy in spring:\n",
    "      season = 'spring'\n",
    "    elif doy in summer:\n",
    "      season = 'summer'\n",
    "    elif doy in fall:\n",
    "      season = 'fall'\n",
    "    else:\n",
    "      season = 'winter'\n",
    "    return season"
   ]
  },
  {
   "cell_type": "code",
   "execution_count": null,
   "id": "bb655b27-07f3-4732-91c9-7988537c6ce2",
   "metadata": {},
   "outputs": [],
   "source": [
    "df['Season']= df['Date-DateTime'].apply(lambda x: get_season(x))"
   ]
  },
  {
   "cell_type": "code",
   "execution_count": null,
   "id": "eb54fb9c-14dc-469c-b7a3-f86ab869dbd4",
   "metadata": {},
   "outputs": [],
   "source": [
    "plt.figure(figsize=(10,7))\n",
    "sns.boxplot(x=df['Season'], y=df['Daily Energy Demand'])\n",
    "plt.title(\"Fig. 3.11: CA's Energy Demand by Season\", fontsize=18, pad=10)\n",
    "plt.rc('axes', labelsize=14)\n",
    "plt.rc('xtick', labelsize=12)\n",
    "plt.rc('ytick', labelsize=12)"
   ]
  },
  {
   "cell_type": "code",
   "execution_count": null,
   "id": "26879d33-8eea-45e0-bf8d-3ac517ac194a",
   "metadata": {},
   "outputs": [],
   "source": [
    "\n",
    "sns.jointplot(data=df, x='Min Temp', y='Daily Energy Demand', hue='Season', height=10, palette='husl', alpha=0.3)\n",
    "plt.rc('axes', labelsize=14)\n",
    "plt.rc('xtick', labelsize=12)\n",
    "plt.rc('ytick', labelsize=12)\n",
    "plt.title(\"Fig. 3.12: Correlation between Energy Demand and Minimum Temperature, per Season\", fontsize=18, pad=150, loc='right')"
   ]
  },
  {
   "cell_type": "markdown",
   "id": "7f68a77a-9f55-43dd-95cb-adb10164069c",
   "metadata": {},
   "source": [
    "The daily energy demand is much higher in the summer than in the rest of the year, this corresponds with increased temperatures. It is interesting to note that the other seasons have a much broader temperature distribution than they do energy demand distribution. Let's examine this in more detail by getting quantitative values for the correlation."
   ]
  },
  {
   "cell_type": "code",
   "execution_count": null,
   "id": "2fcd1f23-3f4f-4342-a5c2-f11ed4cadffa",
   "metadata": {},
   "outputs": [],
   "source": [
    "plt.figure(figsize=(17,12))\n",
    "sns.heatmap(df.drop('Year', axis=1).groupby('Season').corr(), cmap='rocket_r', annot=True)\n",
    "plt.title(\"Fig. 3.13: Correlation between Energy Demand and Minimum Temperature, per Season\", fontsize=18, pad=10)"
   ]
  },
  {
   "cell_type": "markdown",
   "id": "34cec0e3-d324-49e7-aa73-3b36cf4a58a7",
   "metadata": {},
   "source": [
    "The quantitative data in the heatmap provides a more holistic understanding of what variables correlate to one another. Both summer and winter temperatures have worse correlation to the energy demand than spring and fall. Of note, the winter minimum temperatures have essentially no correlation with the energy demand! \n",
    "\n",
    "Two things may be going on here:\n",
    "- In the winter, weather may be less of a predictor of energy demand because people are using gas-powered heating furnaces that are not pulling electricity from the grid.\n",
    "- In the summer, California's large geographic footprint results in highly variable temperatures and additional data features like population density in each region could be important.\n"
   ]
  },
  {
   "cell_type": "markdown",
   "id": "ddd30a1f-108e-48ed-b5a0-e53fecbe6206",
   "metadata": {},
   "source": [
    "## 3.4 Weekend Effect on Energy Demand"
   ]
  },
  {
   "cell_type": "code",
   "execution_count": null,
   "id": "6c351b24-44cc-462f-96d4-3090fb8a90ff",
   "metadata": {},
   "outputs": [],
   "source": [
    "plt.figure(figsize=(10,6))\n",
    "sns.boxplot(data = df, x= 'Day', y='Daily Energy Demand', order= dayorder)\n",
    "plt.title(\"Figure 3.14: Weekly Average Energy Demand 2018-2022\", fontsize=18, pad=20)\n",
    "plt.rc('axes', labelsize=14)\n",
    "plt.rc('xtick', labelsize=10)\n",
    "plt.rc('ytick', labelsize=10)"
   ]
  },
  {
   "cell_type": "code",
   "execution_count": null,
   "id": "98abefee-ec22-487d-8518-2bd388d32977",
   "metadata": {},
   "outputs": [],
   "source": [
    "plt.figure(figsize=(17,12))\n",
    "sns.heatmap(df.drop('Year', axis=1).groupby('Day').corr(), cmap='rocket_r', annot=True)\n",
    "plt.title(\"Fig. 3.15: Correlation between Energy Demand and Day of the Week\", fontsize=18, pad=10)"
   ]
  },
  {
   "cell_type": "markdown",
   "id": "f2d26e2f-b07b-4f25-93a5-3be1df1e84d9",
   "metadata": {},
   "source": [
    "There isn't much difference in Daily Energy Demand correlation with temperatures when the data are grouped by days of the week. "
   ]
  },
  {
   "cell_type": "markdown",
   "id": "6f32d9d6-a7e9-48f6-9e41-c656f25a5f5c",
   "metadata": {
    "tags": []
   },
   "source": [
    "## 3.5 Encoding Time Information as Features\n",
    "\n",
    "It will be useful for the model to recognize that January is similar to December and occurs immediately after it; in other words, setting up the data to represent the cyclical continuitity present with each year is important. Trigonometric transformations can be used to uncode the time into cyclical features."
   ]
  },
  {
   "cell_type": "code",
   "execution_count": null,
   "id": "daab573f-305c-4e6a-bdfa-e0d3af31abdb",
   "metadata": {},
   "outputs": [],
   "source": [
    "from datetime import date\n",
    "from sklearn.preprocessing import FunctionTransformer"
   ]
  },
  {
   "cell_type": "code",
   "execution_count": null,
   "id": "f478db46-f989-48db-b910-605342667f87",
   "metadata": {},
   "outputs": [],
   "source": [
    "def sin_transformer(period):\n",
    "    return FunctionTransformer(lambda x: np.sin(x / period * 2 * np.pi))\n",
    "\n",
    "def cos_transformer(period):\n",
    "    return FunctionTransformer(lambda x: np.cos(x / period * 2 * np.pi))"
   ]
  },
  {
   "cell_type": "code",
   "execution_count": null,
   "id": "ffda0737-80de-41dd-a70d-1cde52eb1ce2",
   "metadata": {},
   "outputs": [],
   "source": [
    "df_2=df.copy()"
   ]
  },
  {
   "cell_type": "code",
   "execution_count": null,
   "id": "4d2a88e3-762d-43fb-b2a5-5a2d17bded8d",
   "metadata": {},
   "outputs": [],
   "source": [
    "dayofweekdict = {'Monday': 1, 'Tuesday':2, 'Wednesday':3, 'Thursday':4, 'Friday':5, 'Saturday':6, 'Sunday':7}"
   ]
  },
  {
   "cell_type": "code",
   "execution_count": null,
   "id": "d2cb5387-bd35-4f66-804f-f66fe90f73da",
   "metadata": {},
   "outputs": [],
   "source": [
    "#Considering the cyclical nature of the months and days of the week. Could have also done days of the year but since timeframe is only ~3.5 years, each day would only occur 3 or 4 times.\n",
    "df_2['month_num']= df_2['Date-DateTime'].dt.month\n",
    "df_2['dayofweek']= df_2['Day'].map(dayofweekdict)"
   ]
  },
  {
   "cell_type": "code",
   "execution_count": null,
   "id": "9252ffe8-396e-4461-9dc4-aa0cacb7cfdd",
   "metadata": {},
   "outputs": [],
   "source": [
    "df_2.head()"
   ]
  },
  {
   "cell_type": "code",
   "execution_count": null,
   "id": "c03ac181-00b2-444c-88dd-440671694677",
   "metadata": {},
   "outputs": [],
   "source": [
    "#12 months in the year\n",
    "df_2['month_sin']=sin_transformer(12).fit_transform(df_2['month_num'])\n",
    "df_2['month_cos']=cos_transformer(12).fit_transform(df_2['month_num'])\n",
    "\n",
    "#7 days in the week\n",
    "df_2['day_sin']=sin_transformer(7).fit_transform(df_2['dayofweek'])\n",
    "df_2['day_cos']=cos_transformer(7).fit_transform(df_2['dayofweek'])"
   ]
  },
  {
   "cell_type": "code",
   "execution_count": null,
   "id": "433ba1e2-3468-497e-bb18-b4195a705703",
   "metadata": {},
   "outputs": [],
   "source": [
    "df_2.head(2)"
   ]
  },
  {
   "cell_type": "code",
   "execution_count": null,
   "id": "e8ff3cec-0307-4502-a663-50bc61979af9",
   "metadata": {},
   "outputs": [],
   "source": [
    "fig, ax = plt.subplots(2, 1, figsize=(16,8))\n",
    "df_2[[\"month_sin\", \"month_cos\"]].plot(ax=ax[0])\n",
    "df_2[[\"day_sin\", \"day_cos\"]].plot(ax=ax[1], xlim=(0,1000))\n",
    "plt.suptitle(\"Fig 3.16: Cyclical encoding with sine/cosine transformation\", fontsize=18)\n",
    "plt.legend( loc=4)"
   ]
  },
  {
   "cell_type": "markdown",
   "id": "4dbd1ff8-1f4c-42c4-a82a-ec8dad30a4fd",
   "metadata": {},
   "source": [
    "Step-wise curves for the months, with smoother steps for the days of the week.\n",
    "\n",
    "Note that the axis range on the day sine/cosine transformation has been limited to the first 1000 days for visualization purposes.\n",
    "\n",
    "Two curves, both a sine and a cosine curve, must be used so that each time point can be uniquely identified and there are no overlapping values. This is more clear when plotting the values of the sine/cosine functions in a scatter plot, as shown below.\n",
    "\n"
   ]
  },
  {
   "cell_type": "code",
   "execution_count": null,
   "id": "399b3d7d-7d61-4010-b0ee-8916ab9e0622",
   "metadata": {},
   "outputs": [],
   "source": [
    "fig, axs = plt.subplots(1, 2, figsize=(16,8))\n",
    "axs[0].set_title(\"Fig 3.17.a: Unique Month (sin,cos) Vectors\", fontsize=16, loc='center')\n",
    "sns.scatterplot(x=df_2['month_sin'], y=df_2['month_cos'], ax=axs[0], s=60)\n",
    "axs[1].set_title(\"Fig 3.17.b: Unique Day (sin,cos) Vectors\", fontsize=16, loc='center')\n",
    "sns.scatterplot(x=df_2['day_sin'], y=df_2['day_cos'], ax=axs[1], s=60)"
   ]
  },
  {
   "cell_type": "markdown",
   "id": "ed5e234d-89b6-4ada-9070-3f55366aea67",
   "metadata": {},
   "source": [
    "As can be seen by the above plots, it is necessary to consider both the sin and cosine curves simultaneously to uniquely identify a given time point. This is important to note because if a tree-based model is used for the data, the model will split based on a single feature at the time, thereby being unable to precisely know the month and day of the week."
   ]
  },
  {
   "cell_type": "markdown",
   "id": "23f0e5af-16d3-4275-883a-a4f378eebfd4",
   "metadata": {},
   "source": [
    "## 3.6 Creating dummy variables for the station location and season."
   ]
  },
  {
   "cell_type": "code",
   "execution_count": null,
   "id": "0e125dfc-b17e-48cb-bb63-3480b0e07483",
   "metadata": {},
   "outputs": [],
   "source": [
    "df_2.head()"
   ]
  },
  {
   "cell_type": "markdown",
   "id": "4bf08e44-06f6-4323-aac6-996a843fb07d",
   "metadata": {},
   "source": [
    "The month sin/cos features and day of the week sin/cos features will capture all of the information from the date, day, season and month columns, so those can be dropped."
   ]
  },
  {
   "cell_type": "code",
   "execution_count": null,
   "id": "73672b0a-f938-4f47-a993-317907fef0ae",
   "metadata": {},
   "outputs": [],
   "source": [
    "df_2.drop(['Date-DateTime', 'Date', 'Day', 'Month', 'Season', 'month_num', 'dayofweek'], axis=1, inplace=True)"
   ]
  },
  {
   "cell_type": "code",
   "execution_count": null,
   "id": "4dfd98c3-0783-4696-8653-e2c69aee7eca",
   "metadata": {},
   "outputs": [],
   "source": [
    "df_2.head()"
   ]
  },
  {
   "cell_type": "markdown",
   "id": "107dac73-7ace-4008-adae-aa3b855a2523",
   "metadata": {},
   "source": [
    "Create dummy variables for the station location"
   ]
  },
  {
   "cell_type": "code",
   "execution_count": null,
   "id": "e1464d79-179b-4be8-b699-723921998414",
   "metadata": {},
   "outputs": [],
   "source": [
    "dummies = pd.get_dummies(df_2['Station Location'],drop_first=True) #dropping first column to prevent having repeated data in the df\n",
    "df_2 = df_2.drop(['Station Location', 'Station ID'],axis=1)\n",
    "df_2 = pd.concat([df_2,dummies],axis=1)"
   ]
  },
  {
   "cell_type": "code",
   "execution_count": null,
   "id": "4b76b698-8533-4c4c-8014-29190eb7aa34",
   "metadata": {},
   "outputs": [],
   "source": [
    "df_2.head(10)"
   ]
  },
  {
   "cell_type": "code",
   "execution_count": null,
   "id": "39f679d8-9c3d-42f2-92a0-108f49c30b38",
   "metadata": {},
   "outputs": [],
   "source": [
    "len(df_2)"
   ]
  },
  {
   "cell_type": "code",
   "execution_count": null,
   "id": "c2729532-05fa-48ac-a795-8c6a382347b7",
   "metadata": {},
   "outputs": [],
   "source": [
    "#7 station locations\n",
    "365*7"
   ]
  },
  {
   "cell_type": "markdown",
   "id": "342cee62-5c5e-4c5b-97a5-e2e2794563ce",
   "metadata": {},
   "source": [
    "The last 2555 rows in the dataframe should be reserved for the testing data- this will represent the final year of values."
   ]
  },
  {
   "cell_type": "code",
   "execution_count": null,
   "id": "4987a486-4c30-4b01-b250-9e5c6ba42b29",
   "metadata": {},
   "outputs": [],
   "source": [
    "(2555/10131)*100"
   ]
  },
  {
   "cell_type": "markdown",
   "id": "cdde5b71-8e5c-4953-a191-55441036ac81",
   "metadata": {},
   "source": [
    "Rounding up, the test size will be set at 26% of the data reserved for testing. By rounding up a complete year for testing is ensured."
   ]
  },
  {
   "cell_type": "markdown",
   "id": "f883249b-8ccd-46e0-b4e3-5d36e570d117",
   "metadata": {
    "tags": []
   },
   "source": [
    "## 3.7 Train Test Split"
   ]
  },
  {
   "cell_type": "markdown",
   "id": "7e68a4a1-a936-44e7-8125-11a159ca45de",
   "metadata": {},
   "source": [
    "The most recent 365 of data in the dataframe represent the last X% of the values of the data frame. These will be defined as the test set to determine if the model can effectively forecast future energy demand for a year."
   ]
  },
  {
   "cell_type": "code",
   "execution_count": null,
   "id": "9bfab8d8-d819-45b2-ad25-82557472751b",
   "metadata": {},
   "outputs": [],
   "source": [
    "df_2.shape"
   ]
  },
  {
   "cell_type": "code",
   "execution_count": null,
   "id": "144b321c-1a54-4d16-a964-612eecadc876",
   "metadata": {},
   "outputs": [],
   "source": [
    "from sklearn.model_selection import train_test_split\n",
    "# X = df_2.drop('Daily Energy Demand',axis=1).values\n",
    "# y = df_2['Daily Energy Demand'].values"
   ]
  },
  {
   "cell_type": "code",
   "execution_count": null,
   "id": "7ac1dca3-f972-4af1-9033-a04f4614bfd8",
   "metadata": {},
   "outputs": [],
   "source": [
    "X = df_2.drop('Daily Energy Demand',axis=1).copy()\n",
    "y = df_2['Daily Energy Demand'].copy()"
   ]
  },
  {
   "cell_type": "code",
   "execution_count": null,
   "id": "4cb21f39-b05c-4b71-858f-1757a91212bf",
   "metadata": {},
   "outputs": [],
   "source": [
    "# X_train, X_test, y_train, y_test = train_test_split(X, y, test_size=0.3, random_state=101)\n",
    "X_train, X_test, y_train, y_test = train_test_split(X, y, test_size=0.26, random_state=101, shuffle=False)\n",
    "#shuffle = false because it is a time series"
   ]
  },
  {
   "cell_type": "code",
   "execution_count": null,
   "id": "f591738f-652a-4723-87ba-410e5685b856",
   "metadata": {},
   "outputs": [],
   "source": [
    "X_train.shape"
   ]
  },
  {
   "cell_type": "markdown",
   "id": "24bf2c93-eb14-4715-a3e9-3cb328476062",
   "metadata": {},
   "source": [
    "The shapes of each dataframe are what is expected. The training df is one column shorter because the label column has been dropped."
   ]
  },
  {
   "cell_type": "code",
   "execution_count": null,
   "id": "76308c43-ea1c-4935-9d25-925ead4e92d3",
   "metadata": {},
   "outputs": [],
   "source": [
    "initial_indicies = y_test.index"
   ]
  },
  {
   "cell_type": "code",
   "execution_count": null,
   "id": "59b76a5b-4740-4f6e-b0bd-983f9838c323",
   "metadata": {},
   "outputs": [],
   "source": [
    "#good, indeces start at the last 30% of the df\n",
    "y_test.index"
   ]
  },
  {
   "cell_type": "code",
   "execution_count": null,
   "id": "e84ed83b-2e5d-40c8-b9e4-8f15f77c13c7",
   "metadata": {},
   "outputs": [],
   "source": [
    "X_test.index"
   ]
  },
  {
   "cell_type": "code",
   "execution_count": null,
   "id": "f5717625-09fd-4ae5-81e3-5c3bb235b566",
   "metadata": {},
   "outputs": [],
   "source": [
    "months_for_each_y_test = df.loc[initial_indicies, [\"Month\", \"Year\"]]"
   ]
  },
  {
   "cell_type": "code",
   "execution_count": null,
   "id": "1dae765f-4510-466f-af94-6671e664964e",
   "metadata": {},
   "outputs": [],
   "source": [
    "jan_idx = months_for_each_y_test[months_for_each_y_test[\"Month\"]==\"January\"].index\n",
    "feb_idx = months_for_each_y_test[months_for_each_y_test[\"Month\"]==\"February\"].index\n",
    "mar_idx = months_for_each_y_test[months_for_each_y_test[\"Month\"]==\"March\"].index\n",
    "apr_idx = months_for_each_y_test[months_for_each_y_test[\"Month\"]==\"April\"].index\n",
    "may_idx = months_for_each_y_test[months_for_each_y_test[\"Month\"]==\"May\"].index\n",
    "jun_idx = months_for_each_y_test[months_for_each_y_test[\"Month\"]==\"June\"].index\n",
    "jul_idx = months_for_each_y_test[months_for_each_y_test[\"Month\"]==\"July\"].index\n",
    "aug_idx = months_for_each_y_test[months_for_each_y_test[\"Month\"]==\"August\"].index\n",
    "sep_idx = months_for_each_y_test[months_for_each_y_test[\"Month\"]==\"September\"].index\n",
    "oct_idx = months_for_each_y_test[months_for_each_y_test[\"Month\"]==\"October\"].index\n",
    "nov_idx = months_for_each_y_test[months_for_each_y_test[\"Month\"]==\"November\"].index\n",
    "dec_idx = months_for_each_y_test[months_for_each_y_test[\"Month\"]==\"December\"].index\n",
    "\n",
    "jan_idx = [True if x in jan_idx else False for x in initial_indicies]\n",
    "feb_idx = [True if x in feb_idx else False for x in initial_indicies]\n",
    "mar_idx = [True if x in mar_idx else False for x in initial_indicies]\n",
    "apr_idx = [True if x in apr_idx else False for x in initial_indicies]\n",
    "may_idx = [True if x in may_idx else False for x in initial_indicies]\n",
    "jun_idx = [True if x in jun_idx else False for x in initial_indicies]\n",
    "jul_idx = [True if x in jul_idx else False for x in initial_indicies]\n",
    "aug_idx = [True if x in aug_idx else False for x in initial_indicies]\n",
    "sep_idx = [True if x in sep_idx else False for x in initial_indicies]\n",
    "oct_idx = [True if x in oct_idx else False for x in initial_indicies]\n",
    "nov_idx = [True if x in nov_idx else False for x in initial_indicies]\n",
    "dec_idx = [True if x in dec_idx else False for x in initial_indicies]"
   ]
  },
  {
   "cell_type": "markdown",
   "id": "c7685e8f-3a40-49bd-8ce4-336a46182d77",
   "metadata": {},
   "source": [
    "## 3.8 Normalizing the Data"
   ]
  },
  {
   "cell_type": "code",
   "execution_count": null,
   "id": "cc482b3d-7384-4118-a01c-77262984aa15",
   "metadata": {},
   "outputs": [],
   "source": [
    "from sklearn.preprocessing import MinMaxScaler\n",
    "scaler = MinMaxScaler()\n",
    "X_train = scaler.fit_transform(X_train)\n",
    "X_test = scaler.transform(X_test)\n",
    "#Don't want data leakage from the test set so only fit on the X_train data."
   ]
  },
  {
   "cell_type": "markdown",
   "id": "f2c53336-8e57-4b60-913f-8165a5e2538a",
   "metadata": {},
   "source": [
    "## 3.9 Defining the Model"
   ]
  },
  {
   "cell_type": "code",
   "execution_count": null,
   "id": "296f05bf-a207-4189-8f10-bad83e870566",
   "metadata": {},
   "outputs": [],
   "source": [
    "import tensorflow as tf\n",
    "from tensorflow.keras.models import Sequential\n",
    "from tensorflow.keras.layers import Dense, Activation,Dropout\n",
    "from tensorflow.keras.constraints import max_norm\n",
    "from tensorflow.keras.optimizers import Adam"
   ]
  },
  {
   "cell_type": "markdown",
   "id": "adb7ed49-7fdf-4f4a-9100-57cb497bcccd",
   "metadata": {},
   "source": [
    "Started with a common rule-of-thumb for decent layer configuration- the number of hidden layers is one and the number of nuerons in that layer is the mean of the neurons in the input and output layer. However, with this architecture, the model performed horribly. This is not terribly surprising because while there are not many features, the data are not at all linearly spaced and the model may need more neurons and hidden layers to fit the data. Through trial and error, the below model was established.\n",
    "\n",
    "Using dropout layers to prevent overfitting."
   ]
  },
  {
   "cell_type": "code",
   "execution_count": null,
   "id": "5f7ac1f1-cc92-4fec-8d44-804691732710",
   "metadata": {},
   "outputs": [],
   "source": [
    "#sequential model is the simplest and involves adding layers to the model one by one\n",
    "model = Sequential()\n",
    "\n",
    "#13 features in data set, so starting with 13 inputs\n",
    "model.add(Dense(750, input_shape=(13,), activation = 'relu'))\n",
    "model.add(Dropout(0.3))\n",
    "model.add(Dense(450, activation = 'relu'))\n",
    "model.add(Dropout(0.3))\n",
    "model.add(Dense(200, activation = 'relu'))\n",
    "model.add(Dropout(0.3))\n",
    "model.add(Dense(75, activation = 'relu'))\n",
    "model.add(Dropout(0.3))\n",
    "\n",
    "#output layer\n",
    "#NN is a regressor so output layer has a single node \n",
    "model.add(Dense(1))\n",
    "\n",
    "#compiling the model- selected a mean squared error loss function because the labels are continuous (a regression problem)\n",
    "#selected the Adam algorithm (a modern variation on a stochastic gradient) to perform the optimization procedure\n",
    "model.compile (optimizer = 'adam', loss= 'mse')\n"
   ]
  },
  {
   "cell_type": "markdown",
   "id": "71782955-0f35-404c-b90c-6739c7687ffa",
   "metadata": {},
   "source": [
    "Using `EarlyStopping` so that the model stops the training once it has stopped improving the validation loss"
   ]
  },
  {
   "cell_type": "code",
   "execution_count": null,
   "id": "02a67592-da10-4696-ad68-21371840e9ee",
   "metadata": {},
   "outputs": [],
   "source": [
    "from tensorflow.keras.callbacks import EarlyStopping\n",
    "early_stop = EarlyStopping(monitor = 'val_loss', mode='min', verbose = 1, patience = 25)\n",
    "#looks for when validation loss starts to increase, showing signs of overfitting, and after a grace period it stops training the model."
   ]
  },
  {
   "cell_type": "markdown",
   "id": "092023b0-76d4-43ac-958b-8d1e20a8ab7b",
   "metadata": {},
   "source": [
    "## 3.10 Fitting the Model"
   ]
  },
  {
   "cell_type": "code",
   "execution_count": null,
   "id": "5cb4e31a-285d-46e9-b279-1e5a93b10511",
   "metadata": {
    "tags": []
   },
   "outputs": [],
   "source": [
    "model.fit(x=X_train,\n",
    "         y=y_train,\n",
    "         epochs = 1000,\n",
    "         batch_size = 128,\n",
    "         validation_data = (X_test, y_test), verbose =1, #quickly check loss with test data, this will not update the model based on the test data\n",
    "         callbacks = [early_stop])"
   ]
  },
  {
   "cell_type": "markdown",
   "id": "ce1ea41e-c21f-4011-9941-8a6f2a79ccf5",
   "metadata": {
    "tags": []
   },
   "source": [
    "## 3.11 Evaluating Model Performance"
   ]
  },
  {
   "cell_type": "code",
   "execution_count": null,
   "id": "2c199b9d-b161-47f2-b80d-058f7749871c",
   "metadata": {},
   "outputs": [],
   "source": [
    "losses = pd.DataFrame(model.history.history)\n",
    "\n",
    "losses[['loss','val_loss']].plot(figsize=(8,8))\n",
    "plt.title(\"Fig. 3.18: Model Learning Curve\", fontsize=18, pad=10)                                 \n",
    "plt.rc('axes', labelsize=14)\n",
    "plt.rc('xtick', labelsize=10)\n",
    "plt.rc('ytick', labelsize=10)"
   ]
  },
  {
   "cell_type": "markdown",
   "id": "ecc3af97-1118-4043-935a-25460c07b6d7",
   "metadata": {},
   "source": [
    "Loss looks really good, no signs of overfitting. Evident by the decrease in both the training and validation loss traces, and no increase in validation set that would indicate overfitting."
   ]
  },
  {
   "cell_type": "code",
   "execution_count": null,
   "id": "429d1206-e03c-4abc-b79f-fd1830407454",
   "metadata": {},
   "outputs": [],
   "source": [
    "from sklearn.metrics import mean_squared_error,mean_absolute_error,explained_variance_score"
   ]
  },
  {
   "cell_type": "markdown",
   "id": "a70eed21-9574-46e8-a017-990a6450444e",
   "metadata": {},
   "source": [
    "Later on, once the model is optimized we will want to be able to see how the predictions matched the true values for each month. Setting that up now by creating a dataframe with predicted labels, true labels, and the month."
   ]
  },
  {
   "cell_type": "code",
   "execution_count": null,
   "id": "2f9d1bbd-02a7-4734-b0eb-ed490d7eb129",
   "metadata": {},
   "outputs": [],
   "source": [
    "predictions = model.predict(X_test)"
   ]
  },
  {
   "cell_type": "code",
   "execution_count": null,
   "id": "afc72017-3329-4a4a-856d-d1673cb784c3",
   "metadata": {},
   "outputs": [],
   "source": [
    "rmse = np.sqrt(mean_squared_error(y_test,predictions))\n",
    "np.format_float_scientific(rmse)"
   ]
  },
  {
   "cell_type": "code",
   "execution_count": null,
   "id": "af9e150d-631b-43c0-9244-c4f7919c4fd8",
   "metadata": {},
   "outputs": [],
   "source": [
    "#how much variance is being explained by the model, best possible score is 1.0, lower values are worse.\n",
    "explained_variance_score(y_test,predictions)"
   ]
  },
  {
   "cell_type": "code",
   "execution_count": null,
   "id": "94126944-474c-4eb0-a00e-83f07718a1d2",
   "metadata": {},
   "outputs": [],
   "source": [
    "df_2['Daily Energy Demand'].describe()"
   ]
  },
  {
   "cell_type": "code",
   "execution_count": null,
   "id": "f3d519a4-241b-453b-99de-697a87be967e",
   "metadata": {},
   "outputs": [],
   "source": [
    "plt.rc('axes', labelsize=14)\n",
    "plt.rc('xtick', labelsize=10)\n",
    "plt.rc('ytick', labelsize=10)\n",
    "plt.figure(figsize=(8,8))                                \n",
    "\n",
    "# Our predictions\n",
    "plt.scatter(y_test,predictions)\n",
    "\n",
    "# Perfect predictions\n",
    "plt.plot(y_test,y_test,'r', linewidth=3)\n",
    "\n",
    "plt.title(\"Fig. 3.19: Linear Regression of Predicted Labels \", fontsize=18, pad=20) "
   ]
  },
  {
   "cell_type": "markdown",
   "id": "3933dd9b-b172-4576-8035-93e3d8dc8643",
   "metadata": {
    "tags": []
   },
   "source": [
    "##  3.12 Examining Effect of Batch Normalization on the Neural Network\n",
    "\n",
    "Batch normalization standardizes the inputs to a layer for each mini-batch, however, it should not be used with dropout layers (they can make the standardization statistics too noisy) so let's remove those and see how the model performs."
   ]
  },
  {
   "cell_type": "code",
   "execution_count": null,
   "id": "830ad0f7-6e07-4b53-8adc-6f1b378c9356",
   "metadata": {},
   "outputs": [],
   "source": [
    "from tensorflow.keras.layers import BatchNormalization"
   ]
  },
  {
   "cell_type": "code",
   "execution_count": null,
   "id": "7e236370-f052-489f-8103-82d49aa18e07",
   "metadata": {},
   "outputs": [],
   "source": [
    "\n",
    "model = Sequential()\n",
    "model.add(Dense(750, input_shape=(13,), activation = 'relu'))\n",
    "model.add(BatchNormalization())\n",
    "model.add(Dense(450, activation = 'relu'))\n",
    "model.add(Dense(200, activation = 'relu'))\n",
    "model.add(Dense(75, activation = 'relu'))\n",
    "model.add(Dense(1))\n",
    "model.compile (optimizer = 'adam', loss= 'mse')\n",
    "\n",
    "early_stop = EarlyStopping(monitor = 'val_loss', mode='min', verbose = 1, patience = 25)\n"
   ]
  },
  {
   "cell_type": "code",
   "execution_count": null,
   "id": "119a3ea6-e001-4056-bbe2-00b263143cf7",
   "metadata": {},
   "outputs": [],
   "source": [
    "model.fit(x=X_train,\n",
    "         y=y_train,\n",
    "         epochs = 1000,\n",
    "         batch_size = 128,\n",
    "         validation_data = (X_test, y_test), verbose =0, \n",
    "         callbacks = [early_stop])"
   ]
  },
  {
   "cell_type": "code",
   "execution_count": null,
   "id": "87e24f51-9ade-40fc-a8ff-4563f18a4d2f",
   "metadata": {},
   "outputs": [],
   "source": [
    "losses = pd.DataFrame(model.history.history)\n",
    "losses[['loss','val_loss']].plot(figsize=(8,8))\n",
    "plt.title(\"Fig. 3.20: Model Learning Curve\", fontsize=18, pad=10)                                 \n",
    "plt.rc('axes', labelsize=14)\n",
    "plt.rc('xtick', labelsize=10)\n",
    "plt.rc('ytick', labelsize=10)"
   ]
  },
  {
   "cell_type": "code",
   "execution_count": null,
   "id": "35e46114-b891-4461-97ab-6d5420edbc92",
   "metadata": {},
   "outputs": [],
   "source": [
    "predictions = model.predict(X_test)\n",
    "rmse = np.sqrt(mean_squared_error(y_test,predictions))\n",
    "np.format_float_scientific(rmse)"
   ]
  },
  {
   "cell_type": "code",
   "execution_count": null,
   "id": "436d7e33-cc17-4048-a816-5bfa87a83e81",
   "metadata": {},
   "outputs": [],
   "source": [
    "explained_variance_score(y_test,predictions)"
   ]
  },
  {
   "cell_type": "code",
   "execution_count": null,
   "id": "024c0e66-c84d-42e3-8657-16c7306e0cc4",
   "metadata": {},
   "outputs": [],
   "source": [
    "plt.rc('axes', labelsize=14)\n",
    "plt.rc('xtick', labelsize=10)\n",
    "plt.rc('ytick', labelsize=10)\n",
    "plt.figure(figsize=(8,8))\n",
    "\n",
    "# Our predictions\n",
    "plt.scatter(y_test,predictions)\n",
    "\n",
    "# Perfect predictions\n",
    "plt.plot(y_test,y_test,'r')\n",
    "\n",
    "plt.title(\"Fig. 3.21: Linear Regression of Predicted Labels \", fontsize=18, pad=20) "
   ]
  },
  {
   "cell_type": "markdown",
   "id": "37c54eb4-c01d-4631-a1e0-7e4dee986176",
   "metadata": {},
   "source": [
    "Using a `BatchNormalization` layer substantially improved the performance!\n"
   ]
  },
  {
   "cell_type": "markdown",
   "id": "46e05aab-5b9e-4dcd-9d81-d65f377125ab",
   "metadata": {},
   "source": [
    "## 3.13 Automated Model Hyperparameter Tuning\n",
    "\n",
    "Using trial and error methods above, it was clear that the number of model layers and nodes significantly impacts model performance. A decent model was found by manually tuning the hyper parameters, but Keras Tuner can be used to further optimize the hyperparameters. Keras Tuner is an optimization framework that will be used to automate the tuning of the number of hidden layers, the number of nodes per layer, and the learning rate."
   ]
  },
  {
   "cell_type": "code",
   "execution_count": null,
   "id": "066d5d11-95e8-443b-bff8-a9e08f3336da",
   "metadata": {},
   "outputs": [],
   "source": [
    "import keras_tuner as kt"
   ]
  },
  {
   "cell_type": "code",
   "execution_count": null,
   "id": "6403de83-7bf8-49d8-b959-f6f7143b82f4",
   "metadata": {},
   "outputs": [],
   "source": [
    "#defining the model skeleton \n",
    "def build_model(hp):\n",
    "    \"\"\"\n",
    "    Builds model and sets up hyperparameter space to search.\n",
    "    \n",
    "    Parameters\n",
    "    ----------\n",
    "    hp : HyperParameter object\n",
    "        Configures hyperparameters to tune.\n",
    "        \n",
    "    Returns\n",
    "    -------\n",
    "    model : keras model\n",
    "        Compiled model with hyperparameters to tune.\n",
    "    \"\"\"\n",
    "\n",
    "\n",
    "    # Initialize sequential API and start building model.\n",
    "    model = Sequential()\n",
    "    model.add(tf.keras.Input(shape=(13,)))\n",
    "    \n",
    "    #_, _, _, _, _ = hp.Boolean(\"BatchNorm1\"), hp.Boolean(\"BatchNorm2\"), hp.Boolean(\"BatchNorm3\"), hp.Boolean(\"BatchNorm4\"), hp.Boolean(\"BatchNorm5\")\n",
    "    \n",
    "    # model.add(BatchNormalization())\n",
    "    \n",
    "    # Tune the number of hidden layers and units in each.\n",
    "    # Number of hidden layers: 1 - 5\n",
    "    # Number of nodes: 7 - 807 with stepsize of 50\n",
    "    for i in range(1, hp.Int(\"num_layers\", 2, 6)):\n",
    "        model.add(\n",
    "            Dense(\n",
    "                units=hp.Int(\"units_\" + str(i), min_value=7, max_value=807, step=50),\n",
    "                activation=\"relu\")\n",
    "            )\n",
    "        if i==1:\n",
    "            if hp.Boolean(\"BatchNorm1\"):\n",
    "                model.add(BatchNormalization())\n",
    "                \n",
    "        elif i==2:\n",
    "            if hp.Boolean(\"BatchNorm2\"):\n",
    "                model.add(BatchNormalization())\n",
    "                \n",
    "        elif i==3:\n",
    "            if hp.Boolean(\"BatchNorm3\"):\n",
    "                model.add(BatchNormalization())\n",
    "                \n",
    "        elif i==4:\n",
    "            if hp.Boolean(\"BatchNorm4\"):\n",
    "                model.add(BatchNormalization())\n",
    "        \n",
    "        elif i==5:\n",
    "            if hp.Boolean(\"BatchNorm5\"):\n",
    "                model.add(BatchNormalization())\n",
    "                \n",
    "        \n",
    "    # Add output layer.\n",
    "    model.add(Dense(1))\n",
    "    \n",
    "    # Tune learning rate for Adam optimizer with values from 0.01, 0.001, or 0.0001\n",
    "    hp_learning_rate = hp.Choice(\"learning_rate\", values=[1e-2, 1e-3, 1e-4])\n",
    "    \n",
    "    # Define optimizer, loss, and metrics\n",
    "    model.compile(optimizer=Adam(learning_rate=hp_learning_rate),\n",
    "                  loss='mse')\n",
    "    \n",
    "    return model"
   ]
  },
  {
   "cell_type": "markdown",
   "id": "7eee7d8e-c287-4ab9-bad9-8a2ef028e85e",
   "metadata": {},
   "source": [
    "A Hyperband algorithm will be used to quickly converge on a high-performing model. Hyperband uses a sports championship style bracket to randomly test model performance for a few epochs before moving on with the top-performing half of models in the next round."
   ]
  },
  {
   "cell_type": "code",
   "execution_count": null,
   "id": "600cc991-4582-442b-b051-561cbd2801fc",
   "metadata": {},
   "outputs": [],
   "source": [
    "#instantiate the tuner and specify a search strategy\n",
    "tuner = kt.Hyperband(build_model,\n",
    "                     objective=\"val_loss\",\n",
    "                     max_epochs=20,\n",
    "                     factor=3,\n",
    "                     hyperband_iterations=10,\n",
    "                     directory=\"kt_dir_7\",\n",
    "                     project_name=\"kt_hyperband\",)"
   ]
  },
  {
   "cell_type": "code",
   "execution_count": null,
   "id": "802b9e85-71a0-4483-aaaa-95d5300d2c3f",
   "metadata": {},
   "outputs": [],
   "source": [
    "# search space summary\n",
    "tuner.search_space_summary()"
   ]
  },
  {
   "cell_type": "code",
   "execution_count": null,
   "id": "f225a65f-bdec-4582-9a94-ae43aae51226",
   "metadata": {},
   "outputs": [],
   "source": [
    "stop_early = EarlyStopping(monitor = 'val_loss', mode='min', verbose = 1, patience = 25)"
   ]
  },
  {
   "cell_type": "code",
   "execution_count": null,
   "id": "0cbf9975-65d7-488f-bb03-a462d63f7632",
   "metadata": {},
   "outputs": [],
   "source": [
    "#perform search\n",
    "tuner.search(X_train, y_train, epochs=1000, batch_size=128, validation_data = (X_test, y_test), callbacks=[stop_early], verbose=2)"
   ]
  },
  {
   "cell_type": "markdown",
   "id": "701d61e6-d5c8-493d-8503-6bd3f4fca650",
   "metadata": {},
   "source": [
    "The model is retrained using the best hyperparameters from the search results"
   ]
  },
  {
   "cell_type": "code",
   "execution_count": null,
   "id": "ad6dd9e0-3a22-4652-a60d-cc46692525d4",
   "metadata": {},
   "outputs": [],
   "source": [
    "# Get the optimal hyperparameters from the results\n",
    "best_hps=tuner.get_best_hyperparameters()[0]"
   ]
  },
  {
   "cell_type": "code",
   "execution_count": null,
   "id": "ed9171b5-8653-4c31-8571-5fcbb98f3543",
   "metadata": {},
   "outputs": [],
   "source": [
    "print(f\"\"\"\n",
    "The hyperparameter search is complete. The optimal number of layers is {best_hps.get('num_layers')} and the optimal number of units in each densely-connected\n",
    "layer is {best_hps.get('units_1')},{best_hps.get('units_2')},{best_hps.get('units_3')},{best_hps.get('units_4')} , sequentially. \n",
    "The Batch Normalization is {best_hps.get('BatchNorm1')}, {best_hps.get('BatchNorm2')}, {best_hps.get('BatchNorm3')}, {best_hps.get('BatchNorm4')}.\n",
    "The optimal learning rate for the optimizer is {best_hps.get('learning_rate')}.\n",
    "\"\"\")"
   ]
  },
  {
   "cell_type": "code",
   "execution_count": null,
   "id": "beb201b0-fa98-4166-bf30-9330b8855548",
   "metadata": {
    "tags": []
   },
   "outputs": [],
   "source": [
    "#Build model\n",
    "h_model = tuner.hypermodel.build(best_hps)\n",
    "\n",
    "#Train the hypertuned model\n",
    "h_model.fit(x= X_train, y= y_train, epochs=1000, validation_data = (X_test, y_test), callbacks=[stop_early], verbose=1)"
   ]
  },
  {
   "cell_type": "code",
   "execution_count": null,
   "id": "577ad730-fa87-4c49-be31-0b41d2d6b8b8",
   "metadata": {},
   "outputs": [],
   "source": [
    "losses = pd.DataFrame(h_model.history.history)\n",
    "losses[['loss','val_loss']].plot(figsize=(8,8))\n",
    "plt.title(\"Fig. 3.22: Model Learning Curve\", fontsize=18, pad=10)                                 \n",
    "plt.rc('axes', labelsize=14)\n",
    "plt.rc('xtick', labelsize=10)\n",
    "plt.rc('ytick', labelsize=10)"
   ]
  },
  {
   "cell_type": "code",
   "execution_count": null,
   "id": "6ea0e706-c329-49a2-8160-66d1661d694e",
   "metadata": {},
   "outputs": [],
   "source": [
    "predictions = h_model.predict(X_test)\n",
    "rmse = np.sqrt(mean_squared_error(y_test,predictions))\n",
    "np.format_float_scientific(rmse)"
   ]
  },
  {
   "cell_type": "code",
   "execution_count": null,
   "id": "a9d48461-b82c-4470-95ab-261b02f72766",
   "metadata": {},
   "outputs": [],
   "source": [
    "explained_variance_score(y_test,predictions)"
   ]
  },
  {
   "cell_type": "code",
   "execution_count": null,
   "id": "dc4df0db-4007-41c5-a46c-73bfd1885105",
   "metadata": {},
   "outputs": [],
   "source": [
    "plt.rc('axes', labelsize=14)\n",
    "plt.rc('xtick', labelsize=10)\n",
    "plt.rc('ytick', labelsize=10)\n",
    "plt.figure(figsize=(8,8))\n",
    "\n",
    "# Our predictions\n",
    "plt.scatter(y_test,predictions)\n",
    "\n",
    "# Perfect predictions\n",
    "plt.plot(y_test,y_test,'r')\n",
    "\n",
    "plt.title(\"Fig. 3.23: Linear Regression of Predicted Labels \", fontsize=18, pad=20) "
   ]
  },
  {
   "cell_type": "markdown",
   "id": "43f9cadc-b99d-49a5-8052-5e9ce898255d",
   "metadata": {
    "tags": []
   },
   "source": [
    "## 3.14 Evaluating Model Performance for Predicting Energy Demand"
   ]
  },
  {
   "cell_type": "code",
   "execution_count": null,
   "id": "b33c623f-2176-43d3-b37f-bd431276e665",
   "metadata": {},
   "outputs": [],
   "source": [
    "df_2['Daily Energy Demand'].describe()"
   ]
  },
  {
   "cell_type": "markdown",
   "id": "34190f7c-523d-4e5a-b4c7-5f3eb1094e47",
   "metadata": {},
   "source": [
    "#### The mean daily energy demand is is 7.17e+06 with a std of 1.02e+06, the model predicts values with a rmse of 4.81 e+05"
   ]
  },
  {
   "cell_type": "code",
   "execution_count": null,
   "id": "0e16460a-d54e-4f59-b5c8-86e978571a5b",
   "metadata": {},
   "outputs": [],
   "source": [
    "predictions_df = pd.DataFrame({'predictions': predictions.reshape(3040), 'y_test': y_test.values})\n",
    "predictions_df['month'] = 'None'\n",
    "\n",
    "predictions_df.loc[jan_idx, 'month'] = 'January'\n",
    "predictions_df.loc[feb_idx, 'month'] = 'February'\n",
    "predictions_df.loc[mar_idx, 'month'] = 'March'\n",
    "predictions_df.loc[apr_idx, 'month'] = 'April'\n",
    "predictions_df.loc[may_idx, 'month'] = 'May'\n",
    "predictions_df.loc[jun_idx, 'month'] = 'June'\n",
    "predictions_df.loc[jul_idx, 'month'] = 'July'\n",
    "predictions_df.loc[aug_idx, 'month'] = 'August'\n",
    "predictions_df.loc[sep_idx, 'month'] = 'September'\n",
    "predictions_df.loc[oct_idx, 'month'] = 'October'\n",
    "predictions_df.loc[nov_idx, 'month'] = 'November'\n",
    "predictions_df.loc[dec_idx, 'month'] = 'December'"
   ]
  },
  {
   "cell_type": "code",
   "execution_count": null,
   "id": "31b3c169-0c81-4b5b-a27f-c8ee1323994a",
   "metadata": {},
   "outputs": [],
   "source": [
    "predictions.shape"
   ]
  },
  {
   "cell_type": "code",
   "execution_count": null,
   "id": "c9d94326-9815-460c-a0ce-071d68aee04f",
   "metadata": {},
   "outputs": [],
   "source": [
    "type(predictions)"
   ]
  },
  {
   "cell_type": "code",
   "execution_count": null,
   "id": "4d639403-5e89-4d50-aa75-59ef875c6926",
   "metadata": {},
   "outputs": [],
   "source": [
    "y_test.shape"
   ]
  },
  {
   "cell_type": "code",
   "execution_count": null,
   "id": "ca9c0f98-f0bc-4c16-8511-f2df030aed6d",
   "metadata": {},
   "outputs": [],
   "source": [
    "type(y_test)"
   ]
  },
  {
   "cell_type": "markdown",
   "id": "4cb2d210-b899-41f1-b2b3-3bf04172175c",
   "metadata": {},
   "source": [
    "The predictions is an ndarray of shape 3040 x 1, but the y_test is series of shape 3040. Therefore, the predictions array needs to be reshaped and the y_test needs to be the same data type as predictions."
   ]
  },
  {
   "cell_type": "code",
   "execution_count": null,
   "id": "3db44ed1-f560-4f94-8b27-eb4a94f6262c",
   "metadata": {},
   "outputs": [],
   "source": [
    "#predictions.reshape to make it 1D\n",
    "#y_test.values to make it an ndarray\n",
    "predictions_df = pd.DataFrame({'predictions': predictions.reshape(3040), 'y_test': y_test.values})"
   ]
  },
  {
   "cell_type": "code",
   "execution_count": null,
   "id": "298d2e04-28ea-42c8-9c9b-626f182eb7b8",
   "metadata": {},
   "outputs": [],
   "source": [
    "predictions_df.head()"
   ]
  },
  {
   "cell_type": "code",
   "execution_count": null,
   "id": "dcb0c7be-eaf8-4c72-9bf8-55f4a7df4e74",
   "metadata": {},
   "outputs": [],
   "source": [
    "#creating a column for month\n",
    "predictions_df['month'] = 'None'"
   ]
  },
  {
   "cell_type": "code",
   "execution_count": null,
   "id": "6136809c-3bfa-45fc-89de-19d646d1bba1",
   "metadata": {},
   "outputs": [],
   "source": [
    "predictions_df.head()"
   ]
  },
  {
   "cell_type": "code",
   "execution_count": null,
   "id": "10abd9c1-b29f-4a00-b2d1-00089bac1fcf",
   "metadata": {},
   "outputs": [],
   "source": [
    "#populate month column with the string values of the months, the row values are Boolean series defined above\n",
    "predictions_df.loc[jan_idx, 'month'] = 'January'\n",
    "predictions_df.loc[feb_idx, 'month'] = 'February'\n",
    "predictions_df.loc[mar_idx, 'month'] = 'March'\n",
    "predictions_df.loc[apr_idx, 'month'] = 'April'\n",
    "predictions_df.loc[may_idx, 'month'] = 'May'\n",
    "predictions_df.loc[jun_idx, 'month'] = 'June'\n",
    "predictions_df.loc[jul_idx, 'month'] = 'July'\n",
    "predictions_df.loc[aug_idx, 'month'] = 'August'\n",
    "predictions_df.loc[sep_idx, 'month'] = 'September'\n",
    "predictions_df.loc[oct_idx, 'month'] = 'October'\n",
    "predictions_df.loc[nov_idx, 'month'] = 'November'\n",
    "predictions_df.loc[dec_idx, 'month'] = 'December'\n"
   ]
  },
  {
   "cell_type": "code",
   "execution_count": null,
   "id": "5213e43f-71c4-4433-b607-f62f68302936",
   "metadata": {},
   "outputs": [],
   "source": [
    "predictions_df.head()"
   ]
  },
  {
   "cell_type": "code",
   "execution_count": null,
   "id": "16d57dbc-59d7-451f-b70f-cb0a6091096d",
   "metadata": {},
   "outputs": [],
   "source": [
    "predictions_df[predictions_df['month']== 'None']"
   ]
  },
  {
   "cell_type": "markdown",
   "id": "3c30e978-fd70-4781-adf2-da4ec2cebce2",
   "metadata": {},
   "source": [
    "Great! All of the None values have been filled in with month names and we can easily see how each month is doing with predictions vs. true values. "
   ]
  },
  {
   "cell_type": "code",
   "execution_count": null,
   "id": "1586916e-fe32-4e44-b20b-72d23aa95af2",
   "metadata": {},
   "outputs": [],
   "source": [
    "predictions_df['residual_squared'] = (predictions_df['predictions']-predictions_df['y_test'])**2"
   ]
  },
  {
   "cell_type": "code",
   "execution_count": null,
   "id": "f7c01212-d73e-4b98-8373-8d1f900e1c07",
   "metadata": {},
   "outputs": [],
   "source": [
    "predictions_df.head()"
   ]
  },
  {
   "cell_type": "code",
   "execution_count": null,
   "id": "6c828c56-cb7a-42c3-8a92-0a07645651ef",
   "metadata": {},
   "outputs": [],
   "source": [
    "rmse_bymonth.values"
   ]
  },
  {
   "cell_type": "code",
   "execution_count": null,
   "id": "3dcb234d-f642-4d08-b605-634bd382aeb3",
   "metadata": {},
   "outputs": [],
   "source": [
    "rmse_bymonth = np.sqrt(predictions_df.groupby('month')['residual_squared'].mean())\n",
    "rmse_df = pd.DataFrame({'Month':rmse_bymonth.index, 'RMSE': rmse_bymonth.values})"
   ]
  },
  {
   "cell_type": "code",
   "execution_count": null,
   "id": "0661f633-ff77-4e00-91a9-53417bacfa60",
   "metadata": {},
   "outputs": [],
   "source": [
    "rmse_df.head()"
   ]
  },
  {
   "cell_type": "code",
   "execution_count": null,
   "id": "806273e3-2b7b-4cd4-ba41-19bdacdb70f0",
   "metadata": {},
   "outputs": [],
   "source": [
    "#sanity check to make sure numbers match up\n",
    "np.sqrt(predictions_df[predictions_df['month']=='April']['residual_squared'].mean())"
   ]
  },
  {
   "cell_type": "code",
   "execution_count": null,
   "id": "ce368480-71be-4d8c-a142-5b121dad63ae",
   "metadata": {},
   "outputs": [],
   "source": [
    "#counting the number of testing data points for each month\n",
    "predictions_df.groupby('month').count()"
   ]
  },
  {
   "cell_type": "markdown",
   "id": "e6f8b2e1-7553-45f5-ac2b-828b37ec69c9",
   "metadata": {},
   "source": [
    "Worth noting that because it was the most recent 30% of the dataframe that was used for testing (~1.2 years), some months have ~420 data points, whereas others have ~210."
   ]
  },
  {
   "cell_type": "code",
   "execution_count": null,
   "id": "30a34066-9942-4fa5-a6ff-483bbd1081b8",
   "metadata": {},
   "outputs": [],
   "source": [
    "plt.figure(figsize=(14,7))\n",
    "sns.barplot(data=rmse_df, x='Month', order=monthorder, y='RMSE')\n",
    "plt.title(\"Fig. 3.24: RMSE Average of All the Days in Each Month \", fontsize=18, pad=20) "
   ]
  },
  {
   "cell_type": "code",
   "execution_count": null,
   "id": "b343e6d6-a834-4205-8321-d0c5b4929f33",
   "metadata": {},
   "outputs": [],
   "source": [
    "rmse_df.sort_values('RMSE')"
   ]
  },
  {
   "cell_type": "markdown",
   "id": "05216b05-7ed6-4d0a-9577-dfabfb7e49fb",
   "metadata": {},
   "source": [
    "The RMSE is highest in June and July and lowest in January and November. There are potentially missing explanatory features in the data set that are related to the summer. Things like school being out and wildfires are not accounted for in the features. The values here give some insight into how accurate the daily predicted energy is.\n",
    "\n",
    "In addition, not all hot days are created equal. A hot day in the middle of a heat wave is likely to use more energy than an isolated hot day. This compounding effect is not going to be well-captured by a neural network like this. There are neural networks that are better designed for capturing dependences through time (e.g., long short-term memory networks).\n",
    "\n",
    "\n",
    "Let's see how the model is doing for predicting the average energy demand per month.\n",
    "For plotting purposes, it is useful to have all of the energy demand values (both predicted and true) in a single column, with a second column distinguishing whether they were predicted or true values."
   ]
  },
  {
   "cell_type": "code",
   "execution_count": null,
   "id": "74cc2186-4d44-410d-a3d4-8940f2f31d5d",
   "metadata": {},
   "outputs": [],
   "source": [
    "predictions_df"
   ]
  },
  {
   "cell_type": "code",
   "execution_count": null,
   "id": "f267196b-1162-4099-94a9-ba024f8dfab0",
   "metadata": {},
   "outputs": [],
   "source": [
    "#creating two smaller dataframes that will eventually be concatenated\n",
    "y_test_df= predictions_df.loc[:,['y_test', 'month']]\n",
    "y_test_df['Type']= 'y_test'\n",
    "y_test_df = y_test_df.rename(columns={'y_test': 'Daily Energy Demand', 'month':'Month'})\n",
    "\n",
    "predictions_df2= predictions_df.loc[:,['predictions', 'month']]\n",
    "predictions_df2['Type']= 'predicted'\n",
    "predictions_df2 = predictions_df2.rename(columns={'predictions': 'Daily Energy Demand', 'month':'Month'})"
   ]
  },
  {
   "cell_type": "code",
   "execution_count": null,
   "id": "aff447c5-1852-481b-8518-1d2c80d41b1e",
   "metadata": {},
   "outputs": [],
   "source": [
    "y_test_df.head()"
   ]
  },
  {
   "cell_type": "code",
   "execution_count": null,
   "id": "e60f6fb8-b222-47bb-83a2-a2b178c7023e",
   "metadata": {},
   "outputs": [],
   "source": [
    "predictions_df2.head()"
   ]
  },
  {
   "cell_type": "code",
   "execution_count": null,
   "id": "cee656b3-d22d-43ed-85b5-5dcbb5641b92",
   "metadata": {},
   "outputs": [],
   "source": [
    "len(predictions_df2)"
   ]
  },
  {
   "cell_type": "code",
   "execution_count": null,
   "id": "dcd98aea-2a93-41e5-85ca-fa072d68490d",
   "metadata": {},
   "outputs": [],
   "source": [
    "len(y_test_df)"
   ]
  },
  {
   "cell_type": "markdown",
   "id": "ead14bdf-5b89-49dd-8ebb-714b5f516de6",
   "metadata": {},
   "source": [
    "Great! Both of the smaller dataframe's are the same length, as we would expect, and have the same column names so they can easily be concatened into one large dataframe and then plotted."
   ]
  },
  {
   "cell_type": "code",
   "execution_count": null,
   "id": "ef56d8a9-ce1e-487f-a732-6cebd5fdb982",
   "metadata": {},
   "outputs": [],
   "source": [
    "plotting_preds=pd.concat([predictions_df2,y_test_df], axis=0)"
   ]
  },
  {
   "cell_type": "code",
   "execution_count": null,
   "id": "eeb29c35-09d2-4c24-b143-6662182a22de",
   "metadata": {},
   "outputs": [],
   "source": [
    "plotting_preds.head()"
   ]
  },
  {
   "cell_type": "code",
   "execution_count": null,
   "id": "51c01d45-2e88-4a94-b0fc-30acdacbd518",
   "metadata": {},
   "outputs": [],
   "source": [
    "#sanity check\n",
    "len(plotting_preds)"
   ]
  },
  {
   "cell_type": "code",
   "execution_count": null,
   "id": "712127e3-d362-423a-93a9-6582215c4190",
   "metadata": {},
   "outputs": [],
   "source": [
    "plt.figure(figsize=(15,8))\n",
    "sns.boxplot(data=plotting_preds, x='Month', y='Daily Energy Demand', order=monthorder, hue='Type')\n",
    "plt.title(\"Fig. 3.25: Model Performance of Average Energy Demand per Month \", fontsize=18, pad=20) "
   ]
  },
  {
   "cell_type": "markdown",
   "id": "431c69c9-a256-4e70-acf7-e70a6a811ffe",
   "metadata": {},
   "source": [
    "This graph shows the monthly average energy demand compared to the predicted monthly average demand, it does not show day-to-day error.\n",
    "\n",
    "March-May were more demanding of energy than the model anticipated, but for other months the model was pretty good at predicting values in the correct range. March-May were also the only months where the model had to predict data for two years. The RMSE values show that the model was the worst at predicting day-to-day error for the months of June and July, however the model seems to do a decent job of predicting the correct range for the values. \n",
    "\n",
    "An interesting next step would be to split the initial dataframe such that exactly one year of data is set aside for testing, and see if the performance improves for March-May."
   ]
  },
  {
   "cell_type": "code",
   "execution_count": null,
   "id": "380ddf1e-5369-40c3-b864-3ff1bd54b4a6",
   "metadata": {},
   "outputs": [],
   "source": []
  }
 ],
 "metadata": {
  "kernelspec": {
   "display_name": "Python 3 (ipykernel)",
   "language": "python",
   "name": "python3"
  },
  "language_info": {
   "codemirror_mode": {
    "name": "ipython",
    "version": 3
   },
   "file_extension": ".py",
   "mimetype": "text/x-python",
   "name": "python",
   "nbconvert_exporter": "python",
   "pygments_lexer": "ipython3",
   "version": "3.9.12"
  }
 },
 "nbformat": 4,
 "nbformat_minor": 5
}
