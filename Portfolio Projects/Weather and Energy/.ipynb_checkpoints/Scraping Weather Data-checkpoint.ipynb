{
 "cells": [
  {
   "cell_type": "code",
   "execution_count": 2,
   "id": "0c432ef4-1f5e-4719-8c05-8436006577d5",
   "metadata": {},
   "outputs": [],
   "source": [
    "import pandas as pd\n",
    "import time\n",
    "import datetime\n",
    "import pprint"
   ]
  },
  {
   "cell_type": "markdown",
   "id": "b37353ab-4e82-4c72-8ff3-7cda3e0a55e5",
   "metadata": {},
   "source": [
    "Using NOAA's API to request weather data\n",
    "\n",
    "First requested a web services token to gain access to NCDC CDO Web Services\n",
    "\n",
    "Base URL: https://www.ncei.noaa.gov/cdo-web/api/v2/{endpoint}\n",
    "\n",
    "California id: FIPS:06\n",
    "\n",
    "Finding Station's with coverage in our date range and high coverage %:\n",
    "\n",
    "\n",
    "https://www.ncdc.noaa.gov/cdo-web/datatools/findstation\n",
    "\n",
    "Daily Summaries datasetid: GHCND\n",
    "\n",
    "Average Temperature datatypeid: TAVG\n"
   ]
  },
  {
   "cell_type": "code",
   "execution_count": 27,
   "id": "7ac8d2a8-28e2-49ca-8676-42be08522199",
   "metadata": {},
   "outputs": [],
   "source": [
    "station_Locations = {'Los Angeles International Airport': 'GHCND:USW00023174', 'San Diego Airport':'GHCND:USW00023188',\n",
    "                     'San Francisco Downtown': 'GHCND:USW00023272', 'FRESNO YOSEMITE INTERNATIONAL': 'GHCND:USW00093193', 'SACRAMENTO METROPOLITAN AIRPORT': 'GHCND:USW00093225',\n",
    "                    'San Jose': 'GHCND:USW00023293', 'Ontario Airport': 'GHCND:USW00003102'}"
   ]
  },
  {
   "cell_type": "markdown",
   "id": "498ddb2b-a27c-4d50-80ca-2f103050774d",
   "metadata": {},
   "source": [
    "Use Python's requests librarty to request the data "
   ]
  },
  {
   "cell_type": "code",
   "execution_count": 4,
   "id": "90f296b4-e52e-4354-abc2-56d85b349176",
   "metadata": {},
   "outputs": [],
   "source": [
    "import requests\n",
    "import pandas as pd\n",
    "import json\n",
    "#JSON (JavaScript Object Notation)\n",
    "import numpy as np\n",
    "from datetime import datetime"
   ]
  },
  {
   "cell_type": "code",
   "execution_count": 5,
   "id": "d40c5555-4977-49c2-9721-b8899b9129b7",
   "metadata": {},
   "outputs": [],
   "source": [
    "Token = 'hQydPwXyKFJqTouAbHmKjHxEDfDQxdLC'"
   ]
  },
  {
   "cell_type": "code",
   "execution_count": 7,
   "id": "daa924e0-cd4a-4e4b-be84-c19542bfdaca",
   "metadata": {},
   "outputs": [],
   "source": [
    "CA_id = 'FIPS:06'"
   ]
  },
  {
   "cell_type": "markdown",
   "id": "69ac961c-5076-4c30-9a7b-b189487ed3d6",
   "metadata": {},
   "source": [
    "There are 1487 dates in our range. Therefore, the API will have to be called twice because there is a 1000 item maximum item limit per call and we are grabbing daily average values. The halfway mark is 04/23/2020."
   ]
  },
  {
   "cell_type": "markdown",
   "id": "670012fe-79dd-4467-aba7-270ef1b87de3",
   "metadata": {},
   "source": [
    "https://www.ncdc.noaa.gov/cdo-web/api/v2/data?datasetid=GHCND&datatypeid=TAVG&limit=1000&stationid=GHCND:US1CALA0089&startdate=2018-04-10&enddate=2020-04-23\n",
    "https://www.ncdc.noaa.gov/cdo-web/api/v2/data?datasetid=GHCND&datatypeid=TAVG&limit=1000&stationid=GHCND:US1CALA0089&startdate=2020-04-24&enddate=2022-05-05"
   ]
  },
  {
   "cell_type": "code",
   "execution_count": 40,
   "id": "21959078-f6b0-4019-93bd-dbfe16d8eb9d",
   "metadata": {},
   "outputs": [],
   "source": [
    "year = '2019'\n",
    "# r = requests.get('https://www.ncdc.noaa.gov/cdo-web/api/v2/stations?datasetid=GHCND&datatypeid=TAVG&limit=1000&locationid=FIPS:06&sortfield=datacoverage&startdate='+year+'-01-01&enddate='+year+'-12-31', headers={'token':Token})\n",
    "r = requests.get('https://www.ncdc.noaa.gov/cdo-web/api/v2/stations?datasetid=GHCND&datatypeid=TAVG&limit=1000&locationid=FIPS:06&sortfield=datacoverage&startdate='+year+'-01-01&enddate='+year+'-12-31', headers={'token':Token})\n",
    "d = json.loads(r.text)\n",
    "#d displays CA weather stations with TAVG data for our date range, sorted by data coverage %. Only 100% data sets work with the code as written, so selecting locations accordingly."
   ]
  },
  {
   "cell_type": "code",
   "execution_count": null,
   "id": "5ef37274-6f99-470a-b8c2-52c849979f15",
   "metadata": {},
   "outputs": [],
   "source": [
    "d"
   ]
  },
  {
   "cell_type": "code",
   "execution_count": 277,
   "id": "c7d85ceb-611d-4035-bde6-803c75095ec2",
   "metadata": {},
   "outputs": [],
   "source": [
    "station_id = 'GHCND:USW00003102'\n",
    "year = '2019'\n",
    "r = requests.get('https://www.ncdc.noaa.gov/cdo-web/api/v2/data?datasetid=GHCND&datatypeid=TAVG&limit=1000&stationid='+station_id+'&startdate='+year+'-01-01&enddate='+year+'-12-31', headers={'token':Token})\n",
    "d = json.loads(r.text)"
   ]
  },
  {
   "cell_type": "code",
   "execution_count": 278,
   "id": "90fa4149-f35d-462e-96b6-c28c77f284fb",
   "metadata": {},
   "outputs": [
    {
     "data": {
      "text/plain": [
       "{}"
      ]
     },
     "execution_count": 278,
     "metadata": {},
     "output_type": "execute_result"
    }
   ],
   "source": [
    "d"
   ]
  },
  {
   "cell_type": "code",
   "execution_count": 31,
   "id": "4de30749-26d0-4463-8369-787c31da7e5d",
   "metadata": {},
   "outputs": [
    {
     "data": {
      "text/plain": [
       "dict_values(['GHCND:USW00023174', 'GHCND:USW00023188', 'GHCND:USW00023272', 'GHCND:USW00093193', 'GHCND:USW00093225', 'GHCND:USW00023293', 'GHCND:USW00003102'])"
      ]
     },
     "execution_count": 31,
     "metadata": {},
     "output_type": "execute_result"
    }
   ],
   "source": [
    "station_Locations.values()"
   ]
  },
  {
   "cell_type": "code",
   "execution_count": 32,
   "id": "4ab7eed2-d1e4-461d-a7b5-749b8197e7c7",
   "metadata": {},
   "outputs": [
    {
     "name": "stdout",
     "output_type": "stream",
     "text": [
      "Working on year 2018 for station GHCND:USW00023174.\n",
      "Working on year 2019 for station GHCND:USW00023174.\n",
      "Working on year 2020 for station GHCND:USW00023174.\n",
      "Working on year 2021 for station GHCND:USW00023174.\n",
      "Working on year 2022 for station GHCND:USW00023174.\n",
      "Working on year 2018 for station GHCND:USW00023188.\n",
      "Working on year 2019 for station GHCND:USW00023188.\n",
      "Working on year 2020 for station GHCND:USW00023188.\n",
      "Working on year 2021 for station GHCND:USW00023188.\n",
      "Working on year 2022 for station GHCND:USW00023188.\n",
      "Working on year 2018 for station GHCND:USW00023272.\n",
      "Working on year 2019 for station GHCND:USW00023272.\n",
      "Working on year 2020 for station GHCND:USW00023272.\n",
      "Working on year 2021 for station GHCND:USW00023272.\n",
      "Working on year 2022 for station GHCND:USW00023272.\n",
      "Working on year 2018 for station GHCND:USW00093193.\n",
      "Working on year 2019 for station GHCND:USW00093193.\n",
      "Working on year 2020 for station GHCND:USW00093193.\n",
      "Working on year 2021 for station GHCND:USW00093193.\n",
      "Working on year 2022 for station GHCND:USW00093193.\n",
      "Working on year 2018 for station GHCND:USW00093225.\n",
      "Working on year 2019 for station GHCND:USW00093225.\n",
      "Working on year 2020 for station GHCND:USW00093225.\n",
      "Working on year 2021 for station GHCND:USW00093225.\n",
      "Working on year 2022 for station GHCND:USW00093225.\n",
      "Working on year 2018 for station GHCND:USW00023293.\n",
      "Working on year 2019 for station GHCND:USW00023293.\n",
      "Working on year 2020 for station GHCND:USW00023293.\n",
      "Working on year 2021 for station GHCND:USW00023293.\n",
      "Working on year 2022 for station GHCND:USW00023293.\n",
      "Working on year 2018 for station GHCND:USW00003102.\n",
      "Working on year 2019 for station GHCND:USW00003102.\n",
      "Working on year 2020 for station GHCND:USW00003102.\n",
      "Working on year 2021 for station GHCND:USW00003102.\n",
      "Working on year 2022 for station GHCND:USW00003102.\n"
     ]
    }
   ],
   "source": [
    "#Initialize empty lists\n",
    "dates = []\n",
    "max_temp_values = []\n",
    "min_temp_values = []\n",
    "avg_temp_values = []\n",
    "stations = []\n",
    "\n",
    "#Assign the station list to the values from the dictionary of stations of interest\n",
    "station_list = station_Locations.values()\n",
    "\n",
    "\n",
    "\n",
    "#Scraping data from station_locations in 2018-2022\n",
    "for station_id in station_list:\n",
    "    for year in range(2018, 2023):\n",
    "        try:\n",
    "            year = str(year)\n",
    "            #print progress\n",
    "            print('Working on year {} for station {}.'.format(year, station_id))\n",
    "\n",
    "            #make the api call\n",
    "            r = requests.get('https://www.ncdc.noaa.gov/cdo-web/api/v2/data?datasetid=GHCND&datatypeid=TMAX&datatypeid=TMIN&units=standard&limit=1000&stationid='+station_id+'&startdate='+year+'-01-01&enddate='+year+'-12-31', headers={'token':Token})\n",
    "            # Using the JSON library to deserialize the text attribute of the r object\n",
    "            d = json.loads(r.text)\n",
    "            #get all TMAX and TMIN items in the response \n",
    "            max_temps = [item for item in d['results'] if item['datatype']=='TMAX']\n",
    "            min_temps = [item for item in d['results'] if item['datatype']=='TMIN']\n",
    "\n",
    "            #get the date field from all temp readings\n",
    "            dates += [item['date'] for item in max_temps]\n",
    "            \n",
    "            #get the actual values of the min and max temps \n",
    "            max_temp_values += [item['value'] for item in max_temps]\n",
    "            min_temp_values += [item['value'] for item in min_temps]\n",
    "            \n",
    "            #get the station field\n",
    "            stations += [item['station'] for item in max_temps]\n",
    "            \n",
    "        except:\n",
    "            pass\n",
    "\n"
   ]
  },
  {
   "cell_type": "markdown",
   "id": "e498128c-61aa-4e27-a9d5-f62bd53ff8b2",
   "metadata": {},
   "source": [
    "The length of min_temp_values was != the length of the max_temp_values, so I will have to run the script again for the minimum values and collect those dates, since I (incorrectly) assumed the dates would be the same between the two columns when requesting the data. "
   ]
  },
  {
   "cell_type": "code",
   "execution_count": 48,
   "id": "8c663ef0-8e4a-423d-a1ba-2e494d5d0774",
   "metadata": {},
   "outputs": [],
   "source": [
    "weather_df = pd.DataFrame(columns=['Date', 'Max Temp', 'Station ID'])\n",
    "weather_df['Date'] = [datetime.strptime(d, \"%Y-%m-%dT%H:%M:%S\") for d in dates]\n",
    "weather_df['Max Temp'] = max_temp_values\n",
    "#weather_df['Min Temp'] = min_temp_values\n",
    "weather_df['Station ID'] = stations\n",
    "\n",
    "#Creating a column of station location names. Since original dictionary had the location names as the keys, I created a new dict with them as the values so they could be mapped.\n",
    "swapped_dict = dict([(value, key) for key, value in station_Locations.items()])\n",
    "weather_df['Station Location'] = weather_df['Station ID'].map(swapped_dict)"
   ]
  },
  {
   "cell_type": "code",
   "execution_count": 47,
   "id": "52b1c07e-7f6c-4760-82ee-8b12f86a5e18",
   "metadata": {},
   "outputs": [
    {
     "data": {
      "text/html": [
       "<div>\n",
       "<style scoped>\n",
       "    .dataframe tbody tr th:only-of-type {\n",
       "        vertical-align: middle;\n",
       "    }\n",
       "\n",
       "    .dataframe tbody tr th {\n",
       "        vertical-align: top;\n",
       "    }\n",
       "\n",
       "    .dataframe thead th {\n",
       "        text-align: right;\n",
       "    }\n",
       "</style>\n",
       "<table border=\"1\" class=\"dataframe\">\n",
       "  <thead>\n",
       "    <tr style=\"text-align: right;\">\n",
       "      <th></th>\n",
       "      <th>Date</th>\n",
       "      <th>Max Temp</th>\n",
       "      <th>Station ID</th>\n",
       "      <th>Station Location</th>\n",
       "    </tr>\n",
       "  </thead>\n",
       "  <tbody>\n",
       "    <tr>\n",
       "      <th>0</th>\n",
       "      <td>2018-01-01</td>\n",
       "      <td>67.0</td>\n",
       "      <td>GHCND:USW00023174</td>\n",
       "      <td>Los Angeles International Airport</td>\n",
       "    </tr>\n",
       "    <tr>\n",
       "      <th>1</th>\n",
       "      <td>2018-01-02</td>\n",
       "      <td>76.0</td>\n",
       "      <td>GHCND:USW00023174</td>\n",
       "      <td>Los Angeles International Airport</td>\n",
       "    </tr>\n",
       "    <tr>\n",
       "      <th>2</th>\n",
       "      <td>2018-01-03</td>\n",
       "      <td>76.0</td>\n",
       "      <td>GHCND:USW00023174</td>\n",
       "      <td>Los Angeles International Airport</td>\n",
       "    </tr>\n",
       "    <tr>\n",
       "      <th>3</th>\n",
       "      <td>2018-01-04</td>\n",
       "      <td>74.0</td>\n",
       "      <td>GHCND:USW00023174</td>\n",
       "      <td>Los Angeles International Airport</td>\n",
       "    </tr>\n",
       "    <tr>\n",
       "      <th>4</th>\n",
       "      <td>2018-01-05</td>\n",
       "      <td>69.0</td>\n",
       "      <td>GHCND:USW00023174</td>\n",
       "      <td>Los Angeles International Airport</td>\n",
       "    </tr>\n",
       "  </tbody>\n",
       "</table>\n",
       "</div>"
      ],
      "text/plain": [
       "        Date  Max Temp         Station ID                   Station Location\n",
       "0 2018-01-01      67.0  GHCND:USW00023174  Los Angeles International Airport\n",
       "1 2018-01-02      76.0  GHCND:USW00023174  Los Angeles International Airport\n",
       "2 2018-01-03      76.0  GHCND:USW00023174  Los Angeles International Airport\n",
       "3 2018-01-04      74.0  GHCND:USW00023174  Los Angeles International Airport\n",
       "4 2018-01-05      69.0  GHCND:USW00023174  Los Angeles International Airport"
      ]
     },
     "execution_count": 47,
     "metadata": {},
     "output_type": "execute_result"
    }
   ],
   "source": [
    "weather_df.head(5)"
   ]
  },
  {
   "cell_type": "code",
   "execution_count": 56,
   "id": "0bda6e36-3cce-4e55-bcf4-d3e3869e2a30",
   "metadata": {},
   "outputs": [],
   "source": [
    "#weather_df.to_csv('MaxTempData.csv')"
   ]
  },
  {
   "cell_type": "code",
   "execution_count": 62,
   "id": "a8ab8437-3280-481b-aaa6-2e407d8a6c7e",
   "metadata": {},
   "outputs": [
    {
     "data": {
      "text/plain": [
       "array(['Los Angeles International Airport', 'San Diego Airport',\n",
       "       'San Francisco Downtown', 'FRESNO YOSEMITE INTERNATIONAL',\n",
       "       'SACRAMENTO METROPOLITAN AIRPORT', 'San Jose', 'Ontario Airport'],\n",
       "      dtype=object)"
      ]
     },
     "execution_count": 62,
     "metadata": {},
     "output_type": "execute_result"
    }
   ],
   "source": [
    "weather_df['Station Location'].unique()"
   ]
  },
  {
   "cell_type": "code",
   "execution_count": 63,
   "id": "61ae6bee-9cfd-40df-86ef-ea0fe93b7b79",
   "metadata": {},
   "outputs": [
    {
     "name": "stdout",
     "output_type": "stream",
     "text": [
      "Working on year 2018 for station GHCND:USW00023174.\n",
      "Working on year 2019 for station GHCND:USW00023174.\n",
      "Working on year 2020 for station GHCND:USW00023174.\n",
      "Working on year 2021 for station GHCND:USW00023174.\n",
      "Working on year 2022 for station GHCND:USW00023174.\n",
      "Working on year 2018 for station GHCND:USW00023188.\n",
      "Working on year 2019 for station GHCND:USW00023188.\n",
      "Working on year 2020 for station GHCND:USW00023188.\n",
      "Working on year 2021 for station GHCND:USW00023188.\n",
      "Working on year 2022 for station GHCND:USW00023188.\n",
      "Working on year 2018 for station GHCND:USW00023272.\n",
      "Working on year 2019 for station GHCND:USW00023272.\n",
      "Working on year 2020 for station GHCND:USW00023272.\n",
      "Working on year 2021 for station GHCND:USW00023272.\n",
      "Working on year 2022 for station GHCND:USW00023272.\n",
      "Working on year 2018 for station GHCND:USW00093193.\n",
      "Working on year 2019 for station GHCND:USW00093193.\n",
      "Working on year 2020 for station GHCND:USW00093193.\n",
      "Working on year 2021 for station GHCND:USW00093193.\n",
      "Working on year 2022 for station GHCND:USW00093193.\n",
      "Working on year 2018 for station GHCND:USW00093225.\n",
      "Working on year 2019 for station GHCND:USW00093225.\n",
      "Working on year 2020 for station GHCND:USW00093225.\n",
      "Working on year 2021 for station GHCND:USW00093225.\n",
      "Working on year 2022 for station GHCND:USW00093225.\n",
      "Working on year 2018 for station GHCND:USW00023293.\n",
      "Working on year 2019 for station GHCND:USW00023293.\n",
      "Working on year 2020 for station GHCND:USW00023293.\n",
      "Working on year 2021 for station GHCND:USW00023293.\n",
      "Working on year 2022 for station GHCND:USW00023293.\n",
      "Working on year 2018 for station GHCND:USW00003102.\n",
      "Working on year 2019 for station GHCND:USW00003102.\n",
      "Working on year 2020 for station GHCND:USW00003102.\n",
      "Working on year 2021 for station GHCND:USW00003102.\n",
      "Working on year 2022 for station GHCND:USW00003102.\n"
     ]
    }
   ],
   "source": [
    "#Perform data requests again but this time for minimum temperature values\n",
    "dates = []\n",
    "min_temp_values = []\n",
    "avg_temp_values = []\n",
    "stations = []\n",
    "\n",
    "#Assign the station list to the values from the dictionary of stations of interest\n",
    "station_list = station_Locations.values()\n",
    "\n",
    "\n",
    "\n",
    "#Scraping data from station_locations in 2018-2022\n",
    "for station_id in station_list:\n",
    "    for year in range(2018, 2023):\n",
    "        try:\n",
    "            year = str(year)\n",
    "            #print progress\n",
    "            print('Working on year {} for station {}.'.format(year, station_id))\n",
    "\n",
    "            #make the api call\n",
    "            r = requests.get('https://www.ncdc.noaa.gov/cdo-web/api/v2/data?datasetid=GHCND&datatypeid=TMIN&units=standard&limit=1000&stationid='+station_id+'&startdate='+year+'-01-01&enddate='+year+'-12-31', headers={'token':Token})\n",
    "            # Using the JSON library to deserialize the text attribute of the r object\n",
    "            d = json.loads(r.text)\n",
    "            #get all TMIN items in the response \n",
    "            min_temps = [item for item in d['results'] if item['datatype']=='TMIN']\n",
    "\n",
    "            #get the date field from all temp readings\n",
    "            dates += [item['date'] for item in min_temps]\n",
    "            \n",
    "            #get the actual values of the min and max temps \n",
    "            min_temp_values += [item['value'] for item in min_temps]\n",
    "            \n",
    "            #get the station field\n",
    "            stations += [item['station'] for item in min_temps]\n",
    "            \n",
    "        except:\n",
    "            pass\n"
   ]
  },
  {
   "cell_type": "code",
   "execution_count": 96,
   "id": "9b85d98c-ac84-41b2-9384-6b7be0fb232e",
   "metadata": {},
   "outputs": [],
   "source": [
    "min_weather_df = pd.DataFrame(columns=['Date', 'Min Temp', 'Station ID'])\n",
    "min_weather_df['Date'] = [datetime.strptime(d, \"%Y-%m-%dT%H:%M:%S\") for d in dates]\n",
    "min_weather_df['Min Temp'] = min_temp_values\n",
    "min_weather_df['Station ID'] = stations\n",
    "min_weather_df['Station Location'] = min_weather_df['Station ID'].map(swapped_dict)"
   ]
  },
  {
   "cell_type": "code",
   "execution_count": 68,
   "id": "12f2b8d4-2897-4c95-9ee4-4c7ef0961a1a",
   "metadata": {},
   "outputs": [
    {
     "data": {
      "text/plain": [
       "{'GHCND:USW00023174': 'Los Angeles International Airport',\n",
       " 'GHCND:USW00023188': 'San Diego Airport',\n",
       " 'GHCND:USW00023272': 'San Francisco Downtown',\n",
       " 'GHCND:USW00093193': 'FRESNO YOSEMITE INTERNATIONAL',\n",
       " 'GHCND:USW00093225': 'SACRAMENTO METROPOLITAN AIRPORT',\n",
       " 'GHCND:USW00023293': 'San Jose',\n",
       " 'GHCND:USW00003102': 'Ontario Airport'}"
      ]
     },
     "execution_count": 68,
     "metadata": {},
     "output_type": "execute_result"
    }
   ],
   "source": [
    "swapped_dict"
   ]
  },
  {
   "cell_type": "code",
   "execution_count": 98,
   "id": "59252012-7a02-489f-aaf2-bc1758d062ab",
   "metadata": {},
   "outputs": [
    {
     "data": {
      "text/html": [
       "<div>\n",
       "<style scoped>\n",
       "    .dataframe tbody tr th:only-of-type {\n",
       "        vertical-align: middle;\n",
       "    }\n",
       "\n",
       "    .dataframe tbody tr th {\n",
       "        vertical-align: top;\n",
       "    }\n",
       "\n",
       "    .dataframe thead th {\n",
       "        text-align: right;\n",
       "    }\n",
       "</style>\n",
       "<table border=\"1\" class=\"dataframe\">\n",
       "  <thead>\n",
       "    <tr style=\"text-align: right;\">\n",
       "      <th></th>\n",
       "      <th>Date</th>\n",
       "      <th>Min Temp</th>\n",
       "      <th>Station ID</th>\n",
       "      <th>Station Location</th>\n",
       "    </tr>\n",
       "  </thead>\n",
       "  <tbody>\n",
       "    <tr>\n",
       "      <th>0</th>\n",
       "      <td>2018-01-01</td>\n",
       "      <td>48.0</td>\n",
       "      <td>GHCND:USW00023174</td>\n",
       "      <td>Los Angeles International Airport</td>\n",
       "    </tr>\n",
       "    <tr>\n",
       "      <th>1</th>\n",
       "      <td>2018-01-02</td>\n",
       "      <td>54.0</td>\n",
       "      <td>GHCND:USW00023174</td>\n",
       "      <td>Los Angeles International Airport</td>\n",
       "    </tr>\n",
       "    <tr>\n",
       "      <th>2</th>\n",
       "      <td>2018-01-03</td>\n",
       "      <td>54.0</td>\n",
       "      <td>GHCND:USW00023174</td>\n",
       "      <td>Los Angeles International Airport</td>\n",
       "    </tr>\n",
       "    <tr>\n",
       "      <th>3</th>\n",
       "      <td>2018-01-04</td>\n",
       "      <td>55.0</td>\n",
       "      <td>GHCND:USW00023174</td>\n",
       "      <td>Los Angeles International Airport</td>\n",
       "    </tr>\n",
       "    <tr>\n",
       "      <th>4</th>\n",
       "      <td>2018-01-05</td>\n",
       "      <td>56.0</td>\n",
       "      <td>GHCND:USW00023174</td>\n",
       "      <td>Los Angeles International Airport</td>\n",
       "    </tr>\n",
       "    <tr>\n",
       "      <th>...</th>\n",
       "      <td>...</td>\n",
       "      <td>...</td>\n",
       "      <td>...</td>\n",
       "      <td>...</td>\n",
       "    </tr>\n",
       "    <tr>\n",
       "      <th>11129</th>\n",
       "      <td>2022-05-08</td>\n",
       "      <td>53.0</td>\n",
       "      <td>GHCND:USW00003102</td>\n",
       "      <td>Ontario Airport</td>\n",
       "    </tr>\n",
       "    <tr>\n",
       "      <th>11130</th>\n",
       "      <td>2022-05-09</td>\n",
       "      <td>52.0</td>\n",
       "      <td>GHCND:USW00003102</td>\n",
       "      <td>Ontario Airport</td>\n",
       "    </tr>\n",
       "    <tr>\n",
       "      <th>11131</th>\n",
       "      <td>2022-05-10</td>\n",
       "      <td>48.0</td>\n",
       "      <td>GHCND:USW00003102</td>\n",
       "      <td>Ontario Airport</td>\n",
       "    </tr>\n",
       "    <tr>\n",
       "      <th>11132</th>\n",
       "      <td>2022-05-11</td>\n",
       "      <td>46.0</td>\n",
       "      <td>GHCND:USW00003102</td>\n",
       "      <td>Ontario Airport</td>\n",
       "    </tr>\n",
       "    <tr>\n",
       "      <th>11133</th>\n",
       "      <td>2022-05-12</td>\n",
       "      <td>48.0</td>\n",
       "      <td>GHCND:USW00003102</td>\n",
       "      <td>Ontario Airport</td>\n",
       "    </tr>\n",
       "  </tbody>\n",
       "</table>\n",
       "<p>11134 rows × 4 columns</p>\n",
       "</div>"
      ],
      "text/plain": [
       "            Date  Min Temp         Station ID  \\\n",
       "0     2018-01-01      48.0  GHCND:USW00023174   \n",
       "1     2018-01-02      54.0  GHCND:USW00023174   \n",
       "2     2018-01-03      54.0  GHCND:USW00023174   \n",
       "3     2018-01-04      55.0  GHCND:USW00023174   \n",
       "4     2018-01-05      56.0  GHCND:USW00023174   \n",
       "...          ...       ...                ...   \n",
       "11129 2022-05-08      53.0  GHCND:USW00003102   \n",
       "11130 2022-05-09      52.0  GHCND:USW00003102   \n",
       "11131 2022-05-10      48.0  GHCND:USW00003102   \n",
       "11132 2022-05-11      46.0  GHCND:USW00003102   \n",
       "11133 2022-05-12      48.0  GHCND:USW00003102   \n",
       "\n",
       "                        Station Location  \n",
       "0      Los Angeles International Airport  \n",
       "1      Los Angeles International Airport  \n",
       "2      Los Angeles International Airport  \n",
       "3      Los Angeles International Airport  \n",
       "4      Los Angeles International Airport  \n",
       "...                                  ...  \n",
       "11129                    Ontario Airport  \n",
       "11130                    Ontario Airport  \n",
       "11131                    Ontario Airport  \n",
       "11132                    Ontario Airport  \n",
       "11133                    Ontario Airport  \n",
       "\n",
       "[11134 rows x 4 columns]"
      ]
     },
     "execution_count": 98,
     "metadata": {},
     "output_type": "execute_result"
    }
   ],
   "source": [
    "min_weather_df"
   ]
  },
  {
   "cell_type": "code",
   "execution_count": 99,
   "id": "3d3076f5-ba99-4a15-bae0-2813afe96092",
   "metadata": {},
   "outputs": [],
   "source": [
    "min_weather_df.to_csv('MinTempData.csv')"
   ]
  },
  {
   "cell_type": "code",
   "execution_count": null,
   "id": "cd7a88f7-b601-46ad-a317-39dd9aa14425",
   "metadata": {},
   "outputs": [],
   "source": []
  }
 ],
 "metadata": {
  "kernelspec": {
   "display_name": "Python 3 (ipykernel)",
   "language": "python",
   "name": "python3"
  },
  "language_info": {
   "codemirror_mode": {
    "name": "ipython",
    "version": 3
   },
   "file_extension": ".py",
   "mimetype": "text/x-python",
   "name": "python",
   "nbconvert_exporter": "python",
   "pygments_lexer": "ipython3",
   "version": "3.9.7"
  }
 },
 "nbformat": 4,
 "nbformat_minor": 5
}
